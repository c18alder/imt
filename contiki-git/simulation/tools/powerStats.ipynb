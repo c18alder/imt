{
 "cells": [
  {
   "cell_type": "code",
   "metadata": {
    "collapsed": true
   },
   "outputs": [],
   "source": [
    "%matplotlib inline\n",
    "import pandas as pd\n",
    "import matplotlib.pyplot as plt\n",
    "import numpy as np\n",
    "from sklearn import preprocessing\n"
   ]
  },
  {
   "cell_type": "code",
   "metadata": {
    "collapsed": true
   },
   "outputs": [],
   "source": [
    "pd.set_option('display.max_columns', 999)\n",
    "pd.set_option('display.max_colwidth', 300)\n",
    "np.set_printoptions(linewidth=300)\n",
    "plt.rcParams.update({'font.size': 14})"
   ]
  },
  {
   "cell_type": "code",
   "metadata": {},
   "outputs": [],
   "source": [
    "from IPython.core.display import display, HTML\n",
    "display(HTML(\"\"\"\n",
    "<style>\n",
    ".container {\n",
    "    width: 99% !important;\n",
    "}\n",
    "div.cell.selected {\n",
    "    border-left-width: 1px !important;\n",
    "}\n",
    "</style>\n",
    "\"\"\"))"
   ]
  },
  {
   "cell_type": "code",
   "metadata": {
    "collapsed": true
   },
   "outputs": [],
   "source": [
    "input_files1=\"\"\"/media/aris/portabledata/contiki-experiments/10000pkt/PRFFTDRQZ7ODERSSIFVN6KTHDBHZYLRZ/results/powerConsumption.csv\n",
    "/media/aris/portabledata/contiki-experiments/10000pkt/NPEPTG2323ONGX7NBQ3H6GY6O5M2WT24/results/powerConsumption.csv\n",
    "/media/aris/portabledata/contiki-experiments/10000pkt/QJ522MMH6JYDLJYVAZC75MWUHOXESUXP/results/powerConsumption.csv\n",
    "/media/aris/portabledata/contiki-experiments/10000pkt/VRP23D75SMRJ5APKURH6ZJ5ATCNJUUS7/results/powerConsumption.csv\n",
    "/media/aris/portabledata/contiki-experiments/10000pkt/ZFVUR2HMPVZJHCBNHRCEHL7MBG5KHDGP/results/powerConsumption.csv\n",
    "/media/aris/portabledata/contiki-experiments/10000pkt/BMRP2NQAD5ASTENY25TQUQC3PA3G4U7P/results/powerConsumption.csv\n",
    "/media/aris/portabledata/contiki-experiments/10000pkt/XCXC23H6NCG24EILSBB7HQMKK6I3GFHL/results/powerConsumption.csv\n",
    "/media/aris/portabledata/contiki-experiments/10000pkt/QEEXHUMIUGPL33FOCKUULCXOPAS5Y475/results/powerConsumption.csv\n",
    "/media/aris/portabledata/contiki-experiments/10000pkt/2M73CWFD3TS6ON7ZMFM2PJ2P3TROYDJW/results/powerConsumption.csv\n",
    "/media/aris/portabledata/contiki-experiments/10000pkt/7SR3WN7WR35FXVXLKBAJAAUAFEKZIO7A/results/powerConsumption.csv\n",
    "/media/aris/portabledata/contiki-experiments/10000pkt/YRRORTHZMSHUNZJK3FU5UDBPQIL5FYTB/results/powerConsumption.csv\n",
    "/media/aris/portabledata/contiki-experiments/10000pkt/TIKESQ6J36KTQKCMX7YRL5F75XV7JCDE/results/powerConsumption.csv\n",
    "/media/aris/portabledata/contiki-experiments/10000pkt/MTPTWECZSFU7XWYK6TTURUOKKXZF5GJ7/results/powerConsumption.csv\n",
    "/media/aris/portabledata/contiki-experiments/10000pkt/KQACKK6Z6ASIHXH5WIUNBLKCT65ZZYVF/results/powerConsumption.csv\n",
    "/media/aris/portabledata/contiki-experiments/10000pkt/ZPQSSZUEBYO4BMDCOBEICYZIHDILNMBJ/results/powerConsumption.csv\n",
    "/media/aris/portabledata/contiki-experiments/10000pkt/U72M7NEECZ2VOMC6XUQO2FINADHLNCJP/results/powerConsumption.csv\n",
    "/media/aris/portabledata/contiki-experiments/10000pkt/2GGWHC4VGXNJSULZU4OXBDWOCNG7X5IT/results/powerConsumption.csv\n",
    "/media/aris/portabledata/contiki-experiments/10000pkt/DXHROT53BSP6QVFXMJBG5RQZPGMT5UTG/results/powerConsumption.csv\n",
    "/media/aris/portabledata/contiki-experiments/10000pkt/EDQK2P2YMQ4AK7QRTWG4CLTKWIFUIPJC/results/powerConsumption.csv\n",
    "/media/aris/portabledata/contiki-experiments/10000pkt/AIVYDHSPDOOQ62S6M6CYAHDOWYJTZAIV/results/powerConsumption.csv\n",
    "/media/aris/portabledata/contiki-experiments/10000pkt/YVK4NHEG722JWNSU4F2IQNN7LB5G4PIK/results/powerConsumption.csv\n",
    "/media/aris/portabledata/contiki-experiments/10000pkt/4JQXQFBPG4HQER5YRYOG5IU7HYMGLZLY/results/powerConsumption.csv\n",
    "/media/aris/portabledata/contiki-experiments/10000pkt/T326EGQPEMLKWOTMG7OGN5T3F3563PHN/results/powerConsumption.csv\n",
    "/media/aris/portabledata/contiki-experiments/10000pkt/MX3PU3F2UXIKRNNQWBMWTPXPGJ6IDBCL/results/powerConsumption.csv\n",
    "/media/aris/portabledata/contiki-experiments/10000pkt/KAKXE2SUXGO56A62P3YVQKYOM3TH2TGY/results/powerConsumption.csv\n",
    "/media/aris/portabledata/contiki-experiments/10000pkt/EOCYPCC57FBC6PFTZAGGATIXHUGOS3BR/results/powerConsumption.csv\n",
    "/media/aris/portabledata/contiki-experiments/10000pkt/EQQSIW3SE4JIUKOQ6KWHPTCWCISMWSWZ/results/powerConsumption.csv\n",
    "/media/aris/portabledata/contiki-experiments/10000pkt/D4JZ7LOOY5IBQETAAUSHT2QJA6FT5DHJ/results/powerConsumption.csv\n",
    "/media/aris/portabledata/contiki-experiments/10000pkt/MI4JWKAWKUYFUSTCUBAEWEGWZTJ4S2Z6/results/powerConsumption.csv\n",
    "/media/aris/portabledata/contiki-experiments/10000pkt/LOOBD6XXMAG53XHGMMQXRWD7T2FDTMAI/results/powerConsumption.csv\n",
    "/media/aris/portabledata/contiki-experiments/10000pkt/XKTXP2TND2YFOM5CXH7UVS7GAV5JYJZO/results/powerConsumption.csv\n",
    "/media/aris/portabledata/contiki-experiments/10000pkt/4NAFFYZ4BMMVRJATGLZ4NIMVCQNHAOHF/results/powerConsumption.csv\n",
    "/media/aris/portabledata/contiki-experiments/10000pkt/C27OI5PZ4UXMDR4DXFFWHNDN4MZXFT4D/results/powerConsumption.csv\n",
    "/media/aris/portabledata/contiki-experiments/10000pkt/3WFQ4JHGLO2CVK2M2KAF5TNNYOCY4XYK/results/powerConsumption.csv\n",
    "/media/aris/portabledata/contiki-experiments/10000pkt/AIOM5RLN22LXG5E5ZGI65UGDAVU4VFUP/results/powerConsumption.csv\n",
    "/media/aris/portabledata/contiki-experiments/10000pkt/5T6TSDBRNC37IA4ILT6GM6Z3STFIYVPM/results/powerConsumption.csv\n",
    "/media/aris/portabledata/contiki-experiments/10000pkt/DTG5FHSWZ66DCMBGLCS67VWUFO3QUV65/results/powerConsumption.csv\n",
    "/media/aris/portabledata/contiki-experiments/10000pkt/RK5P6QPJXNL2Y33YNGQNLXPQUSGV7LI6/results/powerConsumption.csv\n",
    "/media/aris/portabledata/contiki-experiments/10000pkt/CJGAXQLWGALVPKKNEMTUA2DDXFUQ5BPO/results/powerConsumption.csv\n",
    "/media/aris/portabledata/contiki-experiments/10000pkt/4Q4TMFYGH2ZBMZ3SMD7PPUJU2GLCDIXZ/results/powerConsumption.csv\n",
    "/media/aris/portabledata/contiki-experiments/10000pkt/IE7ANHOYVTQL4ATITHRMCQLMNAXPNIXI/results/powerConsumption.csv\n",
    "/media/aris/portabledata/contiki-experiments/10000pkt/LDGSL6WNH5WVPBWC2CZVOOMTIPZ3UOKW/results/powerConsumption.csv\n",
    "/media/aris/portabledata/contiki-experiments/10000pkt/PMUTSGHU3T3KTUGYFMSPAMXD4IQR7JGU/results/powerConsumption.csv\n",
    "/media/aris/portabledata/contiki-experiments/10000pkt/YY7RDSTLREPAE263I6M47G5MYSSKUORF/results/powerConsumption.csv\n",
    "/media/aris/portabledata/contiki-experiments/10000pkt/YWRVTQOCHIICPTNAEN3YONS4DLLQK4N4/results/powerConsumption.csv\n",
    "/media/aris/portabledata/contiki-experiments/10000pkt/VMA2Z5VN2SXV2UAAMANEOSRC6UX5VJDD/results/powerConsumption.csv\n",
    "/media/aris/portabledata/contiki-experiments/10000pkt/7UKDZDSU4BLWSD26E7PJW6ILNVJUTN5L/results/powerConsumption.csv\n",
    "/media/aris/portabledata/contiki-experiments/10000pkt/WQ5POJT7GXHWZSMR3MY43I3XYYOPH7TT/results/powerConsumption.csv\n",
    "/media/aris/portabledata/contiki-experiments/10000pkt/QKBBOCCBBYH4NBBJ7H2S4H2NF7SQM576/results/powerConsumption.csv\n",
    "/media/aris/portabledata/contiki-experiments/10000pkt/URLZ2UHWURMJG5URZKJRCY4F3OAGUZMG/results/powerConsumption.csv\n",
    "/media/aris/portabledata/contiki-experiments/10000pkt/NT63ZYO5PH3NSW3QAUVIOM4ZGB4QONRD/results/powerConsumption.csv\n",
    "/media/aris/portabledata/contiki-experiments/10000pkt/QNATJC4ENS7RB3MPJURZTNK3G372S5ZQ/results/powerConsumption.csv\n",
    "/media/aris/portabledata/contiki-experiments/10000pkt/O5BQI7AHY5LWNG7WDCD3KEPYFZ7JMF66/results/powerConsumption.csv\n",
    "/media/aris/portabledata/contiki-experiments/10000pkt/VSVVDVXGNFDYMOSWMT3DNXGWZPYXHWGV/results/powerConsumption.csv\n",
    "/media/aris/portabledata/contiki-experiments/10000pkt/F6RR6AUBE34AAU3NCWPAV76UNIXOGCKH/results/powerConsumption.csv\n",
    "/media/aris/portabledata/contiki-experiments/10000pkt/JG5S7J4L2RFFGO6VBWCTMOHK6J3ZDUJH/results/powerConsumption.csv\n",
    "/media/aris/portabledata/contiki-experiments/10000pkt/ABP2B3US6VCSLGLM4IAEV66D7FRWDKNL/results/powerConsumption.csv\n",
    "/media/aris/portabledata/contiki-experiments/10000pkt/LIVLQXRF6ZHTLISJZK5L42GSSOUIBSYO/results/powerConsumption.csv\n",
    "/media/aris/portabledata/contiki-experiments/10000pkt/VDZBP7D7NNGMBJPZ7JGOBY7VWPJRKM3A/results/powerConsumption.csv\n",
    "/media/aris/portabledata/contiki-experiments/10000pkt/FM3GRNHU6PFXFJTKDEOFQWU7WTRLGN75/results/powerConsumption.csv\n",
    "/media/aris/portabledata/contiki-experiments/10000pkt/UP63BAHABAGA7DZ37T7T5IXCQRUBVJ5L/results/powerConsumption.csv\n",
    "/media/aris/portabledata/contiki-experiments/10000pkt/4HHKASB5IJ6LJT3X5RBPBADIWICMC2BM/results/powerConsumption.csv\n",
    "/media/aris/portabledata/contiki-experiments/10000pkt/LFGYHOGD4YLAL74RZ2X7AGCERZUTFP2V/results/powerConsumption.csv\n",
    "/media/aris/portabledata/contiki-experiments/10000pkt/DUJXF7WGYGT44EVAL5LV3EMQ65PZ6VJJ/results/powerConsumption.csv\n",
    "/media/aris/portabledata/contiki-experiments/10000pkt/GI2KVC5D7VYJGXMMLEVCCDPFISYXVWXO/results/powerConsumption.csv\n",
    "/media/aris/portabledata/contiki-experiments/10000pkt/6VU7CABBYL4I3DAC6ATAPB3L5OYZNQTF/results/powerConsumption.csv\n",
    "/media/aris/portabledata/contiki-experiments/10000pkt/EQWLD2S6ZJ3SNTPFIIPZEW2PAWVMHWCY/results/powerConsumption.csv\n",
    "/media/aris/portabledata/contiki-experiments/10000pkt/BXS3KEPE7IVZWSUBVCLJPKP4T7G7WUQX/results/powerConsumption.csv\n",
    "/media/aris/portabledata/contiki-experiments/10000pkt/HDOPFSZYZUX5LAPPVKPGR2ZNWDA7ZUU4/results/powerConsumption.csv\n",
    "/media/aris/portabledata/contiki-experiments/10000pkt/FKK736QGNZAT4WQCALGUXOKQBYJMPKSH/results/powerConsumption.csv\n",
    "/media/aris/portabledata/contiki-experiments/10000pkt/NDCVF2XCJZJAVB67MGNDRUIDCBCT53SW/results/powerConsumption.csv\n",
    "/media/aris/portabledata/contiki-experiments/10000pkt/OKTVGQIOPJ4DCYT3KQS73H4HFG7OVSDY/results/powerConsumption.csv\n",
    "/media/aris/portabledata/contiki-experiments/10000pkt/IEW4A7KK2RLGII5IH24QTQZWJC2WW5UJ/results/powerConsumption.csv\n",
    "/media/aris/portabledata/contiki-experiments/10000pkt/ABM2HSPBP3IDOQLS4VJY5H27B2BSZTLF/results/powerConsumption.csv\n",
    "/media/aris/portabledata/contiki-experiments/10000pkt/5RHMFWUTP5Z7SF63B7UKW4HASS2ZK4GJ/results/powerConsumption.csv\n",
    "/media/aris/portabledata/contiki-experiments/10000pkt/Q4EWTRE3LKDSUPS2TIJJLELYAKEGJQ4G/results/powerConsumption.csv\n",
    "/media/aris/portabledata/contiki-experiments/10000pkt/MNMJFOZ7NTS4LJXHYZNLIHITHWFBQ6IC/results/powerConsumption.csv\n",
    "/media/aris/portabledata/contiki-experiments/10000pkt/S6KPU6HVF65IJJ7IIJPUYTEZB7JT5MBS/results/powerConsumption.csv\n",
    "/media/aris/portabledata/contiki-experiments/10000pkt/GJQPTOAHZSS6HTTYJGCZFJZUXKOTMZ4V/results/powerConsumption.csv\n",
    "/media/aris/portabledata/contiki-experiments/10000pkt/2E66WQVFI5KKJBDXV6ILCC6MPJNYOR4B/results/powerConsumption.csv\n",
    "/media/aris/portabledata/contiki-experiments/10000pkt/2LFBYAMVP3QOPKZUJTS7RJ23LP3637MQ/results/powerConsumption.csv\n",
    "/media/aris/portabledata/contiki-experiments/10000pkt/OM5B7ORMD3J6BEM6ZISBJ46YFAXXQDPX/results/powerConsumption.csv\n",
    "/media/aris/portabledata/contiki-experiments/10000pkt/DLKIDS67RNWGXT2JKJXG7MEDU44ML2WI/results/powerConsumption.csv\n",
    "/media/aris/portabledata/contiki-experiments/10000pkt/GPX63MHIRO4NFMBAFA7KE6JQ3FIEQK4J/results/powerConsumption.csv\n",
    "/media/aris/portabledata/contiki-experiments/10000pkt/S5R3YMNFY2U652M57XKSCFGDZJDAFXIT/results/powerConsumption.csv\n",
    "/media/aris/portabledata/contiki-experiments/10000pkt/2GOKUWYOUVESAHFF2IGKHDQWRFKHBFZY/results/powerConsumption.csv\n",
    "/media/aris/portabledata/contiki-experiments/10000pkt/KC7O2UVS6JXHY4MM47EZMSC5GQNKTQ7C/results/powerConsumption.csv\n",
    "/media/aris/portabledata/contiki-experiments/10000pkt/RMOXXIS2CVELJRPN4BNCBDNHX3VENQZ3/results/powerConsumption.csv\n",
    "/media/aris/portabledata/contiki-experiments/10000pkt/BBZBYJMKO5BIBI2OQNY34NUXCDBN5BKE/results/powerConsumption.csv\n",
    "/media/aris/portabledata/contiki-experiments/10000pkt/ZJUTDFHELKATYC7ZEXNU643VJVQJS77I/results/powerConsumption.csv\n",
    "/media/aris/portabledata/contiki-experiments/10000pkt/VNLRTNKSUYGXEZRTXUWXYC2UTLVSV6TK/results/powerConsumption.csv\n",
    "/media/aris/portabledata/contiki-experiments/10000pkt/76O63VJY7GSAJ7OIIBSAOYHQR6D4XV66/results/powerConsumption.csv\n",
    "/media/aris/portabledata/contiki-experiments/10000pkt/3FRME4TEO4KAQIJE7MYZ7XOVI7HIHA6F/results/powerConsumption.csv\n",
    "/media/aris/portabledata/contiki-experiments/10000pkt/IQSNUUHOG56EQXYAHAKE2GKQEDIZNFHS/results/powerConsumption.csv\n",
    "/media/aris/portabledata/contiki-experiments/10000pkt/4L3FFF6C4IYX7UZSV7FNBW6YZJJRRFKI/results/powerConsumption.csv\n",
    "/media/aris/portabledata/contiki-experiments/10000pkt/SFB6CA752RBIRFRMZBPZJFPZVUAXWI3F/results/powerConsumption.csv\n",
    "/media/aris/portabledata/contiki-experiments/10000pkt/KA52DAM2IWZQF3VCKCOZE3J6TVY7CE4O/results/powerConsumption.csv\n",
    "/media/aris/portabledata/contiki-experiments/10000pkt/FPBPSGE7YQNJU3DSCGU4GFFKQ27GG33P/results/powerConsumption.csv\n",
    "/media/aris/portabledata/contiki-experiments/10000pkt/H2DOR6MRBMIL7KPQRJWEPDFZFWG2LLZ6/results/powerConsumption.csv\n",
    "/media/aris/portabledata/contiki-experiments/10000pkt/RQUXB6RYYLNHR2DHNXOTXKPHVRQHPSBM/results/powerConsumption.csv\n",
    "/media/aris/portabledata/contiki-experiments/10000pkt/5J3DUAWZQ6GFNM5LOPPF72Z3P342ECOZ/results/powerConsumption.csv\n",
    "/media/aris/portabledata/contiki-experiments/10000pkt/Y4NLMX7K24K47E23C5MYOFS43RDRP7HN/results/powerConsumption.csv\n",
    "/media/aris/portabledata/contiki-experiments/10000pkt/IR2HDIXOWPWTSUUV6ABTHMEODWLBZ7BG/results/powerConsumption.csv\n",
    "/media/aris/portabledata/contiki-experiments/10000pkt/O7OZX4K4STU4BM7IF4VDXXAQ3ATKL63H/results/powerConsumption.csv\n",
    "/media/aris/portabledata/contiki-experiments/10000pkt/GKQSEI4OIMKX55BMY7KP623JHACFI67R/results/powerConsumption.csv\n",
    "/media/aris/portabledata/contiki-experiments/10000pkt/A4WL54BKZME7PUQYTUXXZ5CSCZ4JQWKG/results/powerConsumption.csv\n",
    "/media/aris/portabledata/contiki-experiments/10000pkt/3CEUUWM5WKTUDBCAPM7OFGP2KBL4WGOR/results/powerConsumption.csv\n",
    "/media/aris/portabledata/contiki-experiments/10000pkt/CWBQCIWITO74KRTS2N6KKFYNLHDHP4TE/results/powerConsumption.csv\n",
    "/media/aris/portabledata/contiki-experiments/10000pkt/AWP4GC7SAMQG5BFGOUMJTKJITW3ICS2F/results/powerConsumption.csv\n",
    "/media/aris/portabledata/contiki-experiments/10000pkt/FVX4OODMFEPFCV3RBD7RMNNG2L3SIOMP/results/powerConsumption.csv\n",
    "/media/aris/portabledata/contiki-experiments/10000pkt/IOTG7LRBR2RAFDP2TEPBAV2QBDC3ULDD/results/powerConsumption.csv\n",
    "/media/aris/portabledata/contiki-experiments/10000pkt/NYINX3T73OS4J2LZUKLZ2HTWCHMSDMS4/results/powerConsumption.csv\n",
    "/media/aris/portabledata/contiki-experiments/10000pkt/XKQGMXTP2F2WAKZHUOJJBNSIEUJKUBG6/results/powerConsumption.csv\n",
    "/media/aris/portabledata/contiki-experiments/10000pkt/I766IC5D7BVXQREJJSCSOIX2O7RHXJEM/results/powerConsumption.csv\n",
    "/media/aris/portabledata/contiki-experiments/10000pkt/RGGH2KTFVY3VM5WSHJTXNVBZZTYO7MT5/results/powerConsumption.csv\n",
    "/media/aris/portabledata/contiki-experiments/10000pkt/7VFSBYMDWMJN27G45Y2ZFX2RJVVRST7C/results/powerConsumption.csv\n",
    "/media/aris/portabledata/contiki-experiments/10000pkt/NYWVJXK2BZRBIITQAS6KEYFGF6DCUBVY/results/powerConsumption.csv\n",
    "/media/aris/portabledata/contiki-experiments/10000pkt/7Y5MFL5BN43JDY7BVOMTHZYHPH4P5RYS/results/powerConsumption.csv\n",
    "/media/aris/portabledata/contiki-experiments/10000pkt/YPMKCUBBBLFKOYA2AY3HPHAZFELP5N2P/results/powerConsumption.csv\n",
    "/media/aris/portabledata/contiki-experiments/10000pkt/BOAZ7IXRSX44T3NN5IHAMTF2K7IXGJI7/results/powerConsumption.csv\"\"\".split(\"\\n\")"
   ]
  },
  {
   "cell_type": "code",
   "metadata": {
    "collapsed": true
   },
   "outputs": [],
   "source": [
    "input_files2=\"\"\"/media/aris/portabledata/contiki-experiments/10000pkt-random-links/SVKZBZPI7AZWR3OSVJE7IRGU2HUHU2SB/results/powerConsumption.csv\n",
    "/media/aris/portabledata/contiki-experiments/10000pkt-random-links/3YQ4DPJXV35ZEYRYNYOKGSDJXGDSRJUE/results/powerConsumption.csv\n",
    "/media/aris/portabledata/contiki-experiments/10000pkt-random-links/LK7776MEDQII2NRACVTDRD6N4RIPZTT3/results/powerConsumption.csv\n",
    "/media/aris/portabledata/contiki-experiments/10000pkt-random-links/4VQZXVQXP2AFKR7GE3VKDVGQL5GDSXSS/results/powerConsumption.csv\n",
    "/media/aris/portabledata/contiki-experiments/10000pkt-random-links/KKH5Z6GJQ45SL7DFYNHOC4ZO4EK4II7T/results/powerConsumption.csv\n",
    "/media/aris/portabledata/contiki-experiments/10000pkt-random-links/PT2M6L3AYX4D4ARX77LHJV6MRJSEYH4H/results/powerConsumption.csv\n",
    "/media/aris/portabledata/contiki-experiments/10000pkt-random-links/FHDVTX35GQAHP64ZVU27XEIKQTXRT3PW/results/powerConsumption.csv\n",
    "/media/aris/portabledata/contiki-experiments/10000pkt-random-links/RCC2E6VHYBY5XKI6POZBI2DJ23QLZ3FL/results/powerConsumption.csv\n",
    "/media/aris/portabledata/contiki-experiments/10000pkt-random-links/5VWEKSA3ZEXJVXBFF3YCU6M5VEHZQXWE/results/powerConsumption.csv\n",
    "/media/aris/portabledata/contiki-experiments/10000pkt-random-links/7S6ZDILPZJ36OXQJCJR7PNVWNJ3PUNWZ/results/powerConsumption.csv\n",
    "/media/aris/portabledata/contiki-experiments/10000pkt-random-links/JNEGSYW2B6UZDBZF7VR6465RXGBYGJHF/results/powerConsumption.csv\n",
    "/media/aris/portabledata/contiki-experiments/10000pkt-random-links/BZCDLDQLFJWDS6UGJWWPXS6KBLITCYAG/results/powerConsumption.csv\n",
    "/media/aris/portabledata/contiki-experiments/10000pkt-random-links/4ABUS76EOFNWTFX2DBRBETKOKTCL6RNR/results/powerConsumption.csv\n",
    "/media/aris/portabledata/contiki-experiments/10000pkt-random-links/QD3PXQA7WG7XIIAXHRL6EHWJ7W6K6AJI/results/powerConsumption.csv\n",
    "/media/aris/portabledata/contiki-experiments/10000pkt-random-links/VGFTINWEY6CVJ7TAC5IQNBD54ESNGSDH/results/powerConsumption.csv\n",
    "/media/aris/portabledata/contiki-experiments/10000pkt-random-links/5RNNARHWISBWKNLI2YOHES3JCRCKD6BD/results/powerConsumption.csv\n",
    "/media/aris/portabledata/contiki-experiments/10000pkt-random-links/C72UPZH3GRQB2MGLAVFAG7AHYKRY3ZTN/results/powerConsumption.csv\n",
    "/media/aris/portabledata/contiki-experiments/10000pkt-random-links/URJFRSQHZU7YUGLVSWMH47KULHERV4UJ/results/powerConsumption.csv\n",
    "/media/aris/portabledata/contiki-experiments/10000pkt-random-links/YX2VKWRNL6GI24CJ2TNMPCKDFA5WUGHW/results/powerConsumption.csv\n",
    "/media/aris/portabledata/contiki-experiments/10000pkt-random-links/JBE2BGKG7PJZBNXJ56QUI3CKWE3XR4AJ/results/powerConsumption.csv\n",
    "/media/aris/portabledata/contiki-experiments/10000pkt-random-links/KEWQMBNGINFENHX2B5CPOLNC7ZNXSY5Z/results/powerConsumption.csv\n",
    "/media/aris/portabledata/contiki-experiments/10000pkt-random-links/5NEZN2UFPS4D7CDU3FQFPKBELZPFAZRQ/results/powerConsumption.csv\n",
    "/media/aris/portabledata/contiki-experiments/10000pkt-random-links/GD5WNKYV6X4AXJIQZYJCBPTAC3R3ODKX/results/powerConsumption.csv\n",
    "/media/aris/portabledata/contiki-experiments/10000pkt-random-links/NQDHHP2AF2N6EVBBE6CNCMSHZTKFEVL2/results/powerConsumption.csv\n",
    "/media/aris/portabledata/contiki-experiments/10000pkt-random-links/OP5RQFR6GILRGWCKP2MP7NJ5BCLS5ZG5/results/powerConsumption.csv\n",
    "/media/aris/portabledata/contiki-experiments/10000pkt-random-links/NTGUUYKQTIHLGDQDOZU4BZ3VZXQSOMJU/results/powerConsumption.csv\n",
    "/media/aris/portabledata/contiki-experiments/10000pkt-random-links/GOICCJCJMSVJUITUYMN5EKVXSLTQLQZF/results/powerConsumption.csv\n",
    "/media/aris/portabledata/contiki-experiments/10000pkt-random-links/ZYR6AOKCH7YNRZFWSLZLT5WJOVQFEMNU/results/powerConsumption.csv\n",
    "/media/aris/portabledata/contiki-experiments/10000pkt-random-links/VEHVB32MNB2IHD5CAD6P3LIG72537ZYZ/results/powerConsumption.csv\n",
    "/media/aris/portabledata/contiki-experiments/10000pkt-random-links/GVTAPEDYLTN6T7YAV7CUBL4JOFSAP5RJ/results/powerConsumption.csv\n",
    "/media/aris/portabledata/contiki-experiments/10000pkt-random-links/Z2HPZWNGI7VX4YZMBE5NBBE2F7JIJPO2/results/powerConsumption.csv\n",
    "/media/aris/portabledata/contiki-experiments/10000pkt-random-links/QUW6UG24K57PCELFOG7L5JDIJBAWQ5SM/results/powerConsumption.csv\n",
    "/media/aris/portabledata/contiki-experiments/10000pkt-random-links/4FUBUO3HFEIZNWM5A3PMXXWLXGMWHVUZ/results/powerConsumption.csv\n",
    "/media/aris/portabledata/contiki-experiments/10000pkt-random-links/MUBZ35QUOJFVYW3PKKZAHJSEOIWPZF5D/results/powerConsumption.csv\n",
    "/media/aris/portabledata/contiki-experiments/10000pkt-random-links/2BDLFOB4GILXW2CLZ3CYIQ7KIJPHREU2/results/powerConsumption.csv\n",
    "/media/aris/portabledata/contiki-experiments/10000pkt-random-links/6IETYARZNSTKPJEWWMLO3UYTP6X7UVO2/results/powerConsumption.csv\n",
    "/media/aris/portabledata/contiki-experiments/10000pkt-random-links/LNP2Y6ME2PRDAUMKQU7AZNLK2B7VLL25/results/powerConsumption.csv\n",
    "/media/aris/portabledata/contiki-experiments/10000pkt-random-links/MFRYRHJ5HPLJNBPS4PHW7EJCSHSWPFOQ/results/powerConsumption.csv\n",
    "/media/aris/portabledata/contiki-experiments/10000pkt-random-links/6BQDDZXU3POF6HMLWTW26FUZQOK3LXHP/results/powerConsumption.csv\n",
    "/media/aris/portabledata/contiki-experiments/10000pkt-random-links/66E3WXGHINON7UCEUCRAYPLGRQXRRU2G/results/powerConsumption.csv\"\"\".split(\"\\n\")"
   ]
  },
  {
   "cell_type": "code",
   "metadata": {
    "collapsed": true
   },
   "outputs": [],
   "source": [
    "input_files3=\"\"\"/media/aris/portabledata/contiki-experiments/10000pkt-linkpeek/XBBIOGALRRKJGNT22RO3KKM6E2SUU5HY/results/powerConsumption.csv\n",
    "/media/aris/portabledata/contiki-experiments/10000pkt-linkpeek/D4RPCTNQPH2RRRSG5YW7GOFCJZZXDY2E/results/powerConsumption.csv\n",
    "/media/aris/portabledata/contiki-experiments/10000pkt-linkpeek/A4JZTARIFHGY6FIHGRDAF2WPOOHN2XJO/results/powerConsumption.csv\n",
    "/media/aris/portabledata/contiki-experiments/10000pkt-linkpeek/DC6CPER7H4NUXVZJU3UPT6DX2IF4FN5F/results/powerConsumption.csv\n",
    "/media/aris/portabledata/contiki-experiments/10000pkt-linkpeek/736M7ARLD4WX3A37VQGUMGKOP3E3NMQM/results/powerConsumption.csv\n",
    "/media/aris/portabledata/contiki-experiments/10000pkt-linkpeek/SIBDCEPBMCWASHFQNSJS4A7XTOVGUONB/results/powerConsumption.csv\n",
    "/media/aris/portabledata/contiki-experiments/10000pkt-linkpeek/PV6UDS5RFJEHBOFCEJQRJNQTT4HJBDRH/results/powerConsumption.csv\n",
    "/media/aris/portabledata/contiki-experiments/10000pkt-linkpeek/EHNZWCMCXSKBGB2N2UBFANLHTI5PVXEL/results/powerConsumption.csv\n",
    "/media/aris/portabledata/contiki-experiments/10000pkt-linkpeek/E7XL5R4NBN3OAG7PEDPN7DMEQCA7PLQS/results/powerConsumption.csv\n",
    "/media/aris/portabledata/contiki-experiments/10000pkt-linkpeek/OTUBJG6N3LRTTD4MIZIVRXPS5O6WIONW/results/powerConsumption.csv\n",
    "/media/aris/portabledata/contiki-experiments/10000pkt-linkpeek/AL62FC3HMPGXWAS5MY5HRQVSDQZSWZSZ/results/powerConsumption.csv\n",
    "/media/aris/portabledata/contiki-experiments/10000pkt-linkpeek/FND6K7AJYZLFR6GN5U3HNSPZH5DZL26X/results/powerConsumption.csv\n",
    "/media/aris/portabledata/contiki-experiments/10000pkt-linkpeek/V2KWDIAGE7ROYACXEA6QQI7LOASWWWKS/results/powerConsumption.csv\n",
    "/media/aris/portabledata/contiki-experiments/10000pkt-linkpeek/LH62ASGT3Z6M3YNIBBDHUX5TMW3WAU7L/results/powerConsumption.csv\n",
    "/media/aris/portabledata/contiki-experiments/10000pkt-linkpeek/UQ7YD43E2DMMUSJ543WLSWXLWDQ5FWAF/results/powerConsumption.csv\n",
    "/media/aris/portabledata/contiki-experiments/10000pkt-linkpeek/WNHYWXJLHKNDGAUD4W234RNWPE2UUEXG/results/powerConsumption.csv\n",
    "/media/aris/portabledata/contiki-experiments/10000pkt-linkpeek/7L7DKJFBF3BWKBQTFZJNP4UB2LLMVJMK/results/powerConsumption.csv\n",
    "/media/aris/portabledata/contiki-experiments/10000pkt-linkpeek/LADJ4KYZD5M5XQRNWFMW3HY5QMRE6EFA/results/powerConsumption.csv\n",
    "/media/aris/portabledata/contiki-experiments/10000pkt-linkpeek/LF5MQHMWZZEFZ3CZFVCSLZWK24FHQVK7/results/powerConsumption.csv\n",
    "/media/aris/portabledata/contiki-experiments/10000pkt-linkpeek/FRWPBD3OG3JFS47ALVHXQGQD64ZV2ZKB/results/powerConsumption.csv\"\"\".split(\"\\n\")"
   ]
  },
  {
   "cell_type": "code",
   "metadata": {},
   "outputs": [],
   "source": [
    "input_files1[0]"
   ]
  },
  {
   "cell_type": "code",
   "metadata": {},
   "outputs": [],
   "source": [
    "input_files2[0]"
   ]
  },
  {
   "cell_type": "code",
   "metadata": {
    "scrolled": true
   },
   "outputs": [],
   "source": [
    "df_list = []\n",
    "for input_file in input_files1+input_files2+input_files3:\n",
    "    df_temp = pd.read_csv(input_file, sep=';')\n",
    "    df_list.append(df_temp)\n",
    "print(len(df_list))\n",
    "df = pd.concat(df_list)\n",
    "df_backup = df.copy()\n",
    "df[14:17]"
   ]
  },
  {
   "cell_type": "code",
   "metadata": {
    "scrolled": true
   },
   "outputs": [],
   "source": [
    "df.shape"
   ]
  },
  {
   "cell_type": "code",
   "metadata": {},
   "outputs": [],
   "source": [
    "list(df.columns)"
   ]
  },
  {
   "cell_type": "code",
   "metadata": {
    "collapsed": true
   },
   "outputs": [],
   "source": [
    "#add this column for later where the theoretical PDR is added\n",
    "df['TheoreticalLeapfrog']=-1"
   ]
  },
  {
   "cell_type": "code",
   "metadata": {},
   "outputs": [],
   "source": [
    "list(df.columns)"
   ]
  },
  {
   "cell_type": "code",
   "metadata": {
    "collapsed": true
   },
   "outputs": [],
   "source": [
    "input_columns = ['SimDir',\n",
    " 'DataSendStartTimeInS',\n",
    " 'DataSendIntervalTimeInS',\n",
    " 'TschSchedulePrintIntervalInS',\n",
    " 'WithThunderAdaptiveEbSlot',\n",
    " 'SimulationEndTimeInS',\n",
    " 'PowertrackerIntervalTimeInS',\n",
    " 'PowertrackerInitialDelayTimeInS',\n",
    " 'RadioQualitySetTimeInS',\n",
    " 'GrandparentKillTimeInS',\n",
    " 'GrandchildOfGrandparentKillMoteId',\n",
    " 'RandomSeedNumber',\n",
    " 'TschConfMacMaxFrameRetries',\n",
    " 'LeapfrogRetries',\n",
    " 'RadioQualitySetQualityInPercent',\n",
    " 'RadioQualitySetRootQualityInPercent',\n",
    " 'MakeWithThunder',\n",
    " 'MakeWithLinkpeek',\n",
    " 'LinkpeekDefaultMaxParents',\n",
    " 'MakeWithLeapfrog',\n",
    " 'WithOverhearing',\n",
    " 'RadioQualityRandomSetMinQualityInPercent',\n",
    " 'RadioQualityRandomSetMaxQualityInPercent',\n",
    " 'RadioQualityRandomStartSetTimeInS',\n",
    " 'RadioQualityRandomSetIntervalTimeInS',\n",
    " 'TheoreticalLeapfrog']"
   ]
  },
  {
   "cell_type": "code",
   "metadata": {},
   "outputs": [],
   "source": [
    "output_columns = list(set(df.columns) - set(input_columns))\n",
    "output_columns"
   ]
  },
  {
   "cell_type": "code",
   "metadata": {
    "collapsed": true
   },
   "outputs": [],
   "source": [
    "#df.info()"
   ]
  },
  {
   "cell_type": "code",
   "metadata": {
    "collapsed": true
   },
   "outputs": [],
   "source": [
    "#Convert column types: replace float64 in columns with really only integral data with int64 and replace the NaN with an invalid integral, typically -1\n",
    "def convert_to_int(df, column_list, nan_to_value, new_type=np.int64, downcast=False):\n",
    "    for column_name in column_list:\n",
    "        df.loc[np.isnan(df[column_name]), column_name] = nan_to_value\n",
    "        if not downcast:\n",
    "            df[column_name] = df[column_name].astype(new_type)\n",
    "        else:\n",
    "            df[column_name] = pd.to_numeric(df[column_name], errors='raise', downcast='integer')\n",
    "        print(column_name, pd.unique(df[column_name]))\n",
    "    return df\n",
    "\n",
    "# converted_columns = list(set(input_columns) - set(['SimDir']))\n",
    "# convert_to_int(df, converted_columns, -1)\n"
   ]
  },
  {
   "cell_type": "code",
   "metadata": {
    "collapsed": true
   },
   "outputs": [],
   "source": [
    "#df.info()"
   ]
  },
  {
   "cell_type": "code",
   "metadata": {
    "collapsed": true
   },
   "outputs": [],
   "source": [
    "dfp1 = df[(df['MakeWithLinkpeek']==-1) & (((df['Timestamp'] > 15*60*1000*1000) & (df['Timestamp'] < 25*60*1000*1000)) | ((df['Timestamp'] > ((df['SimulationEndTimeInS']*1000*1000)-25*60*1000*1000)) & (df['Timestamp'] < ((df['SimulationEndTimeInS']*1000*1000)-15*60*1000*1000))))]\n",
    "dfp2 = df[(df['MakeWithLinkpeek']==1)  & (((df['Timestamp'] > 15*60*1000*1000) & (df['Timestamp'] < 25*60*1000*1000)) | ((df['Timestamp'] > 39600251000-20000000) & (df['Timestamp'] < 39600251000+20000000) ))]\n",
    "df = pd.concat([dfp1, dfp2])\n"
   ]
  },
  {
   "cell_type": "code",
   "metadata": {},
   "outputs": [],
   "source": [
    "(df['Timestamp']/(1000*1000*60)).describe()"
   ]
  },
  {
   "cell_type": "code",
   "metadata": {},
   "outputs": [],
   "source": [
    "group_by_columns = list(set(input_columns) -(set(input_columns) - set(df.columns)) -set(['SimDir', 'RandomSeedNumber']))\n",
    "group_by_columns"
   ]
  },
  {
   "cell_type": "code",
   "metadata": {},
   "outputs": [],
   "source": [
    "def diff_time(series):\n",
    "    assert(series.size == 2)\n",
    "    diff = series.values[1]-series.values[0]\n",
    "    assert(diff >= 0)\n",
    "    return diff\n",
    "\n",
    "dfdts = df.copy()\n",
    "\n",
    "dfdts.sort_values(['SimDir', 'Timestamp'], inplace=True)\n",
    "dfdts_grouping = dfdts.groupby(['SimDir']+group_by_columns)\n",
    "print(len(dfdts_grouping.groups))\n",
    "aggregation_dict = {\n",
    "    'On': {'diff':diff_time}, \n",
    "    'Monitored': {'diff':diff_time}, \n",
    "    'Tx': {'diff':diff_time}, \n",
    "    'Rx': {'diff':diff_time}, \n",
    "    'Interfered': {'diff':diff_time}, \n",
    "    'Timestamp': ['min', 'max', 'count']\n",
    "}\n",
    "\n",
    "dfdtsg = dfdts_grouping.aggregate(aggregation_dict)\n",
    "dfdtsg.columns = ['_'.join(col).rstrip('_') for col in dfdtsg.columns.values]\n",
    "dfdtsg.reset_index(inplace=True)\n",
    "dfdtsg\n"
   ]
  },
  {
   "cell_type": "code",
   "metadata": {
    "collapsed": true
   },
   "outputs": [],
   "source": [
    "#df.info()"
   ]
  },
  {
   "cell_type": "code",
   "metadata": {
    "collapsed": true
   },
   "outputs": [],
   "source": [
    "dfdtsg['OnExcl_diff'] = dfdtsg['On_diff'] - (dfdtsg['Tx_diff']+dfdtsg['Rx_diff'])\n",
    "\n",
    "dfdtsg['On_diff_per_Monitored_diff'] = dfdtsg['On_diff'] / dfdtsg['Monitored_diff']\n",
    "dfdtsg['Tx_diff_per_Monitored_diff'] = dfdtsg['Tx_diff'] / dfdtsg['Monitored_diff']\n",
    "dfdtsg['Rx_diff_per_Monitored_diff'] = dfdtsg['Rx_diff'] / dfdtsg['Monitored_diff']\n",
    "dfdtsg['Interfered_diff_per_Monitored_diff'] = dfdtsg['Interfered_diff'] / dfdtsg['Monitored_diff']\n",
    "dfdtsg['OnExcl_diff_per_Monitored_diff'] = (dfdtsg['On_diff'] - (dfdtsg['Tx_diff']+dfdtsg['Rx_diff'])) / dfdtsg['Monitored_diff']\n"
   ]
  },
  {
   "cell_type": "code",
   "metadata": {
    "collapsed": true
   },
   "outputs": [],
   "source": [
    "dfs = dfdtsg"
   ]
  },
  {
   "cell_type": "code",
   "metadata": {},
   "outputs": [],
   "source": [
    "\n",
    "dfg_grouping = dfs.groupby(group_by_columns)\n",
    "print(len(dfg_grouping.groups))\n",
    "common_statistics = ['sum', 'mean', 'count', 'std', 'min', 'max', 'sem', ('q05', lambda df: df.quantile(0.05)), ('q25', lambda df: df.quantile(0.25)), ('q50', lambda df: df.quantile(0.50)), ('q75', lambda df: df.quantile(0.75)), ('q95', lambda df: df.quantile(0.95))]\n",
    "aggregation_dict = {\n",
    "     'Monitored_diff': common_statistics,\n",
    "     'On_diff':common_statistics,\n",
    "     'OnExcl_diff':common_statistics,\n",
    "     'Tx_diff':common_statistics,\n",
    "     'Rx_diff':common_statistics,\n",
    "     'Interfered_diff':common_statistics,\n",
    "     'On_diff_per_Monitored_diff':common_statistics,\n",
    "     'OnExcl_diff_per_Monitored_diff':common_statistics,\n",
    "     'Tx_diff_per_Monitored_diff':common_statistics,\n",
    "     'Rx_diff_per_Monitored_diff':common_statistics,\n",
    "     'Interfered_diff_per_Monitored_diff':common_statistics\n",
    "}\n",
    "\n",
    "dfg = dfg_grouping.aggregate(aggregation_dict)\n",
    "dfg.columns = ['_'.join(col).rstrip('_') for col in dfg.columns.values]\n",
    "dfg.reset_index(inplace=True)\n",
    "dfg\n"
   ]
  },
  {
   "cell_type": "code",
   "metadata": {
    "collapsed": true
   },
   "outputs": [],
   "source": [
    "#dfg.info()"
   ]
  },
  {
   "cell_type": "code",
   "metadata": {
    "collapsed": true
   },
   "outputs": [],
   "source": [
    "def renumber_order_column(df, column_name):\n",
    "    unique_values = pd.unique(df[column_name])\n",
    "    unique_values.sort()\n",
    "    count_values = len(unique_values)\n",
    "    max_value = count_values-1\n",
    "    lookup_dict = dict([(old_value, index) for index, old_value in enumerate(unique_values)])\n",
    "    df[column_name] = df[column_name].apply(lambda x: lookup_dict[x])\n",
    "    df[column_name+\"Count\"] = count_values\n",
    "    df[column_name+\"Max\"] = max_value\n",
    "    return df\n",
    "    "
   ]
  },
  {
   "cell_type": "code",
   "metadata": {
    "collapsed": true
   },
   "outputs": [],
   "source": [
    "dfg_backup = dfg.copy()"
   ]
  },
  {
   "cell_type": "code",
   "metadata": {
    "collapsed": true
   },
   "outputs": [],
   "source": [
    "dfg = dfg_backup.copy()"
   ]
  },
  {
   "cell_type": "code",
   "metadata": {
    "collapsed": true
   },
   "outputs": [],
   "source": [
    "def makeScenarioAndSubScenario(df):\n",
    "    if len(df[df['TheoreticalLeapfrog'] == 1]) > 0:\n",
    "        df.loc[df['TheoreticalLeapfrog'] == 1, 'Scenario'] = \"LFC-Th.An.\"\n",
    "        df.loc[df['TheoreticalLeapfrog'] == 1, 'ScenarioOrder'] = 3\n",
    "        df.loc[df['TheoreticalLeapfrog'] == 1, 'Hatch'] = ''\n",
    "        df.loc[df['TheoreticalLeapfrog'] == 1, 'Marker'] = '.'\n",
    "        df.loc[df['TheoreticalLeapfrog'] == 1, 'LineStyle'] = 'solid'\n",
    "\n",
    "        df.loc[df['TheoreticalLeapfrog'] == 1, 'SubScenario'] = \"\"\n",
    "        df.loc[df['TheoreticalLeapfrog'] == 1, 'SubScenarioOrder'] = 0\n",
    "\n",
    "        df.loc[df['TheoreticalLeapfrog'] == 1, 'ColorGradient'] = 1\n",
    "        df.loc[df['TheoreticalLeapfrog'] == 1, 'Color'] = df.loc[df['TheoreticalLeapfrog'] == 1, 'ColorGradient'].apply(lambda x: plt.cm.colors.to_hex(plt.cm.Greens(x))).values\n",
    "    \n",
    "    \n",
    "    \n",
    "    if len(df[df['MakeWithLeapfrog'] == 1]) > 0:\n",
    "        df.loc[df['MakeWithLeapfrog'] == 1, 'Scenario'] = \"LFC\"\n",
    "        df.loc[df['MakeWithLeapfrog'] == 1, 'ScenarioOrder'] = 2\n",
    "        df.loc[df['MakeWithLeapfrog'] == 1, 'Hatch'] = ''\n",
    "        df.loc[df['MakeWithLeapfrog'] == 1, 'Marker'] = '.'\n",
    "        df.loc[df['MakeWithLeapfrog'] == 1, 'LineStyle'] = 'solid'\n",
    "\n",
    "        df.loc[(df['MakeWithLeapfrog'] == 1) & (df['TschConfMacMaxFrameRetries'] == 1) & (df['WithOverhearing'] == 1), 'SubScenario'] = \"\"\n",
    "        df.loc[(df['MakeWithLeapfrog'] == 1) & (df['TschConfMacMaxFrameRetries'] == 1) & (df['WithOverhearing'] == 1), 'SubScenarioOrder'] = 2\n",
    "\n",
    "        df.loc[(df['MakeWithLeapfrog'] == 1) & (df['TschConfMacMaxFrameRetries'] == 0) & (df['WithOverhearing'] == 1), 'SubScenario'] = \"-RT0\"\n",
    "        df.loc[(df['MakeWithLeapfrog'] == 1) & (df['TschConfMacMaxFrameRetries'] == 0) & (df['WithOverhearing'] == 1), 'SubScenarioOrder'] = 1\n",
    "\n",
    "        df.loc[(df['MakeWithLeapfrog'] == 1) & (df['TschConfMacMaxFrameRetries'] == 1) & (df['WithOverhearing'] == -1), 'SubScenario'] = \"-NoOH\"\n",
    "        df.loc[(df['MakeWithLeapfrog'] == 1) & (df['TschConfMacMaxFrameRetries'] == 1) & (df['WithOverhearing'] == -1), 'SubScenarioOrder'] = 0\n",
    "\n",
    "        df.loc[df['MakeWithLeapfrog'] == 1, 'ColorGradient'] = preprocessing.minmax_scale(df.loc[df['MakeWithLeapfrog'] == 1, 'SubScenarioOrder'].values, (0.4, 0.9))\n",
    "        df.loc[df['MakeWithLeapfrog'] == 1, 'Color'] = df.loc[df['MakeWithLeapfrog'] == 1, 'ColorGradient'].apply(lambda x: plt.cm.colors.to_hex(plt.cm.Greens(x))).values\n",
    "\n",
    "    \n",
    "    \n",
    "    if len(df[(df['MakeWithLeapfrog'] == -1) & (df['MakeWithLinkpeek'] == -1) & (df['TheoreticalLeapfrog'] == -1)]) > 0:\n",
    "        df.loc[(df['MakeWithLeapfrog'] == -1) & (df['MakeWithLinkpeek'] == -1) & (df['TheoreticalLeapfrog'] == -1), 'Scenario'] = \"RPL+TSCH\"\n",
    "        df.loc[(df['MakeWithLeapfrog'] == -1) & (df['MakeWithLinkpeek'] == -1) & (df['TheoreticalLeapfrog'] == -1), 'ScenarioOrder'] = 0\n",
    "        df.loc[(df['MakeWithLeapfrog'] == -1) & (df['MakeWithLinkpeek'] == -1) & (df['TheoreticalLeapfrog'] == -1), 'Hatch'] = '//'\n",
    "        df.loc[(df['MakeWithLeapfrog'] == -1) & (df['MakeWithLinkpeek'] == -1) & (df['TheoreticalLeapfrog'] == -1), 'Marker'] = '3'\n",
    "        df.loc[(df['MakeWithLeapfrog'] == -1) & (df['MakeWithLinkpeek'] == -1) & (df['TheoreticalLeapfrog'] == -1), 'LineStyle'] = 'dashed'\n",
    "\n",
    "        df.loc[(df['MakeWithLeapfrog'] == -1) & (df['MakeWithLinkpeek'] == -1) & (df['TheoreticalLeapfrog'] == -1), 'SubScenario'] = df.loc[(df['MakeWithLeapfrog'] == -1) & (df['MakeWithLinkpeek'] == -1) & (df['TheoreticalLeapfrog'] == -1), 'TschConfMacMaxFrameRetries'].apply(lambda x: \"-RT\"+str(x)).values\n",
    "        df.loc[(df['MakeWithLeapfrog'] == -1) & (df['MakeWithLinkpeek'] == -1) & (df['TheoreticalLeapfrog'] == -1), 'SubScenarioOrder'] = (df.loc[(df['MakeWithLeapfrog'] == -1) & (df['MakeWithLinkpeek'] == -1) & (df['TheoreticalLeapfrog'] == -1), 'TschConfMacMaxFrameRetries']).values #reverse order\n",
    "\n",
    "        df.loc[(df['MakeWithLeapfrog'] == -1) & (df['MakeWithLinkpeek'] == -1) & (df['TheoreticalLeapfrog'] == -1), 'ColorGradient'] = preprocessing.minmax_scale(df.loc[(df['MakeWithLeapfrog'] == -1) & (df['MakeWithLinkpeek'] == -1) & (df['TheoreticalLeapfrog'] == -1), 'SubScenarioOrder'].values, (0.4, 0.9))\n",
    "        df.loc[(df['MakeWithLeapfrog'] == -1) & (df['MakeWithLinkpeek'] == -1) & (df['TheoreticalLeapfrog'] == -1), 'Color'] = df.loc[(df['MakeWithLeapfrog'] == -1) & (df['MakeWithLinkpeek'] == -1) & (df['TheoreticalLeapfrog'] == -1), 'ColorGradient'].apply(lambda x: plt.cm.colors.to_hex(plt.cm.Reds(x))).values\n",
    "\n",
    "    \n",
    "    \n",
    "    if len(df[df['MakeWithLinkpeek'] == 1]) > 0:\n",
    "        df.loc[(df['MakeWithLinkpeek'] == 1), 'Scenario'] = \"LinkPeek\"\n",
    "        df.loc[(df['MakeWithLinkpeek'] == 1), 'ScenarioOrder'] = 1\n",
    "        df.loc[(df['MakeWithLinkpeek'] == 1), 'Hatch'] = 'xx'\n",
    "        df.loc[(df['MakeWithLinkpeek'] == 1), 'Marker'] = 'x'\n",
    "        df.loc[(df['MakeWithLinkpeek'] == 1), 'LineStyle'] = 'dotted'\n",
    "\n",
    "        df.loc[(df['MakeWithLinkpeek'] == 1), 'SubScenario'] = \"\"\n",
    "        df.loc[(df['MakeWithLinkpeek'] == 1), 'SubScenarioOrder'] = 0 #reverse order\n",
    "\n",
    "        df.loc[(df['MakeWithLinkpeek'] == 1), 'ColorGradient'] = 0.2\n",
    "        df.loc[(df['MakeWithLinkpeek'] == 1), 'Color'] = df.loc[(df['MakeWithLinkpeek'] == 1), 'ColorGradient'].apply(lambda x: plt.cm.colors.to_hex(plt.cm.Wistia_r(x))).values\n",
    "\n",
    "    \n",
    "    \n",
    "    \n",
    "    if len(df) > 0:\n",
    "        df['TotalSubScenarioOrder'] = df['ScenarioOrder']*100+df['SubScenarioOrder']\n",
    "        df['FullScenario'] = df['Scenario'] + df['SubScenario']\n",
    "        convert_to_int(df, ['ScenarioOrder', 'SubScenarioOrder', 'TotalSubScenarioOrder'], -1)\n",
    "        renumber_order_column(df, 'ScenarioOrder')\n",
    "        renumber_order_column(df, 'SubScenarioOrder')\n",
    "        renumber_order_column(df, 'TotalSubScenarioOrder')\n",
    "\n"
   ]
  },
  {
   "cell_type": "code",
   "metadata": {},
   "outputs": [],
   "source": [
    "makeScenarioAndSubScenario(dfg)\n",
    "convert_to_int(dfg, ['ScenarioOrder', 'SubScenarioOrder', 'TotalSubScenarioOrder'], -1)\n",
    "dfg\n",
    "renumber_order_column(dfg, 'ScenarioOrder')\n",
    "renumber_order_column(dfg, 'SubScenarioOrder')\n",
    "renumber_order_column(dfg, 'TotalSubScenarioOrder')\n"
   ]
  },
  {
   "cell_type": "code",
   "metadata": {
    "collapsed": true
   },
   "outputs": [],
   "source": [
    "#dfg.info()"
   ]
  },
  {
   "cell_type": "code",
   "metadata": {},
   "outputs": [],
   "source": [
    "dfg.loc[dfg['RadioQualitySetQualityInPercent']>0, 'BarGroup'] = \"Static \" + dfg['RadioQualitySetQualityInPercent'].astype(str) + \"%\"\n",
    "dfg.loc[dfg['RadioQualitySetQualityInPercent']>0, 'BarGroupOrder'] = 200 - dfg['RadioQualitySetQualityInPercent']\n",
    "\n",
    "dfg.loc[dfg['RadioQualitySetQualityInPercent']==0, 'BarGroup'] = \"Variable Random \" + dfg['RadioQualityRandomSetMinQualityInPercent'].astype(str) + \"% - \" + dfg['RadioQualityRandomSetMaxQualityInPercent'].astype(str) + \"%\"\n",
    "dfg.loc[dfg['RadioQualitySetQualityInPercent']==0, 'BarGroupOrder'] = 200\n",
    "\n",
    "bargroup_columns = ['BarGroupOrder', 'BarGroup']\n",
    "convert_to_int(dfg, ['BarGroupOrder'], -1)\n",
    "renumber_order_column(dfg, 'BarGroupOrder')\n",
    "dfg[bargroup_columns].drop_duplicates().sort_values('BarGroupOrder')\n"
   ]
  },
  {
   "cell_type": "code",
   "metadata": {
    "collapsed": true,
    "scrolled": false
   },
   "outputs": [],
   "source": [
    "#df_bars_powerconsumption"
   ]
  },
  {
   "cell_type": "code",
   "metadata": {
    "collapsed": true,
    "scrolled": true
   },
   "outputs": [],
   "source": [
    "def make_barplot(data):\n",
    "    dfg = data['dfg']\n",
    "    y_column_names_bars_stacked = data['y_column_names_bars_stacked']\n",
    "    y_column_names_bars_styles = data['y_column_names_bars_styles']\n",
    "    y_column_names_bars_labels = data['y_column_names_bars_labels']\n",
    "\n",
    "    y_column_names_bars_boxplot_show = data['y_column_names_bars_boxplot_show']\n",
    "    y_column_names_bars_median_stacked = data['y_column_names_bars_median_stacked']\n",
    "    y_column_names_bars_mean_stacked = data['y_column_names_bars_mean_stacked']\n",
    "    y_column_names_bars_upper_stacked = data['y_column_names_bars_upper_stacked']\n",
    "    y_column_names_bars_lower_stacked = data['y_column_names_bars_lower_stacked']\n",
    "    y_column_names_bars_min_stacked = data['y_column_names_bars_min_stacked']\n",
    "    y_column_names_bars_max_stacked = data['y_column_names_bars_max_stacked']\n",
    "    y_column_names_bars_std_stacked = data['y_column_names_bars_std_stacked']\n",
    "    df_bars_title = data['df_bars_title']\n",
    "    df_bars_x_label = data['df_bars_x_label']\n",
    "    df_bars_y_label= data['df_bars_y_label']\n",
    "\n",
    "    legends_args=data['legends_args']\n",
    "    legends_debug = legends_args['debug']\n",
    "    legends_extra_axis_rect = legends_args['extra_axis_rect']\n",
    "    legends_extra_axis_kw_args = legends_args['extra_axis_kw_args']\n",
    "    legends_legend_kw_args = legends_args['legend_kw_args']\n",
    "    \n",
    "    df_bars_filename = data['df_bars_filename']\n",
    "\n",
    "    df_bars = dfg.copy()\n",
    "    \n",
    "    single_bar_width_used = 0.8\n",
    "    single_bar_width = 1.0\n",
    "\n",
    "    df_bars['XOffset'] = df_bars['BarGroupOrder']*(df_bars['TotalSubScenarioOrderCount']+1)+df_bars['TotalSubScenarioOrder']\n",
    "    df_bars = df_bars.sort_values(['XOffset'])\n",
    "    df_bars.reset_index(inplace=True, drop=True)\n",
    "\n",
    "    # Plotting the bars\n",
    "    fig, ax = plt.subplots(figsize=(10,5))\n",
    "#     t = np.arange(0.01, 20.0, 0.01)\n",
    "\n",
    "#     ax.set_yscale('log') \n",
    "    \n",
    "    legend1_dict = {}\n",
    "    legend2_dict = {}\n",
    "    max_xs = []\n",
    "    max_ys = []\n",
    "\n",
    "    for xoffset in df_bars['XOffset'].values:\n",
    "        for stack_index, y_column_name_bar_stacked in enumerate(y_column_names_bars_stacked):\n",
    "            dfi = df_bars[df_bars['XOffset'] == xoffset]\n",
    "            left = dfi['XOffset'].values[0]\n",
    "            height = dfi[y_column_name_bar_stacked].values[0]\n",
    "            bottom_heights=[dfi[y_column_names_bars_stacked[previous_stack_index]].values[0] for previous_stack_index in range(0, stack_index)]\n",
    "            bottom=sum(bottom_heights)\n",
    "            style=y_column_names_bars_styles[stack_index]\n",
    "            color=dfi['Color'].values[0]\n",
    "            hatch=dfi['Hatch'].values[0]\n",
    "            label=dfi['FullScenario'].values[0]\n",
    "            max_xs.append(left+0.5)\n",
    "            max_ys.append(height+bottom)\n",
    "\n",
    "    #         print(dict(((k, eval(k)) for k in ('xoffset', 'stack_index', 'y_column_name_bar_stacked', 'left', 'height', 'bottom', 'style', 'color', 'label', 'bottom_heights'))))\n",
    "\n",
    "            bar_container = ax.bar(\n",
    "                left=left, \n",
    "                height=height, \n",
    "                bottom=bottom,\n",
    "                width=0.8, \n",
    "                alpha=1.0,\n",
    "                color=color,\n",
    "                hatch=hatch,\n",
    "                label=label,\n",
    "                **style)\n",
    "            bar_rectangle_artist = bar_container[0]\n",
    "            props = bar_rectangle_artist.properties()\n",
    "    #         print(props)\n",
    "            legend1_prop_names = ['aa', 'alpha', 'fill', 'facecolor', 'hatch']#'linestyle', 'linewidth', 'edgecolor'\n",
    "            legend1_prop_dict = dict([(prop_name, props[prop_name]) for prop_name in legend1_prop_names])\n",
    "    #         print(legend1_prop_dict)\n",
    "\n",
    "            legend1_dict[label] = plt.Rectangle((0,0), 1, 1, **legend1_prop_dict)\n",
    "    #         print(plt.getp(legend1_dict[label]))\n",
    "\n",
    "            legend2_prop_names = ['aa'] + style.keys()\n",
    "            legend2_prop_dict = dict([(prop_name, props[prop_name]) for prop_name in legend2_prop_names])\n",
    "            legend2_artist = plt.Rectangle((0,0), 1, 1, **legend2_prop_dict)\n",
    "            legend2_artist.set_facecolor((0.8,0.8,0.8, 1.0))\n",
    "    #         legend2_artist.set_edgecolor((0.0, 0.0, 0.0, 1.0))\n",
    "    #         print(plt.getp(legend2_artist))\n",
    "            legend2_dict[y_column_names_bars_labels[stack_index]] = legend2_artist\n",
    "\n",
    "            if y_column_names_bars_boxplot_show:\n",
    "                item = {}\n",
    "\n",
    "                if y_column_names_bars_min_stacked[stack_index] is None and y_column_names_bars_max_stacked[stack_index] is None:\n",
    "                    x = left\n",
    "                    y = dfi[y_column_names_bars_mean_stacked[stack_index]].values[0] + bottom\n",
    "                    yerr = dfi[y_column_names_bars_std_stacked[stack_index]].values[0] + bottom\n",
    "                    ax.errorbar(\n",
    "                        x = x,\n",
    "                        y = y,\n",
    "                        yerr = yerr,\n",
    "                        color = \"#1010FF\"\n",
    "                    )\n",
    "                    max_ys.append(y+yerr)\n",
    "                    \n",
    "                else:\n",
    "                    #item[\"label\"] = 'box' # not required\n",
    "                    item[\"med\"] = dfi[y_column_names_bars_median_stacked[stack_index]].values[0] + bottom\n",
    "\n",
    "                    if y_column_names_bars_mean_stacked[stack_index] is not None:\n",
    "                        item[\"mean\"] = dfi[y_column_names_bars_mean_stacked[stack_index]].values[0] + bottom # not required\n",
    "\n",
    "                    item[\"q1\"] = dfi[y_column_names_bars_lower_stacked[stack_index]].values[0] + bottom # required\n",
    "                    item[\"q3\"] = dfi[y_column_names_bars_upper_stacked[stack_index]].values[0] + bottom # required\n",
    "                    #item[\"cilo\"] = 5.3 # not required\n",
    "                    #item[\"cihi\"] = 5.7 # not required\n",
    "                    item[\"whislo\"] = dfi[y_column_names_bars_min_stacked[stack_index]].values[0] + bottom # required\n",
    "                    item[\"whishi\"] = dfi[y_column_names_bars_max_stacked[stack_index]].values[0] + bottom # required\n",
    "                    item[\"fliers\"] = [] # required if showfliers=True\n",
    "    #                 sta = dict(((k, item[k]) for k in ('med', 'mean', 'q1', 'q3', 'whislo', 'whishi')))\n",
    "    #                 sta['stack_index'] = stack_index\n",
    "    #                 sta['xoffset'] = xoffset\n",
    "    #                 print(sta)\n",
    "\n",
    "                    stats = [item]\n",
    "                    positions = [left]\n",
    "                    max_ys.append(item[\"whishi\"])\n",
    "\n",
    "                    ax.bxp(\n",
    "                        bxpstats=stats,\n",
    "                        positions=positions,\n",
    "                        widths=[0.5],\n",
    "                        showmeans=dfi[y_column_names_bars_mean_stacked[stack_index]] is not None,\n",
    "                        meanline=dfi[y_column_names_bars_mean_stacked[stack_index]] is not None\n",
    "                    )\n",
    "\n",
    "\n",
    "    # Set the y axis label\n",
    "    if df_bars_x_label is not None:\n",
    "        ax.set_xlabel(df_bars_x_label)\n",
    "    if df_bars_y_label is not None:\n",
    "        ax.set_ylabel(df_bars_y_label)\n",
    "\n",
    "\n",
    "    # Set the chart's title\n",
    "    if df_bars_title is not None:\n",
    "        ax.set_title(df_bars_title)\n",
    "\n",
    "    # Set the position of the x ticks\n",
    "    \n",
    "    x_ticks_offsets = [(df_bars['TotalSubScenarioOrderCount'][0]+1)*1.0*bar_group_index+(df_bars['TotalSubScenarioOrderCount'][0]/2.0)-0.5  for bar_group_index in range(df_bars['BarGroupOrderCount'][0])]\n",
    "    ax.set_xticks(x_ticks_offsets)\n",
    "\n",
    "    # Set the labels for the x ticks\n",
    "    x_ticks_labels = df_bars[bargroup_columns].drop_duplicates().sort_values('BarGroupOrder')['BarGroup'].values\n",
    "    ax.set_xticklabels(x_ticks_labels)\n",
    "\n",
    "    # Setting the x-axis and y-axis limits\n",
    "    ax.set_xlim([-1, max(max_xs)+0.5])\n",
    "    ax.set_ylim([0, max(max_ys)*1.01])\n",
    "\n",
    "    #make dict where each labels is exists only once (because it is a dict key)\n",
    "    # create a list of the FullScenatio names in TotalSubScenarioOrder order\n",
    "    legend1_fullscenario_labels = df_bars[['TotalSubScenarioOrder', 'FullScenario']].drop_duplicates().sort_values('TotalSubScenarioOrder')['FullScenario'].values\n",
    "    legend2_fullscenario_labels = y_column_names_bars_labels\n",
    "    fig.tight_layout(pad=0, h_pad=0, w_pad=0)\n",
    "\n",
    "    # Adding the legend and showing the plot\n",
    "    legend_artists = []\n",
    "    ax_legends = fig.add_axes(legends_extra_axis_rect, frame_on=legends_debug, xticks=[], xticklabels=[], yticks=[], yticklabels=[], **legends_extra_axis_kw_args)\n",
    "    legend1_artist = ax_legends.legend([legend1_dict[legend1_fullscenario_label] for legend1_fullscenario_label in legend1_fullscenario_labels], legend1_fullscenario_labels, numpoints=1, **legends_legend_kw_args[0])# loc='upper left', bbox_to_anchor=(0, 1))\n",
    "    legend_artists.append(legend1_artist)\n",
    "    ax_legends.add_artist(legend1_artist)\n",
    "    if len(y_column_names_bars_styles) > 1:\n",
    "        legend2_artist = ax_legends.legend([legend2_dict[legend2_fullscenario_label] for legend2_fullscenario_label in reversed(legend2_fullscenario_labels)], reversed(legend2_fullscenario_labels), numpoints=1, **legends_legend_kw_args[1])#, loc='lower left', bbox_to_anchor=(0, 0.2), numpoints=1)\n",
    "        legend_artists.append(legend2_artist)\n",
    "\n",
    "    ax.grid(axis='y')\n",
    "    # plt.show()\n",
    "    fig.savefig(df_bars_filename, dpi=200, bbox_inches='tight')"
   ]
  },
  {
   "cell_type": "code",
   "metadata": {
    "scrolled": false
   },
   "outputs": [],
   "source": [
    "dfg_powerconsumption = dfg.copy()\n",
    "for antenna_state in [\"On\", \"OnExcl\", \"Tx\", \"Rx\", \"Interfered\"]:\n",
    "    for statistic in [\"mean\", \"std\", \"sem\", \"q05\", \"q25\", \"q50\", \"q75\", \"q95\", \"min\", \"max\"]:\n",
    "        dfg_powerconsumption[antenna_state+'_diff_per_Monitored_diff_'+statistic] = 100.0* dfg_powerconsumption[antenna_state+'_diff_per_Monitored_diff_'+statistic]\n",
    "\n",
    "total_powerconsumption_data = {\n",
    "    'dfg': dfg_powerconsumption,\n",
    "    'y_column_names_bars_stacked': ['Tx_diff_per_Monitored_diff_q50', 'Rx_diff_per_Monitored_diff_q50'],\n",
    "    'y_column_names_bars_styles': [{'edgecolor':(1,0,0,1)}, {'edgecolor':(0,0,1,1)}], #not used\n",
    "    'y_column_names_bars_labels': ['Transmit ', 'Receive '], #not used\n",
    "\n",
    "    'y_column_names_bars_boxplot_show': True,\n",
    "    'y_column_names_bars_median_stacked': ['Tx_diff_per_Monitored_diff_q50', 'Rx_diff_per_Monitored_diff_q50'],\n",
    "    'y_column_names_bars_mean_stacked': ['Tx_diff_per_Monitored_diff_mean', 'Rx_diff_per_Monitored_diff_mean'],\n",
    "    'y_column_names_bars_upper_stacked': ['Tx_diff_per_Monitored_diff_q95', 'Rx_diff_per_Monitored_diff_q95'],\n",
    "    'y_column_names_bars_lower_stacked': ['Tx_diff_per_Monitored_diff_q05', 'Rx_diff_per_Monitored_diff_q05'],\n",
    "    'y_column_names_bars_min_stacked': ['Tx_diff_per_Monitored_diff_min', 'Rx_diff_per_Monitored_diff_min'],\n",
    "    'y_column_names_bars_max_stacked': ['Tx_diff_per_Monitored_diff_max', 'Rx_diff_per_Monitored_diff_max'],\n",
    "    'y_column_names_bars_std_stacked': [],\n",
    "    'df_bars_title': None, #'TX & RX Duty Cycle',\n",
    "    'df_bars_x_label': 'Link quality (%)',\n",
    "    'df_bars_y_label': 'Duty cycle (%)',\n",
    "    'df_bars_filename': 'Power-consumption-tx-rx-10000pkts x5.pdf',\n",
    "    'legends_args': {\n",
    "        'debug': False,\n",
    "        'extra_axis_rect': [0.95, 0.0, 0.24, 1.01],\n",
    "        'extra_axis_kw_args': {},\n",
    "        'legend_kw_args': [{'loc': 'upper left', 'bbox_to_anchor':(0, 1)},\n",
    "                           {'loc': 'lower left', 'bbox_to_anchor':(0, 0.3)}]\n",
    "    }\n",
    "    \n",
    "}\n",
    "\n",
    "make_barplot(total_powerconsumption_data)"
   ]
  },
  {
   "cell_type": "code",
   "metadata": {
    "scrolled": false
   },
   "outputs": [],
   "source": [
    "dfg_powerconsumption = dfg.copy()\n",
    "for antenna_state in [\"On\", \"OnExcl\", \"Tx\", \"Rx\", \"Interfered\"]:\n",
    "    for statistic in [\"mean\", \"std\", \"sem\", \"q05\", \"q25\", \"q50\", \"q75\", \"q95\", \"min\", \"max\"]:\n",
    "        dfg_powerconsumption[antenna_state+'_diff_per_Monitored_diff_'+statistic] = 100.0* dfg_powerconsumption[antenna_state+'_diff_per_Monitored_diff_'+statistic]\n",
    "\n",
    "total_powerconsumption_data = {\n",
    "    'dfg': dfg_powerconsumption,\n",
    "    'y_column_names_bars_stacked': ['On_diff_per_Monitored_diff_q50'],\n",
    "    'y_column_names_bars_styles': [{}], #not used\n",
    "    'y_column_names_bars_labels': [\"\"], #not used\n",
    "\n",
    "    'y_column_names_bars_boxplot_show': True,\n",
    "    'y_column_names_bars_median_stacked': ['On_diff_per_Monitored_diff_q50'],\n",
    "    'y_column_names_bars_mean_stacked': ['On_diff_per_Monitored_diff_mean'],\n",
    "    'y_column_names_bars_upper_stacked': ['On_diff_per_Monitored_diff_q95'],\n",
    "    'y_column_names_bars_lower_stacked': ['On_diff_per_Monitored_diff_q05'],\n",
    "    'y_column_names_bars_min_stacked': ['On_diff_per_Monitored_diff_min'],\n",
    "    'y_column_names_bars_max_stacked': ['On_diff_per_Monitored_diff_max'],\n",
    "    'y_column_names_bars_std_stacked': [],\n",
    "    'df_bars_title': None, #'Total (TX & RX & Idle On) Duty Cycle',\n",
    "    'df_bars_x_label': 'Link quality (%)',\n",
    "    'df_bars_y_label': 'Duty cycle (%)',\n",
    "    'df_bars_filename': 'Power-consumption-total-10000pkts x5.pdf',\n",
    "    'legends_args': {\n",
    "        'debug': False,\n",
    "        'extra_axis_rect': [0.95, 0.0, 0.24, 1.01],\n",
    "        'extra_axis_kw_args': {},\n",
    "        'legend_kw_args': [{'loc': 'upper left', 'bbox_to_anchor':(0, 1)}]\n",
    "    }\n",
    "    \n",
    "}\n",
    "\n",
    "make_barplot(total_powerconsumption_data)"
   ]
  },
  {
   "cell_type": "code",
   "metadata": {},
   "outputs": [],
   "source": [
    "interesting_columns = ['BarGroup', 'FullScenario'] + [col for col in dfg_powerconsumption.columns.values if \"_diff_per_Monitored_diff_q\" in col or \"_diff_per_Monitored_diff_m\" in col]\n",
    "dfg_powerconsumption.sort_values(['BarGroupOrder', 'TotalSubScenarioOrder'], inplace=True)\n",
    "dfg_powerconsumption[interesting_columns].to_csv(total_powerconsumption_data['df_bars_filename']+\".csv\")\n",
    "dfg_powerconsumption[interesting_columns]"
   ]
  }
 ],
 "metadata": {
  "git": {
   "suppress_outputs": true
  },
  "kernelspec": {
   "display_name": "Python 2",
   "language": "python",
   "name": "python2"
  },
  "language_info": {
   "codemirror_mode": {
    "name": "ipython",
    "version": 2
   },
   "file_extension": ".py",
   "mimetype": "text/x-python",
   "name": "python",
   "nbconvert_exporter": "python",
   "pygments_lexer": "ipython2",
   "version": "2.7.13"
  }
 },
 "nbformat": 4,
 "nbformat_minor": 2
}