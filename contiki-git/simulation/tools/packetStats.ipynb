{
 "cells": [
  {
   "cell_type": "code",
   "metadata": {
    "collapsed": true
   },
   "outputs": [],
   "source": [
    "%matplotlib inline\n",
    "import pandas as pd\n",
    "import matplotlib.pyplot as plt\n",
    "import numpy as np\n",
    "from sklearn import preprocessing\n"
   ]
  },
  {
   "cell_type": "code",
   "metadata": {
    "collapsed": true
   },
   "outputs": [],
   "source": [
    "pd.set_option('display.max_columns', 999)\n",
    "pd.set_option('display.max_colwidth', 300)\n",
    "np.set_printoptions(linewidth=300)\n",
    "plt.rcParams.update({'font.size': 14})"
   ]
  },
  {
   "cell_type": "code",
   "metadata": {},
   "outputs": [],
   "source": [
    "from IPython.core.display import display, HTML\n",
    "display(HTML(\"\"\"\n",
    "<style>\n",
    ".container {\n",
    "    width: 99% !important;\n",
    "}\n",
    "div.cell.selected {\n",
    "    border-left-width: 1px !important;\n",
    "}\n",
    "</style>\n",
    "\"\"\"))"
   ]
  },
  {
   "cell_type": "code",
   "metadata": {
    "collapsed": true
   },
   "outputs": [],
   "source": [
    "input_files1=\"\"\"/media/aris/portabledata/contiki-experiments/10000pkt/PRFFTDRQZ7ODERSSIFVN6KTHDBHZYLRZ/results/packets.csv\n",
    "/media/aris/portabledata/contiki-experiments/10000pkt/NPEPTG2323ONGX7NBQ3H6GY6O5M2WT24/results/packets.csv\n",
    "/media/aris/portabledata/contiki-experiments/10000pkt/QJ522MMH6JYDLJYVAZC75MWUHOXESUXP/results/packets.csv\n",
    "/media/aris/portabledata/contiki-experiments/10000pkt/VRP23D75SMRJ5APKURH6ZJ5ATCNJUUS7/results/packets.csv\n",
    "/media/aris/portabledata/contiki-experiments/10000pkt/ZFVUR2HMPVZJHCBNHRCEHL7MBG5KHDGP/results/packets.csv\n",
    "/media/aris/portabledata/contiki-experiments/10000pkt/BMRP2NQAD5ASTENY25TQUQC3PA3G4U7P/results/packets.csv\n",
    "/media/aris/portabledata/contiki-experiments/10000pkt/XCXC23H6NCG24EILSBB7HQMKK6I3GFHL/results/packets.csv\n",
    "/media/aris/portabledata/contiki-experiments/10000pkt/QEEXHUMIUGPL33FOCKUULCXOPAS5Y475/results/packets.csv\n",
    "/media/aris/portabledata/contiki-experiments/10000pkt/2M73CWFD3TS6ON7ZMFM2PJ2P3TROYDJW/results/packets.csv\n",
    "/media/aris/portabledata/contiki-experiments/10000pkt/7SR3WN7WR35FXVXLKBAJAAUAFEKZIO7A/results/packets.csv\n",
    "/media/aris/portabledata/contiki-experiments/10000pkt/YRRORTHZMSHUNZJK3FU5UDBPQIL5FYTB/results/packets.csv\n",
    "/media/aris/portabledata/contiki-experiments/10000pkt/TIKESQ6J36KTQKCMX7YRL5F75XV7JCDE/results/packets.csv\n",
    "/media/aris/portabledata/contiki-experiments/10000pkt/MTPTWECZSFU7XWYK6TTURUOKKXZF5GJ7/results/packets.csv\n",
    "/media/aris/portabledata/contiki-experiments/10000pkt/KQACKK6Z6ASIHXH5WIUNBLKCT65ZZYVF/results/packets.csv\n",
    "/media/aris/portabledata/contiki-experiments/10000pkt/ZPQSSZUEBYO4BMDCOBEICYZIHDILNMBJ/results/packets.csv\n",
    "/media/aris/portabledata/contiki-experiments/10000pkt/U72M7NEECZ2VOMC6XUQO2FINADHLNCJP/results/packets.csv\n",
    "/media/aris/portabledata/contiki-experiments/10000pkt/2GGWHC4VGXNJSULZU4OXBDWOCNG7X5IT/results/packets.csv\n",
    "/media/aris/portabledata/contiki-experiments/10000pkt/DXHROT53BSP6QVFXMJBG5RQZPGMT5UTG/results/packets.csv\n",
    "/media/aris/portabledata/contiki-experiments/10000pkt/EDQK2P2YMQ4AK7QRTWG4CLTKWIFUIPJC/results/packets.csv\n",
    "/media/aris/portabledata/contiki-experiments/10000pkt/AIVYDHSPDOOQ62S6M6CYAHDOWYJTZAIV/results/packets.csv\n",
    "/media/aris/portabledata/contiki-experiments/10000pkt/YVK4NHEG722JWNSU4F2IQNN7LB5G4PIK/results/packets.csv\n",
    "/media/aris/portabledata/contiki-experiments/10000pkt/4JQXQFBPG4HQER5YRYOG5IU7HYMGLZLY/results/packets.csv\n",
    "/media/aris/portabledata/contiki-experiments/10000pkt/T326EGQPEMLKWOTMG7OGN5T3F3563PHN/results/packets.csv\n",
    "/media/aris/portabledata/contiki-experiments/10000pkt/MX3PU3F2UXIKRNNQWBMWTPXPGJ6IDBCL/results/packets.csv\n",
    "/media/aris/portabledata/contiki-experiments/10000pkt/KAKXE2SUXGO56A62P3YVQKYOM3TH2TGY/results/packets.csv\n",
    "/media/aris/portabledata/contiki-experiments/10000pkt/EOCYPCC57FBC6PFTZAGGATIXHUGOS3BR/results/packets.csv\n",
    "/media/aris/portabledata/contiki-experiments/10000pkt/EQQSIW3SE4JIUKOQ6KWHPTCWCISMWSWZ/results/packets.csv\n",
    "/media/aris/portabledata/contiki-experiments/10000pkt/D4JZ7LOOY5IBQETAAUSHT2QJA6FT5DHJ/results/packets.csv\n",
    "/media/aris/portabledata/contiki-experiments/10000pkt/MI4JWKAWKUYFUSTCUBAEWEGWZTJ4S2Z6/results/packets.csv\n",
    "/media/aris/portabledata/contiki-experiments/10000pkt/LOOBD6XXMAG53XHGMMQXRWD7T2FDTMAI/results/packets.csv\n",
    "/media/aris/portabledata/contiki-experiments/10000pkt/XKTXP2TND2YFOM5CXH7UVS7GAV5JYJZO/results/packets.csv\n",
    "/media/aris/portabledata/contiki-experiments/10000pkt/4NAFFYZ4BMMVRJATGLZ4NIMVCQNHAOHF/results/packets.csv\n",
    "/media/aris/portabledata/contiki-experiments/10000pkt/C27OI5PZ4UXMDR4DXFFWHNDN4MZXFT4D/results/packets.csv\n",
    "/media/aris/portabledata/contiki-experiments/10000pkt/3WFQ4JHGLO2CVK2M2KAF5TNNYOCY4XYK/results/packets.csv\n",
    "/media/aris/portabledata/contiki-experiments/10000pkt/AIOM5RLN22LXG5E5ZGI65UGDAVU4VFUP/results/packets.csv\n",
    "/media/aris/portabledata/contiki-experiments/10000pkt/5T6TSDBRNC37IA4ILT6GM6Z3STFIYVPM/results/packets.csv\n",
    "/media/aris/portabledata/contiki-experiments/10000pkt/DTG5FHSWZ66DCMBGLCS67VWUFO3QUV65/results/packets.csv\n",
    "/media/aris/portabledata/contiki-experiments/10000pkt/RK5P6QPJXNL2Y33YNGQNLXPQUSGV7LI6/results/packets.csv\n",
    "/media/aris/portabledata/contiki-experiments/10000pkt/CJGAXQLWGALVPKKNEMTUA2DDXFUQ5BPO/results/packets.csv\n",
    "/media/aris/portabledata/contiki-experiments/10000pkt/4Q4TMFYGH2ZBMZ3SMD7PPUJU2GLCDIXZ/results/packets.csv\n",
    "/media/aris/portabledata/contiki-experiments/10000pkt/IE7ANHOYVTQL4ATITHRMCQLMNAXPNIXI/results/packets.csv\n",
    "/media/aris/portabledata/contiki-experiments/10000pkt/LDGSL6WNH5WVPBWC2CZVOOMTIPZ3UOKW/results/packets.csv\n",
    "/media/aris/portabledata/contiki-experiments/10000pkt/PMUTSGHU3T3KTUGYFMSPAMXD4IQR7JGU/results/packets.csv\n",
    "/media/aris/portabledata/contiki-experiments/10000pkt/YY7RDSTLREPAE263I6M47G5MYSSKUORF/results/packets.csv\n",
    "/media/aris/portabledata/contiki-experiments/10000pkt/YWRVTQOCHIICPTNAEN3YONS4DLLQK4N4/results/packets.csv\n",
    "/media/aris/portabledata/contiki-experiments/10000pkt/VMA2Z5VN2SXV2UAAMANEOSRC6UX5VJDD/results/packets.csv\n",
    "/media/aris/portabledata/contiki-experiments/10000pkt/7UKDZDSU4BLWSD26E7PJW6ILNVJUTN5L/results/packets.csv\n",
    "/media/aris/portabledata/contiki-experiments/10000pkt/WQ5POJT7GXHWZSMR3MY43I3XYYOPH7TT/results/packets.csv\n",
    "/media/aris/portabledata/contiki-experiments/10000pkt/QKBBOCCBBYH4NBBJ7H2S4H2NF7SQM576/results/packets.csv\n",
    "/media/aris/portabledata/contiki-experiments/10000pkt/URLZ2UHWURMJG5URZKJRCY4F3OAGUZMG/results/packets.csv\n",
    "/media/aris/portabledata/contiki-experiments/10000pkt/NT63ZYO5PH3NSW3QAUVIOM4ZGB4QONRD/results/packets.csv\n",
    "/media/aris/portabledata/contiki-experiments/10000pkt/QNATJC4ENS7RB3MPJURZTNK3G372S5ZQ/results/packets.csv\n",
    "/media/aris/portabledata/contiki-experiments/10000pkt/O5BQI7AHY5LWNG7WDCD3KEPYFZ7JMF66/results/packets.csv\n",
    "/media/aris/portabledata/contiki-experiments/10000pkt/VSVVDVXGNFDYMOSWMT3DNXGWZPYXHWGV/results/packets.csv\n",
    "/media/aris/portabledata/contiki-experiments/10000pkt/F6RR6AUBE34AAU3NCWPAV76UNIXOGCKH/results/packets.csv\n",
    "/media/aris/portabledata/contiki-experiments/10000pkt/JG5S7J4L2RFFGO6VBWCTMOHK6J3ZDUJH/results/packets.csv\n",
    "/media/aris/portabledata/contiki-experiments/10000pkt/ABP2B3US6VCSLGLM4IAEV66D7FRWDKNL/results/packets.csv\n",
    "/media/aris/portabledata/contiki-experiments/10000pkt/LIVLQXRF6ZHTLISJZK5L42GSSOUIBSYO/results/packets.csv\n",
    "/media/aris/portabledata/contiki-experiments/10000pkt/VDZBP7D7NNGMBJPZ7JGOBY7VWPJRKM3A/results/packets.csv\n",
    "/media/aris/portabledata/contiki-experiments/10000pkt/FM3GRNHU6PFXFJTKDEOFQWU7WTRLGN75/results/packets.csv\n",
    "/media/aris/portabledata/contiki-experiments/10000pkt/UP63BAHABAGA7DZ37T7T5IXCQRUBVJ5L/results/packets.csv\n",
    "/media/aris/portabledata/contiki-experiments/10000pkt/4HHKASB5IJ6LJT3X5RBPBADIWICMC2BM/results/packets.csv\n",
    "/media/aris/portabledata/contiki-experiments/10000pkt/LFGYHOGD4YLAL74RZ2X7AGCERZUTFP2V/results/packets.csv\n",
    "/media/aris/portabledata/contiki-experiments/10000pkt/DUJXF7WGYGT44EVAL5LV3EMQ65PZ6VJJ/results/packets.csv\n",
    "/media/aris/portabledata/contiki-experiments/10000pkt/GI2KVC5D7VYJGXMMLEVCCDPFISYXVWXO/results/packets.csv\n",
    "/media/aris/portabledata/contiki-experiments/10000pkt/6VU7CABBYL4I3DAC6ATAPB3L5OYZNQTF/results/packets.csv\n",
    "/media/aris/portabledata/contiki-experiments/10000pkt/EQWLD2S6ZJ3SNTPFIIPZEW2PAWVMHWCY/results/packets.csv\n",
    "/media/aris/portabledata/contiki-experiments/10000pkt/BXS3KEPE7IVZWSUBVCLJPKP4T7G7WUQX/results/packets.csv\n",
    "/media/aris/portabledata/contiki-experiments/10000pkt/HDOPFSZYZUX5LAPPVKPGR2ZNWDA7ZUU4/results/packets.csv\n",
    "/media/aris/portabledata/contiki-experiments/10000pkt/FKK736QGNZAT4WQCALGUXOKQBYJMPKSH/results/packets.csv\n",
    "/media/aris/portabledata/contiki-experiments/10000pkt/NDCVF2XCJZJAVB67MGNDRUIDCBCT53SW/results/packets.csv\n",
    "/media/aris/portabledata/contiki-experiments/10000pkt/OKTVGQIOPJ4DCYT3KQS73H4HFG7OVSDY/results/packets.csv\n",
    "/media/aris/portabledata/contiki-experiments/10000pkt/IEW4A7KK2RLGII5IH24QTQZWJC2WW5UJ/results/packets.csv\n",
    "/media/aris/portabledata/contiki-experiments/10000pkt/ABM2HSPBP3IDOQLS4VJY5H27B2BSZTLF/results/packets.csv\n",
    "/media/aris/portabledata/contiki-experiments/10000pkt/5RHMFWUTP5Z7SF63B7UKW4HASS2ZK4GJ/results/packets.csv\n",
    "/media/aris/portabledata/contiki-experiments/10000pkt/Q4EWTRE3LKDSUPS2TIJJLELYAKEGJQ4G/results/packets.csv\n",
    "/media/aris/portabledata/contiki-experiments/10000pkt/MNMJFOZ7NTS4LJXHYZNLIHITHWFBQ6IC/results/packets.csv\n",
    "/media/aris/portabledata/contiki-experiments/10000pkt/S6KPU6HVF65IJJ7IIJPUYTEZB7JT5MBS/results/packets.csv\n",
    "/media/aris/portabledata/contiki-experiments/10000pkt/GJQPTOAHZSS6HTTYJGCZFJZUXKOTMZ4V/results/packets.csv\n",
    "/media/aris/portabledata/contiki-experiments/10000pkt/2E66WQVFI5KKJBDXV6ILCC6MPJNYOR4B/results/packets.csv\n",
    "/media/aris/portabledata/contiki-experiments/10000pkt/2LFBYAMVP3QOPKZUJTS7RJ23LP3637MQ/results/packets.csv\n",
    "/media/aris/portabledata/contiki-experiments/10000pkt/OM5B7ORMD3J6BEM6ZISBJ46YFAXXQDPX/results/packets.csv\n",
    "/media/aris/portabledata/contiki-experiments/10000pkt/DLKIDS67RNWGXT2JKJXG7MEDU44ML2WI/results/packets.csv\n",
    "/media/aris/portabledata/contiki-experiments/10000pkt/GPX63MHIRO4NFMBAFA7KE6JQ3FIEQK4J/results/packets.csv\n",
    "/media/aris/portabledata/contiki-experiments/10000pkt/S5R3YMNFY2U652M57XKSCFGDZJDAFXIT/results/packets.csv\n",
    "/media/aris/portabledata/contiki-experiments/10000pkt/2GOKUWYOUVESAHFF2IGKHDQWRFKHBFZY/results/packets.csv\n",
    "/media/aris/portabledata/contiki-experiments/10000pkt/KC7O2UVS6JXHY4MM47EZMSC5GQNKTQ7C/results/packets.csv\n",
    "/media/aris/portabledata/contiki-experiments/10000pkt/RMOXXIS2CVELJRPN4BNCBDNHX3VENQZ3/results/packets.csv\n",
    "/media/aris/portabledata/contiki-experiments/10000pkt/BBZBYJMKO5BIBI2OQNY34NUXCDBN5BKE/results/packets.csv\n",
    "/media/aris/portabledata/contiki-experiments/10000pkt/ZJUTDFHELKATYC7ZEXNU643VJVQJS77I/results/packets.csv\n",
    "/media/aris/portabledata/contiki-experiments/10000pkt/VNLRTNKSUYGXEZRTXUWXYC2UTLVSV6TK/results/packets.csv\n",
    "/media/aris/portabledata/contiki-experiments/10000pkt/76O63VJY7GSAJ7OIIBSAOYHQR6D4XV66/results/packets.csv\n",
    "/media/aris/portabledata/contiki-experiments/10000pkt/3FRME4TEO4KAQIJE7MYZ7XOVI7HIHA6F/results/packets.csv\n",
    "/media/aris/portabledata/contiki-experiments/10000pkt/IQSNUUHOG56EQXYAHAKE2GKQEDIZNFHS/results/packets.csv\n",
    "/media/aris/portabledata/contiki-experiments/10000pkt/4L3FFF6C4IYX7UZSV7FNBW6YZJJRRFKI/results/packets.csv\n",
    "/media/aris/portabledata/contiki-experiments/10000pkt/SFB6CA752RBIRFRMZBPZJFPZVUAXWI3F/results/packets.csv\n",
    "/media/aris/portabledata/contiki-experiments/10000pkt/KA52DAM2IWZQF3VCKCOZE3J6TVY7CE4O/results/packets.csv\n",
    "/media/aris/portabledata/contiki-experiments/10000pkt/FPBPSGE7YQNJU3DSCGU4GFFKQ27GG33P/results/packets.csv\n",
    "/media/aris/portabledata/contiki-experiments/10000pkt/H2DOR6MRBMIL7KPQRJWEPDFZFWG2LLZ6/results/packets.csv\n",
    "/media/aris/portabledata/contiki-experiments/10000pkt/RQUXB6RYYLNHR2DHNXOTXKPHVRQHPSBM/results/packets.csv\n",
    "/media/aris/portabledata/contiki-experiments/10000pkt/5J3DUAWZQ6GFNM5LOPPF72Z3P342ECOZ/results/packets.csv\n",
    "/media/aris/portabledata/contiki-experiments/10000pkt/Y4NLMX7K24K47E23C5MYOFS43RDRP7HN/results/packets.csv\n",
    "/media/aris/portabledata/contiki-experiments/10000pkt/IR2HDIXOWPWTSUUV6ABTHMEODWLBZ7BG/results/packets.csv\n",
    "/media/aris/portabledata/contiki-experiments/10000pkt/O7OZX4K4STU4BM7IF4VDXXAQ3ATKL63H/results/packets.csv\n",
    "/media/aris/portabledata/contiki-experiments/10000pkt/GKQSEI4OIMKX55BMY7KP623JHACFI67R/results/packets.csv\n",
    "/media/aris/portabledata/contiki-experiments/10000pkt/A4WL54BKZME7PUQYTUXXZ5CSCZ4JQWKG/results/packets.csv\n",
    "/media/aris/portabledata/contiki-experiments/10000pkt/3CEUUWM5WKTUDBCAPM7OFGP2KBL4WGOR/results/packets.csv\n",
    "/media/aris/portabledata/contiki-experiments/10000pkt/CWBQCIWITO74KRTS2N6KKFYNLHDHP4TE/results/packets.csv\n",
    "/media/aris/portabledata/contiki-experiments/10000pkt/AWP4GC7SAMQG5BFGOUMJTKJITW3ICS2F/results/packets.csv\n",
    "/media/aris/portabledata/contiki-experiments/10000pkt/FVX4OODMFEPFCV3RBD7RMNNG2L3SIOMP/results/packets.csv\n",
    "/media/aris/portabledata/contiki-experiments/10000pkt/IOTG7LRBR2RAFDP2TEPBAV2QBDC3ULDD/results/packets.csv\n",
    "/media/aris/portabledata/contiki-experiments/10000pkt/NYINX3T73OS4J2LZUKLZ2HTWCHMSDMS4/results/packets.csv\n",
    "/media/aris/portabledata/contiki-experiments/10000pkt/XKQGMXTP2F2WAKZHUOJJBNSIEUJKUBG6/results/packets.csv\n",
    "/media/aris/portabledata/contiki-experiments/10000pkt/I766IC5D7BVXQREJJSCSOIX2O7RHXJEM/results/packets.csv\n",
    "/media/aris/portabledata/contiki-experiments/10000pkt/RGGH2KTFVY3VM5WSHJTXNVBZZTYO7MT5/results/packets.csv\n",
    "/media/aris/portabledata/contiki-experiments/10000pkt/7VFSBYMDWMJN27G45Y2ZFX2RJVVRST7C/results/packets.csv\n",
    "/media/aris/portabledata/contiki-experiments/10000pkt/NYWVJXK2BZRBIITQAS6KEYFGF6DCUBVY/results/packets.csv\n",
    "/media/aris/portabledata/contiki-experiments/10000pkt/7Y5MFL5BN43JDY7BVOMTHZYHPH4P5RYS/results/packets.csv\n",
    "/media/aris/portabledata/contiki-experiments/10000pkt/YPMKCUBBBLFKOYA2AY3HPHAZFELP5N2P/results/packets.csv\n",
    "/media/aris/portabledata/contiki-experiments/10000pkt/BOAZ7IXRSX44T3NN5IHAMTF2K7IXGJI7/results/packets.csv\"\"\".split(\"\\n\")"
   ]
  },
  {
   "cell_type": "code",
   "metadata": {
    "collapsed": true
   },
   "outputs": [],
   "source": [
    "input_files2=\"\"\"/media/aris/portabledata/contiki-experiments/10000pkt-random-links/SVKZBZPI7AZWR3OSVJE7IRGU2HUHU2SB/results/packets.csv\n",
    "/media/aris/portabledata/contiki-experiments/10000pkt-random-links/3YQ4DPJXV35ZEYRYNYOKGSDJXGDSRJUE/results/packets.csv\n",
    "/media/aris/portabledata/contiki-experiments/10000pkt-random-links/LK7776MEDQII2NRACVTDRD6N4RIPZTT3/results/packets.csv\n",
    "/media/aris/portabledata/contiki-experiments/10000pkt-random-links/4VQZXVQXP2AFKR7GE3VKDVGQL5GDSXSS/results/packets.csv\n",
    "/media/aris/portabledata/contiki-experiments/10000pkt-random-links/KKH5Z6GJQ45SL7DFYNHOC4ZO4EK4II7T/results/packets.csv\n",
    "/media/aris/portabledata/contiki-experiments/10000pkt-random-links/PT2M6L3AYX4D4ARX77LHJV6MRJSEYH4H/results/packets.csv\n",
    "/media/aris/portabledata/contiki-experiments/10000pkt-random-links/FHDVTX35GQAHP64ZVU27XEIKQTXRT3PW/results/packets.csv\n",
    "/media/aris/portabledata/contiki-experiments/10000pkt-random-links/RCC2E6VHYBY5XKI6POZBI2DJ23QLZ3FL/results/packets.csv\n",
    "/media/aris/portabledata/contiki-experiments/10000pkt-random-links/5VWEKSA3ZEXJVXBFF3YCU6M5VEHZQXWE/results/packets.csv\n",
    "/media/aris/portabledata/contiki-experiments/10000pkt-random-links/7S6ZDILPZJ36OXQJCJR7PNVWNJ3PUNWZ/results/packets.csv\n",
    "/media/aris/portabledata/contiki-experiments/10000pkt-random-links/JNEGSYW2B6UZDBZF7VR6465RXGBYGJHF/results/packets.csv\n",
    "/media/aris/portabledata/contiki-experiments/10000pkt-random-links/BZCDLDQLFJWDS6UGJWWPXS6KBLITCYAG/results/packets.csv\n",
    "/media/aris/portabledata/contiki-experiments/10000pkt-random-links/4ABUS76EOFNWTFX2DBRBETKOKTCL6RNR/results/packets.csv\n",
    "/media/aris/portabledata/contiki-experiments/10000pkt-random-links/QD3PXQA7WG7XIIAXHRL6EHWJ7W6K6AJI/results/packets.csv\n",
    "/media/aris/portabledata/contiki-experiments/10000pkt-random-links/VGFTINWEY6CVJ7TAC5IQNBD54ESNGSDH/results/packets.csv\n",
    "/media/aris/portabledata/contiki-experiments/10000pkt-random-links/5RNNARHWISBWKNLI2YOHES3JCRCKD6BD/results/packets.csv\n",
    "/media/aris/portabledata/contiki-experiments/10000pkt-random-links/C72UPZH3GRQB2MGLAVFAG7AHYKRY3ZTN/results/packets.csv\n",
    "/media/aris/portabledata/contiki-experiments/10000pkt-random-links/URJFRSQHZU7YUGLVSWMH47KULHERV4UJ/results/packets.csv\n",
    "/media/aris/portabledata/contiki-experiments/10000pkt-random-links/YX2VKWRNL6GI24CJ2TNMPCKDFA5WUGHW/results/packets.csv\n",
    "/media/aris/portabledata/contiki-experiments/10000pkt-random-links/JBE2BGKG7PJZBNXJ56QUI3CKWE3XR4AJ/results/packets.csv\n",
    "/media/aris/portabledata/contiki-experiments/10000pkt-random-links/KEWQMBNGINFENHX2B5CPOLNC7ZNXSY5Z/results/packets.csv\n",
    "/media/aris/portabledata/contiki-experiments/10000pkt-random-links/5NEZN2UFPS4D7CDU3FQFPKBELZPFAZRQ/results/packets.csv\n",
    "/media/aris/portabledata/contiki-experiments/10000pkt-random-links/GD5WNKYV6X4AXJIQZYJCBPTAC3R3ODKX/results/packets.csv\n",
    "/media/aris/portabledata/contiki-experiments/10000pkt-random-links/NQDHHP2AF2N6EVBBE6CNCMSHZTKFEVL2/results/packets.csv\n",
    "/media/aris/portabledata/contiki-experiments/10000pkt-random-links/OP5RQFR6GILRGWCKP2MP7NJ5BCLS5ZG5/results/packets.csv\n",
    "/media/aris/portabledata/contiki-experiments/10000pkt-random-links/NTGUUYKQTIHLGDQDOZU4BZ3VZXQSOMJU/results/packets.csv\n",
    "/media/aris/portabledata/contiki-experiments/10000pkt-random-links/GOICCJCJMSVJUITUYMN5EKVXSLTQLQZF/results/packets.csv\n",
    "/media/aris/portabledata/contiki-experiments/10000pkt-random-links/ZYR6AOKCH7YNRZFWSLZLT5WJOVQFEMNU/results/packets.csv\n",
    "/media/aris/portabledata/contiki-experiments/10000pkt-random-links/VEHVB32MNB2IHD5CAD6P3LIG72537ZYZ/results/packets.csv\n",
    "/media/aris/portabledata/contiki-experiments/10000pkt-random-links/GVTAPEDYLTN6T7YAV7CUBL4JOFSAP5RJ/results/packets.csv\n",
    "/media/aris/portabledata/contiki-experiments/10000pkt-random-links/Z2HPZWNGI7VX4YZMBE5NBBE2F7JIJPO2/results/packets.csv\n",
    "/media/aris/portabledata/contiki-experiments/10000pkt-random-links/QUW6UG24K57PCELFOG7L5JDIJBAWQ5SM/results/packets.csv\n",
    "/media/aris/portabledata/contiki-experiments/10000pkt-random-links/4FUBUO3HFEIZNWM5A3PMXXWLXGMWHVUZ/results/packets.csv\n",
    "/media/aris/portabledata/contiki-experiments/10000pkt-random-links/MUBZ35QUOJFVYW3PKKZAHJSEOIWPZF5D/results/packets.csv\n",
    "/media/aris/portabledata/contiki-experiments/10000pkt-random-links/2BDLFOB4GILXW2CLZ3CYIQ7KIJPHREU2/results/packets.csv\n",
    "/media/aris/portabledata/contiki-experiments/10000pkt-random-links/6IETYARZNSTKPJEWWMLO3UYTP6X7UVO2/results/packets.csv\n",
    "/media/aris/portabledata/contiki-experiments/10000pkt-random-links/LNP2Y6ME2PRDAUMKQU7AZNLK2B7VLL25/results/packets.csv\n",
    "/media/aris/portabledata/contiki-experiments/10000pkt-random-links/MFRYRHJ5HPLJNBPS4PHW7EJCSHSWPFOQ/results/packets.csv\n",
    "/media/aris/portabledata/contiki-experiments/10000pkt-random-links/6BQDDZXU3POF6HMLWTW26FUZQOK3LXHP/results/packets.csv\n",
    "/media/aris/portabledata/contiki-experiments/10000pkt-random-links/66E3WXGHINON7UCEUCRAYPLGRQXRRU2G/results/packets.csv\"\"\".split(\"\\n\")"
   ]
  },
  {
   "cell_type": "code",
   "metadata": {
    "collapsed": true
   },
   "outputs": [],
   "source": [
    "input_files3=\"\"\"/media/aris/portabledata/contiki-experiments/10000pkt-linkpeek/XBBIOGALRRKJGNT22RO3KKM6E2SUU5HY/results/packets.csv\n",
    "/media/aris/portabledata/contiki-experiments/10000pkt-linkpeek/D4RPCTNQPH2RRRSG5YW7GOFCJZZXDY2E/results/packets.csv\n",
    "/media/aris/portabledata/contiki-experiments/10000pkt-linkpeek/A4JZTARIFHGY6FIHGRDAF2WPOOHN2XJO/results/packets.csv\n",
    "/media/aris/portabledata/contiki-experiments/10000pkt-linkpeek/DC6CPER7H4NUXVZJU3UPT6DX2IF4FN5F/results/packets.csv\n",
    "/media/aris/portabledata/contiki-experiments/10000pkt-linkpeek/736M7ARLD4WX3A37VQGUMGKOP3E3NMQM/results/packets.csv\n",
    "/media/aris/portabledata/contiki-experiments/10000pkt-linkpeek/SIBDCEPBMCWASHFQNSJS4A7XTOVGUONB/results/packets.csv\n",
    "/media/aris/portabledata/contiki-experiments/10000pkt-linkpeek/PV6UDS5RFJEHBOFCEJQRJNQTT4HJBDRH/results/packets.csv\n",
    "/media/aris/portabledata/contiki-experiments/10000pkt-linkpeek/EHNZWCMCXSKBGB2N2UBFANLHTI5PVXEL/results/packets.csv\n",
    "/media/aris/portabledata/contiki-experiments/10000pkt-linkpeek/E7XL5R4NBN3OAG7PEDPN7DMEQCA7PLQS/results/packets.csv\n",
    "/media/aris/portabledata/contiki-experiments/10000pkt-linkpeek/OTUBJG6N3LRTTD4MIZIVRXPS5O6WIONW/results/packets.csv\n",
    "/media/aris/portabledata/contiki-experiments/10000pkt-linkpeek/AL62FC3HMPGXWAS5MY5HRQVSDQZSWZSZ/results/packets.csv\n",
    "/media/aris/portabledata/contiki-experiments/10000pkt-linkpeek/FND6K7AJYZLFR6GN5U3HNSPZH5DZL26X/results/packets.csv\n",
    "/media/aris/portabledata/contiki-experiments/10000pkt-linkpeek/V2KWDIAGE7ROYACXEA6QQI7LOASWWWKS/results/packets.csv\n",
    "/media/aris/portabledata/contiki-experiments/10000pkt-linkpeek/LH62ASGT3Z6M3YNIBBDHUX5TMW3WAU7L/results/packets.csv\n",
    "/media/aris/portabledata/contiki-experiments/10000pkt-linkpeek/UQ7YD43E2DMMUSJ543WLSWXLWDQ5FWAF/results/packets.csv\n",
    "/media/aris/portabledata/contiki-experiments/10000pkt-linkpeek/WNHYWXJLHKNDGAUD4W234RNWPE2UUEXG/results/packets.csv\n",
    "/media/aris/portabledata/contiki-experiments/10000pkt-linkpeek/7L7DKJFBF3BWKBQTFZJNP4UB2LLMVJMK/results/packets.csv\n",
    "/media/aris/portabledata/contiki-experiments/10000pkt-linkpeek/LADJ4KYZD5M5XQRNWFMW3HY5QMRE6EFA/results/packets.csv\n",
    "/media/aris/portabledata/contiki-experiments/10000pkt-linkpeek/LF5MQHMWZZEFZ3CZFVCSLZWK24FHQVK7/results/packets.csv\n",
    "/media/aris/portabledata/contiki-experiments/10000pkt-linkpeek/FRWPBD3OG3JFS47ALVHXQGQD64ZV2ZKB/results/packets.csv\"\"\".split(\"\\n\")"
   ]
  },
  {
   "cell_type": "code",
   "metadata": {
    "collapsed": true
   },
   "outputs": [],
   "source": [
    "input_files4=\"\"\"/media/aris/portabledata/contiki-experiments/10000pkt-50-60-x3/E63LRIRWIUM6X57ANLBVWTF4FQK6IVXC/results/packets.csv\n",
    "/media/aris/portabledata/contiki-experiments/10000pkt-50-60-x3/DVRUXFGU7RMVVBB2UV7FLD5UANEGGCJV/results/packets.csv\n",
    "/media/aris/portabledata/contiki-experiments/10000pkt-50-60-x3/XIWXT7I7T3LTNMCG3XAOORJS62KUFOO2/results/packets.csv\n",
    "/media/aris/portabledata/contiki-experiments/10000pkt-50-60-x3/GZZDRXU3RVLBY2YDEPUDC37C7UEEGJRY/results/packets.csv\n",
    "/media/aris/portabledata/contiki-experiments/10000pkt-50-60-x3/UROLI7OU55C2G5VUDJE4BNLOFFNYEGPC/results/packets.csv\n",
    "/media/aris/portabledata/contiki-experiments/10000pkt-50-60-x3/V6IYFTU4JGZAHERSMPSIFCV6FTKMGM6T/results/packets.csv\n",
    "/media/aris/portabledata/contiki-experiments/10000pkt-50-60-x3/TSXW3RPV5V7VAIRP7R25IZ3BNX634SLX/results/packets.csv\n",
    "/media/aris/portabledata/contiki-experiments/10000pkt-50-60-x3/HDBSM3PLQ3PG4MBUNKP5NWTHWP7P6NV2/results/packets.csv\n",
    "/media/aris/portabledata/contiki-experiments/10000pkt-50-60-x3/WLCTRUDUCFDBO3M4Z7FKXOXQEBGPZIMR/results/packets.csv\n",
    "/media/aris/portabledata/contiki-experiments/10000pkt-50-60-x3/Y4MCQDFBLHHV2P32JLGDPQQBZ2V5E7RK/results/packets.csv\n",
    "/media/aris/portabledata/contiki-experiments/10000pkt-50-60-x3/5XNBP5RIMINRBDOTIYWTN25FPKN3ZJRW/results/packets.csv\n",
    "/media/aris/portabledata/contiki-experiments/10000pkt-50-60-x3/TDRCSCP65OAOEWJGFY7NJ23ZX3PI6RIU/results/packets.csv\n",
    "/media/aris/portabledata/contiki-experiments/10000pkt-50-60-x3/RCBHNJ4DGAMDQR4NRJNGDRXVPOYBNO6K/results/packets.csv\n",
    "/media/aris/portabledata/contiki-experiments/10000pkt-50-60-x3/7CTHRFGWUQIKZ25UUTPDXU3GLCCFVXIR/results/packets.csv\n",
    "/media/aris/portabledata/contiki-experiments/10000pkt-50-60-x3/QLOCQGPDRVJY4GCJGOGHV7FFOBEXSR35/results/packets.csv\n",
    "/media/aris/portabledata/contiki-experiments/10000pkt-50-60-x3/EJWSJILCML6FXWQFLSSP57T4CJVTARAX/results/packets.csv\n",
    "/media/aris/portabledata/contiki-experiments/10000pkt-50-60-x3/P7TSRRZU757P6LJOUOCZMDIBKXEWFIUZ/results/packets.csv\n",
    "/media/aris/portabledata/contiki-experiments/10000pkt-50-60-x3/Q2ZE3QJ3RAXS3PJPDBTMW4IKVDUW4BCJ/results/packets.csv\n",
    "/media/aris/portabledata/contiki-experiments/10000pkt-50-60-x3/CNS46SH6WLK27TNTDE6WMM227ELXHXLO/results/packets.csv\n",
    "/media/aris/portabledata/contiki-experiments/10000pkt-50-60-x3/VFD3RW2PGSVZFQZ5P5X4GSEF3XCH2SOV/results/packets.csv\n",
    "/media/aris/portabledata/contiki-experiments/10000pkt-50-60-x3/2OTVMJ4MRJWYY7F5NUQ7DKN5WAUXRMWQ/results/packets.csv\n",
    "/media/aris/portabledata/contiki-experiments/10000pkt-50-60-x3/6VKOJKMGZ2VUO254DCKDATFFBKP4CQDC/results/packets.csv\n",
    "/media/aris/portabledata/contiki-experiments/10000pkt-50-60-x3/P35CLF3MZGGPI4LFE5VCVYTACSI45M4N/results/packets.csv\n",
    "/media/aris/portabledata/contiki-experiments/10000pkt-50-60-x3/67ACWHKMYWQLJJSACHQBFFEAHBSCMCNJ/results/packets.csv\n",
    "/media/aris/portabledata/contiki-experiments/10000pkt-50-60-x3/H644KXZEI5CTMII2OIK5LJT36ULW5N7Z/results/packets.csv\n",
    "/media/aris/portabledata/contiki-experiments/10000pkt-50-60-x3/4IAUA5AJBRQ645WHUBSVLRQP6YQNCFMY/results/packets.csv\n",
    "/media/aris/portabledata/contiki-experiments/10000pkt-50-60-x3/MEBAVUCSDJATETMZO4SVEY6YWO3FQBUU/results/packets.csv\n",
    "/media/aris/portabledata/contiki-experiments/10000pkt-50-60-x3/W2U3NGTV2XJWECIPWUYPF2N22ALGJRE2/results/packets.csv\n",
    "/media/aris/portabledata/contiki-experiments/10000pkt-50-60-x3/225GFPT3O4UIKPXVVNKNEW36HBQGKWDV/results/packets.csv\n",
    "/media/aris/portabledata/contiki-experiments/10000pkt-50-60-x3/NNW6NEBMKT4D4KYQDMKVKOLGGDP7EBE5/results/packets.csv\n",
    "/media/aris/portabledata/contiki-experiments/10000pkt-50-60-x3/L4AUXSPJKQXRAZCEWQLTCLWBNDDGBIZ6/results/packets.csv\n",
    "/media/aris/portabledata/contiki-experiments/10000pkt-50-60-x3/4KNPXPMO5FOZ6HPUUII3COZ45OSPFPOT/results/packets.csv\n",
    "/media/aris/portabledata/contiki-experiments/10000pkt-50-60-x3/N2VJV2X6JIRGNDCJTCG54LS66ANPMDL6/results/packets.csv\n",
    "/media/aris/portabledata/contiki-experiments/10000pkt-50-60-x3/4F6EL3WJWR5MSM5JVGORSOFPDS5OK5UG/results/packets.csv\n",
    "/media/aris/portabledata/contiki-experiments/10000pkt-50-60-x3/BDPUUWI6TI4VIIQKF3OOZYKYSHHE4T3W/results/packets.csv\n",
    "/media/aris/portabledata/contiki-experiments/10000pkt-50-60-x3/YIKWCTXADCRPYE6RG7V4DQFOK3WNXH3J/results/packets.csv\n",
    "/media/aris/portabledata/contiki-experiments/10000pkt-50-60-x3/W42GGQW5OVN56EC4NBOHYCUTYJCQCLVB/results/packets.csv\n",
    "/media/aris/portabledata/contiki-experiments/10000pkt-50-60-x3/4WBVMQFJXJ2AST6PA5DVT23BGWDPFMTP/results/packets.csv\n",
    "/media/aris/portabledata/contiki-experiments/10000pkt-50-60-x3/5PN333FG73FAF5XXQGUINZEMNU6E7K3G/results/packets.csv\n",
    "/media/aris/portabledata/contiki-experiments/10000pkt-50-60-x3/2EXNXRZ5GGEY2LEN4HYXWJ6NFPRPNGJX/results/packets.csv\n",
    "/media/aris/portabledata/contiki-experiments/10000pkt-50-60-x3/M3UOREPFADHA2HP3O6WV7MUP5LCYNSNF/results/packets.csv\n",
    "/media/aris/portabledata/contiki-experiments/10000pkt-50-60-x3/5U527EHMW5G25PD5IGDFQG4FNT2BI7PC/results/packets.csv\n",
    "/media/aris/portabledata/contiki-experiments/10000pkt-50-60-x3/PDNTJ2Y4ON365XHL4OPFIE2KAC7NQAIR/results/packets.csv\n",
    "/media/aris/portabledata/contiki-experiments/10000pkt-50-60-x3/HIDH74SW2NWVV66BB4X3A7EDJLVCL4G6/results/packets.csv\n",
    "/media/aris/portabledata/contiki-experiments/10000pkt-50-60-x3/FFNJGFYFLCYKDJ5QU4HO5PJVBQTBXNNK/results/packets.csv\n",
    "/media/aris/portabledata/contiki-experiments/10000pkt-50-60-x3/43FAER7QCJELZ2CV5ILXI2LE3X3MB6MZ/results/packets.csv\n",
    "/media/aris/portabledata/contiki-experiments/10000pkt-50-60-x3/EVQ3KNRSKGPA7MIVRSEE4UKCLVWZICRV/results/packets.csv\n",
    "/media/aris/portabledata/contiki-experiments/10000pkt-50-60-x3/LGVLRV4URR5WXKZMH7DDZTVICFFB22M4/results/packets.csv\"\"\".split(\"\\n\")"
   ]
  },
  {
   "cell_type": "code",
   "metadata": {},
   "outputs": [],
   "source": [
    "input_files1[0]"
   ]
  },
  {
   "cell_type": "code",
   "metadata": {},
   "outputs": [],
   "source": [
    "input_files2[0]"
   ]
  },
  {
   "cell_type": "code",
   "metadata": {},
   "outputs": [],
   "source": [
    "input_files3[0]"
   ]
  },
  {
   "cell_type": "code",
   "metadata": {},
   "outputs": [],
   "source": [
    "input_files4[0]"
   ]
  },
  {
   "cell_type": "code",
   "metadata": {
    "scrolled": true
   },
   "outputs": [],
   "source": [
    "df_list = []\n",
    "for input_file in input_files1+input_files2+input_files3:\n",
    "    df_temp = pd.read_csv(input_file, sep=';')\n",
    "    df_list.append(df_temp)\n",
    "for input_file in input_files4:\n",
    "    df_temp = pd.read_csv(input_file, sep=';')\n",
    "    df_temp = df_temp[df_temp['RadioQualitySetQualityInPercent']==60]\n",
    "    df_list.append(df_temp)\n",
    "    \n",
    "print(len(df_list))\n",
    "df = pd.concat(df_list)\n",
    "df_backup = df.copy()\n",
    "df[14:17]"
   ]
  },
  {
   "cell_type": "code",
   "metadata": {
    "collapsed": true
   },
   "outputs": [],
   "source": [
    "df = df_backup.copy()"
   ]
  },
  {
   "cell_type": "code",
   "metadata": {},
   "outputs": [],
   "source": [
    "list(df.columns)"
   ]
  },
  {
   "cell_type": "code",
   "metadata": {
    "collapsed": true
   },
   "outputs": [],
   "source": [
    "#add this column for later where the theoretical PDR is added\n",
    "df['TheoreticalLeapfrog']=-1"
   ]
  },
  {
   "cell_type": "code",
   "metadata": {},
   "outputs": [],
   "source": [
    "list(df.columns)"
   ]
  },
  {
   "cell_type": "code",
   "metadata": {
    "collapsed": true
   },
   "outputs": [],
   "source": [
    "input_columns = ['SimDir',\n",
    " 'DataSendStartTimeInS',\n",
    " 'DataSendIntervalTimeInS',\n",
    " 'TschSchedulePrintIntervalInS',\n",
    " 'WithThunderAdaptiveEbSlot',\n",
    " 'SimulationEndTimeInS',\n",
    " 'PowertrackerIntervalTimeInS',\n",
    " 'PowertrackerInitialDelayTimeInS',\n",
    " 'RadioQualitySetTimeInS',\n",
    " 'GrandparentKillTimeInS',\n",
    " 'GrandchildOfGrandparentKillMoteId',\n",
    " 'RandomSeedNumber',\n",
    " 'TschConfMacMaxFrameRetries',\n",
    " 'LeapfrogRetries',\n",
    " 'RadioQualitySetQualityInPercent',\n",
    " 'RadioQualitySetRootQualityInPercent',\n",
    " 'MakeWithThunder',\n",
    " 'MakeWithLinkpeek',\n",
    " 'LinkpeekDefaultMaxParents',\n",
    " 'MakeWithLeapfrog',\n",
    " 'WithOverhearing',\n",
    " 'RadioQualityRandomSetMinQualityInPercent',\n",
    " 'RadioQualityRandomSetMaxQualityInPercent',\n",
    " 'RadioQualityRandomStartSetTimeInS',\n",
    " 'RadioQualityRandomSetIntervalTimeInS',\n",
    " 'TheoreticalLeapfrog']"
   ]
  },
  {
   "cell_type": "code",
   "metadata": {},
   "outputs": [],
   "source": [
    "output_columns = list(set(df.columns) - set(input_columns))\n",
    "output_columns"
   ]
  },
  {
   "cell_type": "code",
   "metadata": {
    "collapsed": true
   },
   "outputs": [],
   "source": [
    "#df.info()"
   ]
  },
  {
   "cell_type": "code",
   "metadata": {
    "collapsed": true
   },
   "outputs": [],
   "source": [
    "#Convert column types: replace float64 in columns with really only integral data with int64 and replace the NaN with an invalid integral, typically -1\n",
    "def convert_to_int(df, column_list, nan_to_value, new_type=np.int64, downcast=False):\n",
    "    for column_name in column_list:\n",
    "        df.loc[np.isnan(df[column_name]), column_name] = nan_to_value\n",
    "        if not downcast:\n",
    "            df[column_name] = df[column_name].astype(new_type)\n",
    "        else:\n",
    "            df[column_name] = pd.to_numeric(df[column_name], errors='raise', downcast='integer')\n",
    "        print(column_name, pd.unique(df[column_name]))\n",
    "    return df\n",
    "\n",
    "# converted_columns = list(set(input_columns) - set(['SimDir']))\n",
    "# convert_to_int(df, converted_columns, -1)\n"
   ]
  },
  {
   "cell_type": "code",
   "metadata": {
    "collapsed": true
   },
   "outputs": [],
   "source": [
    "# df.info()"
   ]
  },
  {
   "cell_type": "code",
   "metadata": {
    "collapsed": true
   },
   "outputs": [],
   "source": [
    "# df.loc[(df['AppReceivedAt'] == -1), 'MacReceivedAt'] = np.nan\n",
    "# df.loc[(df['AppReceivedAt'] == -1), 'AppReceivedAt'] = np.nan\n",
    "# df.loc[(df['MacReceivedAt'] == -1), 'MacReceivedAt'] = np.nan\n",
    "# df.loc[(df['MacSentAt'] == -1), 'MacSentAt'] = np.nan"
   ]
  },
  {
   "cell_type": "code",
   "metadata": {},
   "outputs": [],
   "source": [
    "df.info()"
   ]
  },
  {
   "cell_type": "code",
   "metadata": {
    "collapsed": true
   },
   "outputs": [],
   "source": [
    "# for logfile in `find /media/aris/portabledata/contiki-experiments/10000pkt -name 'COOJA.testlog'`; do echo \"$logfile\"; cat \"$logfile\" | grep -P '(kf0Kz)|(data_packet_id)'| grep -vP '^[0-9]+\\|[0-9]\\|(Init|LEAPFROG|PowerTracker|RPL|TSCH|TSCH-queue|TSCH-schedule|TSCH-slot-operation|ff02|mac|receiver|sender)'; done\n",
    "\n",
    "# /media/aris/portabledata/contiki-experiments/10000pkt/IQSNUUHOG56EQXYAHAKE2GKQEDIZNFHS/results/COOJA.testlog\n",
    "# 20100318000|6|TSC23850487000|8|sender: Sending 'SxKkf0KzxcQ0B1509' data_packet_id: 1509\n",
    "# /media/aris/portabledata/contiki-experiments/10000pkt/4L3FFF6C4IYX7UZSV7FNBW6YZJJRRFKI/results/COOJA.testlog\n"
   ]
  },
  {
   "cell_type": "code",
   "metadata": {
    "collapsed": true
   },
   "outputs": [],
   "source": [
    "# for logfile in `find /media/aris/portabledata/contiki-experiments/10000pkt -name 'COOJA.testlog'`; do echo \"$logfile\"; cat \"$logfile\" | grep -P '\\|[^|]+\\|[^|]*\\|'; done\n",
    "# /media/aris/portabledata/contiki-experiments/10000pkt/PRFFTDRQZ7ODERSSIFVN6KTHDBHZYLRZ/results/COOJA.testlog\n",
    "# /media/aris/portabledata/contiki-experiments/10000pkt/NPEPTG2323ONGX7NBQ3H6GY6O5M2WT24/results/COOJA.testlog\n",
    "# /media/aris/portabledata/contiki-experiments/10000pkt/QJ522MMH6JYDLJYVAZC75MWUHOXESUXP/results/COOJA.testlog\n",
    "# /media/aris/portabledata/contiki-experiments/10000pkt/VRP23D75SMRJ5APKURH6ZJ5ATCNJUUS7/results/COOJA.testlog\n",
    "# /media/aris/portabledata/contiki-experiments/10000pkt/ZFVUR2HMPVZJHCBNHRCEHL7MBG5KHDGP/results/COOJA.testlog\n",
    "# /media/aris/portabledata/contiki-experiments/10000pkt/BMRP2NQAD5ASTENY25TQUQC3PA3G4U7P/results/COOJA.testlog\n",
    "# /media/aris/portabledata/contiki-experiments/10000pkt/XCXC23H6NCG24EILSBB7HQMKK6I3GFHL/results/COOJA.testlog\n",
    "# /media/aris/portabledata/contiki-experiments/10000pkt/QEEXHUMIUGPL33FOCKUULCXOPAS5Y475/results/COOJA.testlog\n",
    "# /media/aris/portabledata/contiki-experiments/10000pkt/2M73CWFD3TS6ON7ZMFM2PJ2P3TROYDJW/results/COOJA.testlog\n",
    "# /media/aris/portabledata/contiki-experiments/10000pkt/7SR3WN7WR35FXVXLKBAJAAUAFEKZIO7A/results/COOJA.testlog\n",
    "# /media/aris/portabledata/contiki-experiments/10000pkt/YRRORTHZMSHUNZJK3FU5UDBPQIL5FYTB/results/COOJA.testlog\n",
    "# /media/aris/portabledata/contiki-experiments/10000pkt/TIKESQ6J36KTQKCMX7YRL5F75XV7JCDE/results/COOJA.testlog\n",
    "# /media/aris/portabledata/contiki-experiments/10000pkt/MTPTWECZSFU7XWYK6TTURUOKKXZF5GJ7/results/COOJA.testlog\n",
    "# 112126076192|3|TSCH-queue: packet is added put_index=6, packet=0x7f112126076192|3|TSCH: send packet to 1 with seqno 210, queue 0 1, len 21 68 data_packet_id: 7394\n",
    "# 112140251000|2|TSCH-schedule: [Link] Options 02, type 0, timeslot 50, channel 115920251000|2|--- Network status ---\n",
    "# /media/aris/portabledata/contiki-experiments/10000pkt/KQACKK6Z6ASIHXH5WIUNBLKCT65ZZYVF/results/COOJA.testlog\n",
    "# /media/aris/portabledata/contiki-experiments/10000pkt/ZPQSSZUEBYO4BMDCOBEICYZIHDILNMBJ/results/COOJA.testlog\n",
    "# 71746276192|4|TSCH-queue71746276192|4|mac: mac_call_sent_callback: mac_callback_t 0x7faab4507f46 ptr (nil) status 0 num_tx 1\n",
    "# 71760318000|6|TSCH-schedule: [Link] Options75572096192|4|#L 3 1; red\n",
    "# /media/aris/portabledata/contiki-experiments/10000pkt/U72M7NEECZ2VOMC6XUQO2FINADHLNCJP/results/COOJA.testlog\n",
    "# /media/aris/portabledata/contiki-experiments/10000pkt/2GGWHC4VGXNJSULZU4OXBDWOCNG7X5IT/results/COOJA.testlog\n",
    "# /media/aris/portabledata/contiki-experiments/10000pkt/DXHROT53BSP6QVFXMJBG5RQZPGMT5UTG/results/COOJA.testlog\n",
    "# /media/aris/portabledata/contiki-experiments/10000pkt/EDQK2P2YMQ4AK7QRTWG4CLTKWIFUIPJC/results/COOJA.testlog\n",
    "# /media/aris/portabledata/contiki-experiments/10000pkt/AIVYDHSPDOOQ62S6M6CYAHDOWYJTZAIV/results/COOJA.testlog\n",
    "# /media/aris/portabledata/contiki-experiments/10000pkt/YVK4NHEG722JWNSU4F2IQNN7LB5G4PIK/results/COOJA.testlog\n",
    "# /media/aris/portabledata/contiki-experiments/10000pkt/4JQXQFBPG4HQER5YRYOG5IU7HYMGLZLY/results/COOJA.testlog\n",
    "# /media/aris/portabledata/contiki-experiments/10000pkt/T326EGQPEMLKWOTMG7OGN5T3F3563PHN/results/COOJA.testlog\n",
    "# /media/aris/portabledata/contiki-experiments/10000pkt/MX3PU3F2UXIKRNNQWBMWTPXPGJ6IDBCL/results/COOJA.testlog\n",
    "# /media/aris/portabledata/contiki-experiments/10000pkt/KAKXE2SUXGO56A62P3YVQKYOM3TH2TGY/results/COOJA.testlog\n",
    "# /media/aris/portabledata/contiki-experiments/10000pkt/EOCYPCC57FBC6PFTZAGGATIXHUGOS3BR/results/COOJA.testlog\n",
    "# /media/aris/portabledata/contiki-experiments/10000pkt/EQQSIW3SE4JIUKOQ6KWHPTCWCISMWSWZ/results/COOJA.testlog\n",
    "# /media/aris/portabledata/contiki-experiments/10000pkt/D4JZ7LOOY5IBQETAAUSHT2QJA6FT5DHJ/results/COOJA.testlog\n",
    "# /media/aris/portabledata/contiki-experiments/10000pkt/MI4JWKAWKUYFUSTCUBAEWEGWZTJ4S2Z6/results/COOJA.testlog\n",
    "# /media/aris/portabledata/contiki-experiments/10000pkt/LOOBD6XXMAG53XHGMMQXRWD7T2FDTMAI/results/COOJA.testlog\n",
    "# /media/aris/portabledata/contiki-experiments/10000pkt/XKTXP2TND2YFOM5CXH7UVS7GAV5JYJZO/results/COOJA.testlog\n",
    "# /media/aris/portabledata/contiki-experiments/10000pkt/4NAFFYZ4BMMVRJATGLZ4NIMVCQNHAOHF/results/COOJA.testlog\n",
    "# /media/aris/portabledata/contiki-experiments/10000pkt/C27OI5PZ4UXMDR4DXFFWHNDN4MZXFT4D/results/COOJA.testlog\n",
    "# /media/aris/portabledata/contiki-experiments/10000pkt/3WFQ4JHGLO2CVK2M2KAF5TNNYOCY4XYK/results/COOJA.testlog\n",
    "# /media/aris/portabledata/contiki-experiments/10000pkt/AIOM5RLN22LXG5E5ZGI65UGDAVU4VFUP/results/COOJA.testlog\n",
    "# /media/aris/portabledata/contiki-experiments/10000pkt/5T6TSDBRNC37IA4ILT6GM6Z3STFIYVPM/results/COOJA.testlog\n",
    "# /media/aris/portabledata/contiki-experiments/10000pkt/DTG5FHSWZ66DCMBGLCS67VWUFO3QUV65/results/COOJA.testlog\n",
    "# /media/aris/portabledata/contiki-experiments/10000pkt/RK5P6QPJXNL2Y33YNGQNLXPQUSGV7LI6/results/COOJA.testlog\n",
    "# /media/aris/portabledata/contiki-experiments/10000pkt/CJGAXQLWGALVPKKNEMTUA2DDXFUQ5BPO/results/COOJA.testlog\n",
    "# /media/aris/portabledata/contiki-experiments/10000pkt/4Q4TMFYGH2ZBMZ3SMD7PPUJU2GLCDIXZ/results/COOJA.testlog\n",
    "# /media/aris/portabledata/contiki-experiments/10000pkt/IE7ANHOYVTQL4ATITHRMCQLMNAXPNIXI/results/COOJA.testlog\n",
    "# /media/aris/portabledata/contiki-experiments/10000pkt/LDGSL6WNH5WVPBWC2CZVOOMTIPZ3UOKW/results/COOJA.testlog\n",
    "# /media/aris/portabledata/contiki-experiments/10000pkt/PMUTSGHU3T3KTUGYFMSPAMXD4IQR7JGU/results/COOJA.testlog\n",
    "# /media/aris/portabledata/contiki-experiments/10000pkt/YY7RDSTLREPAE263I6M47G5MYSSKUORF/results/COOJA.testlog\n",
    "# /media/aris/portabledata/contiki-experiments/10000pkt/YWRVTQOCHIICPTNAEN3YONS4DLLQK4N4/results/COOJA.testlog\n",
    "# 109200318000|6|TSCH-schedule: [Link] Options 02, type 0, timeslot 2109200318000|6|TSCH-schedule: [Link] Options 01, type 0, timeslot 57, channel offset 0, address 255\n",
    "# 109200780000|1|TSCH-schedule: [Link] O113002533000|4|TSCH-queue: packet is added put_index=14, packet=0x7f464cfdd4a0\n",
    "# /media/aris/portabledata/contiki-experiments/10000pkt/VMA2Z5VN2SXV2UAAMANEOSRC6UX5VJDD/results/COOJA.testlog\n",
    "# /media/aris/portabledata/contiki-experiments/10000pkt/7UKDZDSU4BLWSD26E7PJW6ILNVJUTN5L/results/COOJA.testlog\n",
    "# /media/aris/portabledata/contiki-experiments/10000pkt/WQ5POJT7GXHWZSMR3MY43I3XYYOPH7TT/results/COOJA.testlog\n",
    "# /media/aris/portabledata/contiki-experiments/10000pkt/QKBBOCCBBYH4NBBJ7H2S4H2NF7SQM576/results/COOJA.testlog\n",
    "# /media/aris/portabledata/contiki-experiments/10000pkt/URLZ2UHWURMJG5URZKJRCY4F3OAGUZMG/results/COOJA.testlog\n",
    "# /media/aris/portabledata/contiki-experiments/10000pkt/NT63ZYO5PH3NSW3QAUVIOM4ZGB4QONRD/results/COOJA.testlog\n",
    "# /media/aris/portabledata/contiki-experiments/10000pkt/QNATJC4ENS7RB3MPJURZTNK3G372S5ZQ/results/COOJA.testlog\n",
    "# /media/aris/portabledata/contiki-experiments/10000pkt/O5BQI7AHY5LWNG7WDCD3KEPYFZ7JMF66/results/COOJA.testlog\n",
    "# /media/aris/portabledata/contiki-experiments/10000pkt/VSVVDVXGNFDYMOSWMT3DNXGWZPYXHWGV/results/COOJA.testlog\n",
    "# /media/aris/portabledata/contiki-experiments/10000pkt/F6RR6AUBE34AAU3NCWPAV76UNIXOGCKH/results/COOJA.testlog\n",
    "# /media/aris/portabledata/contiki-experiments/10000pkt/JG5S7J4L2RFFGO6VBWCTMOHK6J3ZDUJH/results/COOJA.testlog\n",
    "# /media/aris/portabledata/contiki-experiments/10000pkt/ABP2B3US6VCSLGLM4IAEV66D7FRWDKNL/results/COOJA.testlog\n",
    "# /media/aris/portabledata/contiki-experiments/10000pkt/LIVLQXRF6ZHTLISJZK5L42GSSOUIBSYO/results/COOJA.testlog\n",
    "# /media/aris/portabledata/contiki-experiments/10000pkt/VDZBP7D7NNGMBJPZ7JGOBY7VWPJRKM3A/results/COOJA.testlog\n",
    "# /media/aris/portabledata/contiki-experiments/10000pkt/FM3GRNHU6PFXFJTKDEOFQWU7WTRLGN75/results/COOJA.testlog\n",
    "# /media/aris/portabledata/contiki-experiments/10000pkt/UP63BAHABAGA7DZ37T7T5IXCQRUBVJ5L/results/COOJA.testlog\n",
    "# /media/aris/portabledata/contiki-experiments/10000pkt/4HHKASB5IJ6LJT3X5RBPBADIWICMC2BM/results/COOJA.testlog\n",
    "# /media/aris/portabledata/contiki-experiments/10000pkt/LFGYHOGD4YLAL74RZ2X7AGCERZUTFP2V/results/COOJA.testlog\n",
    "# /media/aris/portabledata/contiki-experiments/10000pkt/DUJXF7WGYGT44EVAL5LV3EMQ65PZ6VJJ/results/COOJA.testlog\n",
    "# /media/aris/portabledata/contiki-experiments/10000pkt/GI2KVC5D7VYJGXMMLEVCCDPFISYXVWXO/results/COOJA.testlog\n",
    "# 67680251000|2|TSCH-67680318000|6|- Server IPv6 addresses:\n",
    "# /media/aris/portabledata/contiki-experiments/10000pkt/6VU7CABBYL4I3DAC6ATAPB3L5OYZNQTF/results/COOJA.testlog\n",
    "# /media/aris/portabledata/contiki-experiments/10000pkt/EQWLD2S6ZJ3SNTPFIIPZEW2PAWVMHWCY/results/COOJA.testlog\n",
    "# /media/aris/portabledata/contiki-experiments/10000pkt/BXS3KEPE7IVZWSUBVCLJPKP4T7G7WUQX/results/COOJA.testlog\n",
    "# /media/aris/portabledata/contiki-experiments/10000pkt/HDOPFSZYZUX5LAPPVKPGR2ZNWDA7ZUU4/results/COOJA.testlog\n",
    "# /media/aris/portabledata/contiki-experiments/10000pkt/FKK736QGNZAT4WQCALGUXOKQBYJMPKSH/results/COOJA.testlog\n",
    "# /media/aris/portabledata/contiki-experiments/10000pkt/NDCVF2XCJZJAVB67MGNDRUIDCBCT53SW/results/COOJA.testlog\n",
    "# /media/aris/portabledata/contiki-experiments/10000pkt/OKTVGQIOPJ4DCYT3KQS73H4HFG7OVSDY/results/COOJA.testlog\n",
    "# /media/aris/portabledata/contiki-experiments/10000pkt/IEW4A7KK2RLGII5IH24QTQZWJC2WW5UJ/results/COOJA.testlog\n",
    "# /media/aris/portabledata/contiki-experiments/10000pkt/ABM2HSPBP3IDOQLS4VJY5H27B2BSZTLF/results/COOJA.testlog\n",
    "# /media/aris/portabledata/contiki-experiments/10000pkt/5RHMFWUTP5Z7SF63B7UKW4HASS2ZK4GJ/results/COOJA.testlog\n",
    "# /media/aris/portabledata/contiki-experiments/10000pkt/Q4EWTRE3LKDSUPS2TIJJLELYAKEGJQ4G/results/COOJA.testlog\n",
    "# /media/aris/portabledata/contiki-experiments/10000pkt/MNMJFOZ7NTS4LJXHYZNLIHITHWFBQ6IC/results/COOJA.testlog\n",
    "# /media/aris/portabledata/contiki-experiments/10000pkt/S6KPU6HVF65IJJ7IIJPUYTEZB7JT5MBS/results/COOJA.testlog\n",
    "# /media/aris/portabledata/contiki-experiments/10000pkt/GJQPTOAHZSS6HTTYJGCZFJZUXKOTMZ4V/results/COOJA.testlog\n",
    "# /media/aris/portabledata/contiki-experiments/10000pkt/2E66WQVFI5KKJBDXV6ILCC6MPJNYOR4B/results/COOJA.testlog\n",
    "# /media/aris/portabledata/contiki-experiments/10000pkt/2LFBYAMVP3QOPKZUJTS7RJ23LP3637MQ/results/COOJA.testlog\n",
    "# /media/aris/portabledata/contiki-experiments/10000pkt/OM5B7ORMD3J6BEM6ZISBJ46YFAXXQDPX/results/COOJA.testlog\n",
    "# /media/aris/portabledata/contiki-experiments/10000pkt/DLKIDS67RNWGXT2JKJXG7MEDU44ML2WI/results/COOJA.testlog\n",
    "# /media/aris/portabledata/contiki-experiments/10000pkt/GPX63MHIRO4NFMBAFA7KE6JQ3FIEQK4J/results/COOJA.testlog\n",
    "# /media/aris/portabledata/contiki-experiments/10000pkt/S5R3YMNFY2U652M57XKSCFGDZJDAFXIT/results/COOJA.testlog\n",
    "# /media/aris/portabledata/contiki-experiments/10000pkt/2GOKUWYOUVESAHFF2IGKHDQWRFKHBFZY/results/COOJA.testlog\n",
    "# /media/aris/portabledata/contiki-experiments/10000pkt/KC7O2UVS6JXHY4MM47EZMSC5GQNKTQ7C/results/COOJA.testlog\n",
    "# /media/aris/portabledata/contiki-experiments/10000pkt/RMOXXIS2CVELJRPN4BNCBDNHX3VENQZ3/results/COOJA.testlog\n",
    "# /media/aris/portabledata/contiki-experiments/10000pkt/BBZBYJMKO5BIBI2OQNY34NUXCDBN5BKE/results/COOJA.testlog\n",
    "# /media/aris/portabledata/contiki-experiments/10000pkt/ZJUTDFHELKATYC7ZEXNU643VJVQJS77I/results/COOJA.testlog\n",
    "# /media/aris/portabledata/contiki-experiments/10000pkt/VNLRTNKSUYGXEZRTXUWXYC2UTLVSV6TK/results/COOJA.testlog\n",
    "# /media/aris/portabledata/contiki-experiments/10000pkt/76O63VJY7GSAJ7OIIBSAOYHQR6D4XV66/results/COOJA.testlog\n",
    "# /media/aris/portabledata/contiki-experiments/10000pkt/3FRME4TEO4KAQIJE7MYZ7XOVI7HIHA6F/results/COOJA.testlog\n",
    "# /media/aris/portabledata/contiki-experiments/10000pkt/IQSNUUHOG56EQXYAHAKE2GKQEDIZNFHS/results/COOJA.testlog\n",
    "# 20085665904|6|TSCH: send packet to 5 with seqno 15520085665904|8|mac: mac_call_sent_callback: mac_callback_t 0x7f89a5af3220 ptr (nil) status 0 num_tx 1\n",
    "# 20100318000|6|TSC23850487000|8|sender: Sending 'SxKkf0KzxcQ0B1509' data_packet_id: 1509\n",
    "# /media/aris/portabledata/contiki-experiments/10000pkt/4L3FFF6C4IYX7UZSV7FNBW6YZJJRRFKI/results/COOJA.testlog\n",
    "# /media/aris/portabledata/contiki-experiments/10000pkt/SFB6CA752RBIRFRMZBPZJFPZVUAXWI3F/results/COOJA.testlog\n",
    "# /media/aris/portabledata/contiki-experiments/10000pkt/KA52DAM2IWZQF3VCKCOZE3J6TVY7CE4O/results/COOJA.testlog\n",
    "# /media/aris/portabledata/contiki-experiments/10000pkt/FPBPSGE7YQNJU3DSCGU4GFFKQ27GG33P/results/COOJA.testlog\n",
    "# /media/aris/portabledata/contiki-experiments/10000pkt/H2DOR6MRBMIL7KPQRJWEPDFZFWG2LLZ6/results/COOJA.testlog\n",
    "# /media/aris/portabledata/contiki-experiments/10000pkt/RQUXB6RYYLNHR2DHNXOTXKPHVRQHPSBM/results/COOJA.testlog\n",
    "# /media/aris/portabledata/contiki-experiments/10000pkt/5J3DUAWZQ6GFNM5LOPPF72Z3P342ECOZ/results/COOJA.testlog\n",
    "# 71026336616|2|TSCH: send packet to 1 with seqno 139, queue 0 73001922000|8|TSCH-queue: packet is added put_index=15, packet=0x7f2ee0577620\n",
    "# /media/aris/portabledata/contiki-experiments/10000pkt/Y4NLMX7K24K47E23C5MYOFS43RDRP7HN/results/COOJA.testlog\n",
    "# /media/aris/portabledata/contiki-experiments/10000pkt/IR2HDIXOWPWTSUUV6ABTHMEODWLBZ7BG/results/COOJA.testlog\n",
    "# /media/aris/portabledata/contiki-experiments/10000pkt/O7OZX4K4STU4BM7IF4VDXXAQ3ATKL63H/results/COOJA.testlog\n",
    "# /media/aris/portabledata/contiki-experiments/10000pkt/GKQSEI4OIMKX55BMY7KP623JHACFI67R/results/COOJA.testlog\n",
    "# /media/aris/portabledata/contiki-experiments/10000pkt/A4WL54BKZME7PUQYTUXXZ5CSCZ4JQWKG/results/COOJA.testlog\n",
    "# /media/aris/portabledata/contiki-experiments/10000pkt/3CEUUWM5WKTUDBCAPM7OFGP2KBL4WGOR/results/COOJA.testlog\n",
    "# /media/aris/portabledata/contiki-experiments/10000pkt/CWBQCIWITO74KRTS2N6KKFYNLHDHP4TE/results/COOJA.testlog\n",
    "# /media/aris/portabledata/contiki-experiments/10000pkt/AWP4GC7SAMQG5BFGOUMJTKJITW3ICS2F/results/COOJA.testlog\n",
    "# /media/aris/portabledata/contiki-experiments/10000pkt/FVX4OODMFEPFCV3RBD7RMNNG2L3SIOMP/results/COOJA.testlog\n",
    "# /media/aris/portabledata/contiki-experiments/10000pkt/IOTG7LRBR2RAFDP2TEPBAV2QBDC3ULDD/results/COOJA.testlog\n",
    "# 89968965000|8|TSCH-q89969016000|4|RPL: rpl_process_parent_event recalculate_ranks\n",
    "# 89971816616|4|LEAPFROG: defau91894976488|7|TSCH: received from 5 with seqno 91\n",
    "# /media/aris/portabledata/contiki-experiments/10000pkt/NYINX3T73OS4J2LZUKLZ2HTWCHMSDMS4/results/COOJA.testlog\n",
    "# /media/aris/portabledata/contiki-experiments/10000pkt/XKQGMXTP2F2WAKZHUOJJBNSIEUJKUBG6/results/COOJA.testlog\n",
    "# 121460016000|4|TSCH: send packet to 255 with seqno 40, queue121460338000|7|TSCH-queue: packet is added put_index=5, packet=0x7f13018b3580\n",
    "# 121461915656|4|TSCH-slot-operation: tsch_rx_slot: da124905850000|8|sender: Sending '^SxKkf0KzxcQ0B8246' data_packet_id: 8246\n",
    "# /media/aris/portabledata/contiki-experiments/10000pkt/I766IC5D7BVXQREJJSCSOIX2O7RHXJEM/results/COOJA.testlog\n",
    "# /media/aris/portabledata/contiki-experiments/10000pkt/RGGH2KTFVY3VM5WSHJTXNVBZZTYO7MT5/results/COOJA.testlog\n",
    "# /media/aris/portabledata/contiki-experiments/10000pkt/7VFSBYMDWMJN27G45Y2ZFX2RJVVRST7C/results/COOJA.testlog\n",
    "# /media/aris/portabledata/contiki-experiments/10000pkt/NYWVJXK2BZRBIITQAS6KEYFGF6DCUBVY/results/COOJA.testlog\n",
    "# /media/aris/portabledata/contiki-experiments/10000pkt/7Y5MFL5BN43JDY7BVOMTHZYHPH4P5RYS/results/COOJA.testlog\n",
    "# /media/aris/portabledata/contiki-experiments/10000pkt/YPMKCUBBBLFKOYA2AY3HPHAZFELP5N2P/results/COOJA.testlog\n",
    "# /media/aris/portabledata/contiki-experiments/10000pkt/BOAZ7IXRSX44T3NN5IHAMTF2K7IXGJI7/results/COOJA.testlog"
   ]
  },
  {
   "cell_type": "code",
   "metadata": {
    "collapsed": true,
    "scrolled": true
   },
   "outputs": [],
   "source": [
    "#np.unique(df[(pd.isnull(df['AppSentAt'])) & ((pd.notnull(df['MacSentAt'])) | (pd.notnull(df['MacReceivedAt'])) | (pd.notnull(df['AppReceivedAt'])))]['SimDir'], return_counts=True)"
   ]
  },
  {
   "cell_type": "code",
   "metadata": {
    "collapsed": true,
    "scrolled": true
   },
   "outputs": [],
   "source": [
    "#Problematic cases where weirdness is expected\n",
    "# df[\n",
    "#     (pd.notnull(df['AppReceivedAt'])) & ((pd.isnull(df['AppSentAt'])) | (pd.isnull(df['MacSentAt'])) | (pd.isnull(df['MacReceivedAt']))) |\n",
    "#     (pd.notnull(df['MacReceivedAt'])) & ((pd.isnull(df['AppSentAt'])) | (pd.isnull(df['MacSentAt'])) | (pd.isnull(df['AppReceivedAt']))) |\n",
    "#     (pd.notnull(df['MacSentAt'])) & ((pd.isnull(df['AppSentAt'])))\n",
    "# ]"
   ]
  },
  {
   "cell_type": "code",
   "metadata": {
    "collapsed": true,
    "scrolled": true
   },
   "outputs": [],
   "source": [
    "# df[\n",
    "#     (pd.notnull(df['AppReceivedAt'])) & ((pd.isnull(df['AppSentAt'])) | (pd.isnull(df['MacSentAt'])) | (pd.isnull(df['MacReceivedAt'])))\n",
    "# ]"
   ]
  },
  {
   "cell_type": "code",
   "metadata": {
    "collapsed": true,
    "scrolled": true
   },
   "outputs": [],
   "source": [
    "# df[\n",
    "#     (pd.notnull(df['MacReceivedAt'])) & ((pd.isnull(df['AppSentAt'])) | (pd.isnull(df['MacSentAt'])) | (pd.isnull(df['AppReceivedAt'])))\n",
    "# ]"
   ]
  },
  {
   "cell_type": "code",
   "metadata": {
    "collapsed": true,
    "scrolled": true
   },
   "outputs": [],
   "source": [
    "# df[\n",
    "#     (pd.notnull(df['MacSentAt'])) & ((pd.isnull(df['AppSentAt'])))\n",
    "# ]"
   ]
  },
  {
   "cell_type": "code",
   "metadata": {
    "collapsed": true
   },
   "outputs": [],
   "source": [
    "# print(np.unique(pd.isnull(df['AppReceivedAt']), return_counts=True))\n",
    "# print(np.unique(pd.isnull(df['MacReceivedAt']), return_counts=True))\n",
    "# print(np.unique(pd.isnull(df['AppSentAt']), return_counts=True))\n",
    "# print(np.unique(pd.isnull(df['MacSentAt']), return_counts=True))"
   ]
  },
  {
   "cell_type": "code",
   "metadata": {},
   "outputs": [],
   "source": [
    "#last_packet_9900_mins = (20*60 + 15*9900)/60\n",
    "df = df[(df['AppSentAt'] > 20*60*1000*1000) & (df['AppSentAt'] < ((df['SimulationEndTimeInS']*1000*1000)-20*60*1000*1000))]\n",
    "# df.reset_index(drop=True, inplace=True)\n",
    "df.info()"
   ]
  },
  {
   "cell_type": "code",
   "metadata": {
    "collapsed": true,
    "scrolled": false
   },
   "outputs": [],
   "source": [
    "#Completely wipe out packets which seem to have an error in parsing = a problem with the logfiles\n",
    "df_kept_packets_delivered = df[\n",
    "    (pd.notnull(df['AppSentAt'])) & (pd.notnull(df['MacSentAt'])) & (pd.notnull(df['MacReceivedAt']))\n",
    "].copy()\n",
    "df_kept_packets_not_delivered = df[\n",
    "    (pd.notnull(df['AppSentAt'])) & (pd.isnull(df['MacReceivedAt'])) & (pd.isnull(df['AppReceivedAt']))\n",
    "].copy()\n",
    "# df_dropped = df[\n",
    "#     ~((pd.notnull(df['AppSentAt'])) & (pd.notnull(df['MacSentAt'])) & (pd.notnull(df['MacReceivedAt'])) |\n",
    "#      (pd.notnull(df['AppSentAt'])) & (pd.isnull(df['MacReceivedAt'])) & (pd.isnull(df['AppReceivedAt'])))\n",
    "# ]\n",
    "\n",
    "dfe = pd.concat([df_kept_packets_delivered, df_kept_packets_not_delivered])\n",
    "# print(df_kept_packets_delivered.info())\n",
    "# print(df_kept_packets_not_delivered.info())\n",
    "# print(dfe.info())\n",
    "# print(df_dropped.info())\n",
    "df = dfe.copy()\n",
    "# df_dropped\n"
   ]
  },
  {
   "cell_type": "code",
   "metadata": {
    "collapsed": true
   },
   "outputs": [],
   "source": [
    "df['AppDelay'] = df['AppReceivedAt'] - df['AppSentAt']\n",
    "df['MacDelay'] = df['MacReceivedAt'] - df['MacSentAt']\n"
   ]
  },
  {
   "cell_type": "code",
   "metadata": {},
   "outputs": [],
   "source": [
    "(df['MacSentAt']/(1000*1000*60)).describe()"
   ]
  },
  {
   "cell_type": "code",
   "metadata": {
    "collapsed": true
   },
   "outputs": [],
   "source": [
    "# simdir = '/media/aris/portabledata/contiki-experiments/10000pkt/AWP4GC7SAMQG5BFGOUMJTKJITW3ICS2F'\n",
    "# dfx = df.copy()\n",
    "# sdfx = dfx[dfx['SimDir'] == simdir]\n",
    "# sdfx[sdfx['MacDelay'] > 400*1000]"
   ]
  },
  {
   "cell_type": "code",
   "metadata": {
    "collapsed": true
   },
   "outputs": [],
   "source": [
    "#If The packet has not been delivered end-to-end mark the last MAC reception as undelivered (-1)\n",
    "# df.loc[df.AppReceivedAt == -1, 'MacReceivedAt'] = -1"
   ]
  },
  {
   "cell_type": "code",
   "metadata": {
    "collapsed": true
   },
   "outputs": [],
   "source": [
    "# df['AppDelay'] = df.AppReceivedAt - df.AppSentAt\n",
    "# df.loc[df.AppReceivedAt == -1, 'AppDelay'] = -1\n",
    "# df['AppDelay'] = df['AppDelay'].astype(np.int64)\n",
    "\n",
    "# df['MacDelay'] = df.MacReceivedAt - df.MacSentAt\n",
    "# df.loc[df.MacReceivedAt == -1, 'MacDelay'] = -1\n",
    "# df['MacDelay'] = df['MacDelay'].astype(np.int64)\n"
   ]
  },
  {
   "cell_type": "code",
   "metadata": {
    "collapsed": true
   },
   "outputs": [],
   "source": [
    "#df.info()"
   ]
  },
  {
   "cell_type": "code",
   "metadata": {
    "collapsed": true,
    "scrolled": false
   },
   "outputs": [],
   "source": [
    "assert(df[(df['AppDelay'] < df['MacDelay'])].size == 0)"
   ]
  },
  {
   "cell_type": "code",
   "metadata": {
    "scrolled": true
   },
   "outputs": [],
   "source": [
    "group_by_columns = list(set(input_columns) -(set(input_columns) - set(df.columns)) -set(['SimDir', 'RandomSeedNumber']))\n",
    "group_by_columns"
   ]
  },
  {
   "cell_type": "code",
   "metadata": {
    "collapsed": true
   },
   "outputs": [],
   "source": [
    "# dfs = df"
   ]
  },
  {
   "cell_type": "code",
   "metadata": {
    "collapsed": true,
    "scrolled": true
   },
   "outputs": [],
   "source": [
    "# dfg_grouping = dfs.groupby(group_by_columns)\n",
    "# print(len(dfg_grouping.groups))\n",
    "# common_statistics = ['sum', 'mean', 'count', 'std', 'min', 'max', 'sem', ('q05', lambda df: df.quantile(0.05)), ('q25', lambda df: df.quantile(0.25)), ('q50', lambda df: df.quantile(0.50)), ('q75', lambda df: df.quantile(0.75)), ('q95', lambda df: df.quantile(0.95))]\n",
    "\n",
    "# aggregation_dict = {\n",
    "#     'AppDelay':common_statistics,\n",
    "#     'MacDelay':common_statistics,\n",
    "#     'PacketID':common_statistics\n",
    "# }\n",
    "\n",
    "# dfg = dfg_grouping.aggregate(aggregation_dict)\n",
    "# dfg.columns = ['_'.join(col).rstrip('_') for col in dfg.columns.values]\n",
    "# dfg.reset_index(inplace=True)\n",
    "# dfg\n"
   ]
  },
  {
   "cell_type": "code",
   "metadata": {
    "collapsed": true,
    "scrolled": false
   },
   "outputs": [],
   "source": [
    "# dfs2 = df.copy()\n",
    "# # dfs2 = dfs2[ dfs2[\"RandomSeedNumber\"] == 1 ]\n",
    "# std_dev_factor = 3.0\n",
    "# common_statistics2 = ['sum', 'mean', 'count', 'std', 'min', 'max', 'sem', ('q05', lambda dfx: dfx.quantile(0.05)), ('q25', lambda dfx: dfx.quantile(0.25)), ('q50', lambda dfx: dfx.quantile(0.50)), ('q75', lambda dfx: dfx.quantile(0.75)), ('q95', lambda dfx: dfx.quantile(0.95))]\n",
    "\n",
    "# aggregation_dict2 = {\n",
    "#     'AppDelay':common_statistics2,\n",
    "#     'MacDelay':common_statistics2,\n",
    "#     'PacketID':common_statistics2\n",
    "# }\n",
    "\n",
    "# def apply_func2(dfx):\n",
    "# #     print(\"XXX: DF\", df.describe(), \"END: DF\")\n",
    "#     original_MacDelay_mean = np.mean(dfx['MacDelay'])\n",
    "#     original_MacDelay_std = np.std(dfx['MacDelay'])\n",
    "#     dfc = dfx.copy()\n",
    "#     dfc_not_nan = dfc[pd.notnull(dfc['MacDelay']) & (np.abs(dfc['MacDelay']-original_MacDelay_mean)<=std_dev_factor*original_MacDelay_std)]\n",
    "#     dfc_nan = dfc[pd.isnull(dfc['MacDelay'])]\n",
    "#     dfc2 = pd.concat([dfc_not_nan, dfc_nan])\n",
    "# #     print(\"Before:\", len(dfc), \"After:\", len(dfc2), \"Diff:\", len(dfc2)-len(dfc), \"%Diff:\", (1.0*len(dfc2)-len(dfc))/len(dfc))\n",
    "#     dfc2_grouping = dfc2.groupby(group_by_columns)\n",
    "# #     print(len(dfc2_grouping.groups))\n",
    "#     dfcg2 = dfc2_grouping.aggregate(aggregation_dict2)\n",
    "#     dfcg2.columns = ['_'.join(col).rstrip('_') for col in dfcg2.columns.values]\n",
    "#     dfcg2.reset_index(inplace=True)\n",
    "#     dfcg2['Original_MacDelay_mean'] = original_MacDelay_mean\n",
    "#     dfcg2['Original_MacDelay_std'] = original_MacDelay_std\n",
    "    \n",
    "#     return dfcg2\n",
    "\n",
    "# dfg_grouping2 = dfs2.groupby(group_by_columns)\n",
    "# print(len(dfg_grouping2.groups))\n",
    "# dfg2 = dfg_grouping2.apply(apply_func2)\n",
    "# dfg2.columns = ['_'.join(col).rstrip('_') if col in group_by_columns else col for col in dfg2.columns.values]\n",
    "# dfg2.columns = [''.join(col) for col in dfg2.columns.values]\n",
    "# dfg2.reset_index(inplace=True)\n",
    "# dfg = dfg2.copy()\n",
    "\n"
   ]
  },
  {
   "cell_type": "code",
   "metadata": {},
   "outputs": [],
   "source": [
    "df_for_filtering = df.copy()\n",
    "#df_for_filtering = df_for_filtering[ df_for_filtering[\"RandomSeedNumber\"] == 1 ]\n",
    "std_dev_factor = 3.0\n",
    "\n",
    "def apply_macdelay_stdev_filter_func(df):\n",
    "#     print(\"XXX: DF\", df.describe(), \"END: DF\")\n",
    "    original_MacDelay_mean = np.mean(df['MacDelay'])\n",
    "    original_MacDelay_std = np.std(df['MacDelay'])\n",
    "    df_not_nan = df[pd.notnull(df['MacDelay']) & (np.abs(df['MacDelay']-original_MacDelay_mean)<=std_dev_factor*original_MacDelay_std)]\n",
    "    df_nan = df[pd.isnull(df['MacDelay'])]\n",
    "    df_all = pd.concat([df_not_nan, df_nan])\n",
    "    df_all_no_tsch_rt6 = df_all[~((df_all['MakeWithLeapfrog'] == -1) & (df_all['MakeWithLinkpeek'] == -1) & (df_all['TschConfMacMaxFrameRetries'] == 6))]\n",
    "#     df_all['Original_MacDelay_mean'] = original_MacDelay_mean\n",
    "#     df_all['Original_MacDelay_std'] = original_MacDelay_std\n",
    "    \n",
    "    return df_all_no_tsch_rt6\n",
    "\n",
    "groupings_for_filtering = df_for_filtering.groupby(group_by_columns)\n",
    "print(len(groupings_for_filtering.groups))\n",
    "df_filtered = groupings_for_filtering.apply(apply_macdelay_stdev_filter_func)\n",
    "df_filtered.reset_index(inplace=True, drop=True)\n",
    "df_filtered_notnull = df_filtered[pd.notnull(df_filtered['MacDelay'])]\n"
   ]
  },
  {
   "cell_type": "code",
   "metadata": {
    "scrolled": true
   },
   "outputs": [],
   "source": [
    "dfs2 = df_filtered.copy()\n",
    "common_statistics2 = ['sum', 'mean', 'count', 'std', 'min', 'max', 'sem', ('q05', lambda dfx: dfx.quantile(0.05)), ('q25', lambda dfx: dfx.quantile(0.25)), ('q50', lambda dfx: dfx.quantile(0.50)), ('q75', lambda dfx: dfx.quantile(0.75)), ('q95', lambda dfx: dfx.quantile(0.95))]\n",
    "\n",
    "aggregation_dict2 = {\n",
    "    'AppDelay':common_statistics2,\n",
    "    'MacDelay':common_statistics2,\n",
    "    'PacketID':common_statistics2\n",
    "}\n",
    "\n",
    "dfg_grouping2 = dfs2.groupby(group_by_columns)\n",
    "print(len(dfg_grouping2.groups))\n",
    "dfg2 = dfg_grouping2.aggregate(aggregation_dict2)\n",
    "dfg2.columns = ['_'.join(col).rstrip('_') if isinstance(col, tuple) and col[0] in [\"AppDelay\", \"MacDelay\", \"PacketID\"] else col for col in dfg2.columns.values]\n",
    "dfg2.columns = [''.join(col) for col in dfg2.columns.values]\n",
    "dfg2.reset_index(inplace=True)\n",
    "dfg = dfg2.copy()\n",
    "dfg\n",
    "\n"
   ]
  },
  {
   "cell_type": "code",
   "metadata": {
    "collapsed": true
   },
   "outputs": [],
   "source": [
    "#Make sure no packets were lost in the aggregation\n",
    "# assert(np.sum(dfg['PacketID_count']) == len(dfs))\n",
    "assert(np.sum(dfg['AppDelay_count']) <= np.sum(dfg['PacketID_count']))\n",
    "assert(np.sum(dfg['MacDelay_count']) <= np.sum(dfg['PacketID_count']))\n"
   ]
  },
  {
   "cell_type": "code",
   "metadata": {
    "collapsed": true
   },
   "outputs": [],
   "source": [
    "#dfg.info()"
   ]
  },
  {
   "cell_type": "code",
   "metadata": {
    "collapsed": true
   },
   "outputs": [],
   "source": [
    "def renumber_order_column(df, column_name):\n",
    "    unique_values = pd.unique(df[column_name])\n",
    "    unique_values.sort()\n",
    "    count_values = len(unique_values)\n",
    "    max_value = count_values-1\n",
    "    lookup_dict = dict([(old_value, index) for index, old_value in enumerate(unique_values)])\n",
    "    df[column_name] = df[column_name].apply(lambda x: lookup_dict[x])\n",
    "    df[column_name+\"Count\"] = count_values\n",
    "    df[column_name+\"Max\"] = max_value\n",
    "    return df\n",
    "    "
   ]
  },
  {
   "cell_type": "code",
   "metadata": {
    "collapsed": true
   },
   "outputs": [],
   "source": [
    "dfg_backup = dfg.copy()"
   ]
  },
  {
   "cell_type": "code",
   "metadata": {
    "collapsed": true
   },
   "outputs": [],
   "source": [
    "dfg = dfg_backup.copy()"
   ]
  },
  {
   "cell_type": "code",
   "metadata": {
    "scrolled": true
   },
   "outputs": [],
   "source": [
    "dfg"
   ]
  },
  {
   "cell_type": "code",
   "metadata": {
    "collapsed": true
   },
   "outputs": [],
   "source": [
    "def makeScenarioAndSubScenario(df):\n",
    "    if len(df[df['TheoreticalLeapfrog'] == 1]) > 0:\n",
    "        df.loc[df['TheoreticalLeapfrog'] == 1, 'Scenario'] = \"LFC-Th.An.\"\n",
    "        df.loc[df['TheoreticalLeapfrog'] == 1, 'ScenarioOrder'] = 3\n",
    "        df.loc[df['TheoreticalLeapfrog'] == 1, 'Hatch'] = ''\n",
    "        df.loc[df['TheoreticalLeapfrog'] == 1, 'Marker'] = '.'\n",
    "        df.loc[df['TheoreticalLeapfrog'] == 1, 'LineStyle'] = 'solid'\n",
    "\n",
    "        df.loc[df['TheoreticalLeapfrog'] == 1, 'SubScenario'] = \"\"\n",
    "        df.loc[df['TheoreticalLeapfrog'] == 1, 'SubScenarioOrder'] = 0\n",
    "\n",
    "        df.loc[df['TheoreticalLeapfrog'] == 1, 'ColorGradient'] = 1\n",
    "        df.loc[df['TheoreticalLeapfrog'] == 1, 'Color'] = df.loc[df['TheoreticalLeapfrog'] == 1, 'ColorGradient'].apply(lambda x: plt.cm.colors.to_hex(plt.cm.Greens(x))).values\n",
    "    \n",
    "    \n",
    "    \n",
    "    if len(df[df['MakeWithLeapfrog'] == 1]) > 0:\n",
    "        df.loc[df['MakeWithLeapfrog'] == 1, 'Scenario'] = \"LFC\"\n",
    "        df.loc[df['MakeWithLeapfrog'] == 1, 'ScenarioOrder'] = 2\n",
    "        df.loc[df['MakeWithLeapfrog'] == 1, 'Hatch'] = ''\n",
    "        df.loc[df['MakeWithLeapfrog'] == 1, 'Marker'] = '.'\n",
    "        df.loc[df['MakeWithLeapfrog'] == 1, 'LineStyle'] = 'solid'\n",
    "\n",
    "        df.loc[(df['MakeWithLeapfrog'] == 1) & (df['TschConfMacMaxFrameRetries'] == 1) & (df['WithOverhearing'] == 1), 'SubScenario'] = \"\"\n",
    "        df.loc[(df['MakeWithLeapfrog'] == 1) & (df['TschConfMacMaxFrameRetries'] == 1) & (df['WithOverhearing'] == 1), 'SubScenarioOrder'] = 2\n",
    "\n",
    "        df.loc[(df['MakeWithLeapfrog'] == 1) & (df['TschConfMacMaxFrameRetries'] == 0) & (df['WithOverhearing'] == 1), 'SubScenario'] = \"-RT0\"\n",
    "        df.loc[(df['MakeWithLeapfrog'] == 1) & (df['TschConfMacMaxFrameRetries'] == 0) & (df['WithOverhearing'] == 1), 'SubScenarioOrder'] = 1\n",
    "\n",
    "        df.loc[(df['MakeWithLeapfrog'] == 1) & (df['TschConfMacMaxFrameRetries'] == 1) & (df['WithOverhearing'] == -1), 'SubScenario'] = \"-NoOH\"\n",
    "        df.loc[(df['MakeWithLeapfrog'] == 1) & (df['TschConfMacMaxFrameRetries'] == 1) & (df['WithOverhearing'] == -1), 'SubScenarioOrder'] = 0\n",
    "\n",
    "        df.loc[df['MakeWithLeapfrog'] == 1, 'ColorGradient'] = preprocessing.minmax_scale(df.loc[df['MakeWithLeapfrog'] == 1, 'SubScenarioOrder'].values, (0.4, 0.9))\n",
    "        df.loc[df['MakeWithLeapfrog'] == 1, 'Color'] = df.loc[df['MakeWithLeapfrog'] == 1, 'ColorGradient'].apply(lambda x: plt.cm.colors.to_hex(plt.cm.Greens(x))).values\n",
    "\n",
    "    \n",
    "    \n",
    "    if len(df[(df['MakeWithLeapfrog'] == -1) & (df['MakeWithLinkpeek'] == -1) & (df['TheoreticalLeapfrog'] == -1)]) > 0:\n",
    "        df.loc[(df['MakeWithLeapfrog'] == -1) & (df['MakeWithLinkpeek'] == -1) & (df['TheoreticalLeapfrog'] == -1), 'Scenario'] = \"RPL+TSCH\"\n",
    "        df.loc[(df['MakeWithLeapfrog'] == -1) & (df['MakeWithLinkpeek'] == -1) & (df['TheoreticalLeapfrog'] == -1), 'ScenarioOrder'] = 0\n",
    "        df.loc[(df['MakeWithLeapfrog'] == -1) & (df['MakeWithLinkpeek'] == -1) & (df['TheoreticalLeapfrog'] == -1), 'Hatch'] = '//'\n",
    "        df.loc[(df['MakeWithLeapfrog'] == -1) & (df['MakeWithLinkpeek'] == -1) & (df['TheoreticalLeapfrog'] == -1), 'Marker'] = '3'\n",
    "        df.loc[(df['MakeWithLeapfrog'] == -1) & (df['MakeWithLinkpeek'] == -1) & (df['TheoreticalLeapfrog'] == -1), 'LineStyle'] = 'dashed'\n",
    "\n",
    "        df.loc[(df['MakeWithLeapfrog'] == -1) & (df['MakeWithLinkpeek'] == -1) & (df['TheoreticalLeapfrog'] == -1), 'SubScenario'] = df.loc[(df['MakeWithLeapfrog'] == -1) & (df['MakeWithLinkpeek'] == -1) & (df['TheoreticalLeapfrog'] == -1), 'TschConfMacMaxFrameRetries'].apply(lambda x: \"-RT\"+str(x)).values\n",
    "        df.loc[(df['MakeWithLeapfrog'] == -1) & (df['MakeWithLinkpeek'] == -1) & (df['TheoreticalLeapfrog'] == -1), 'SubScenarioOrder'] = (df.loc[(df['MakeWithLeapfrog'] == -1) & (df['MakeWithLinkpeek'] == -1) & (df['TheoreticalLeapfrog'] == -1), 'TschConfMacMaxFrameRetries']).values #reverse order\n",
    "\n",
    "        df.loc[(df['MakeWithLeapfrog'] == -1) & (df['MakeWithLinkpeek'] == -1) & (df['TheoreticalLeapfrog'] == -1), 'ColorGradient'] = preprocessing.minmax_scale(df.loc[(df['MakeWithLeapfrog'] == -1) & (df['MakeWithLinkpeek'] == -1) & (df['TheoreticalLeapfrog'] == -1), 'SubScenarioOrder'].values, (0.4, 0.9))\n",
    "        df.loc[(df['MakeWithLeapfrog'] == -1) & (df['MakeWithLinkpeek'] == -1) & (df['TheoreticalLeapfrog'] == -1), 'Color'] = df.loc[(df['MakeWithLeapfrog'] == -1) & (df['MakeWithLinkpeek'] == -1) & (df['TheoreticalLeapfrog'] == -1), 'ColorGradient'].apply(lambda x: plt.cm.colors.to_hex(plt.cm.Reds(x))).values\n",
    "\n",
    "    \n",
    "    \n",
    "    if len(df[df['MakeWithLinkpeek'] == 1]) > 0:\n",
    "        df.loc[(df['MakeWithLinkpeek'] == 1), 'Scenario'] = \"LinkPeek\"\n",
    "        df.loc[(df['MakeWithLinkpeek'] == 1), 'ScenarioOrder'] = 1\n",
    "        df.loc[(df['MakeWithLinkpeek'] == 1), 'Hatch'] = 'xx'\n",
    "        df.loc[(df['MakeWithLinkpeek'] == 1), 'Marker'] = 'x'\n",
    "        df.loc[(df['MakeWithLinkpeek'] == 1), 'LineStyle'] = 'dotted'\n",
    "\n",
    "        df.loc[(df['MakeWithLinkpeek'] == 1), 'SubScenario'] = \"\"\n",
    "        df.loc[(df['MakeWithLinkpeek'] == 1), 'SubScenarioOrder'] = 0 #reverse order\n",
    "\n",
    "        df.loc[(df['MakeWithLinkpeek'] == 1), 'ColorGradient'] = 0.2\n",
    "        df.loc[(df['MakeWithLinkpeek'] == 1), 'Color'] = df.loc[(df['MakeWithLinkpeek'] == 1), 'ColorGradient'].apply(lambda x: plt.cm.colors.to_hex(plt.cm.Wistia_r(x))).values\n",
    "\n",
    "    \n",
    "    \n",
    "    \n",
    "    if len(df) > 0:\n",
    "        df['TotalSubScenarioOrder'] = df['ScenarioOrder']*100+df['SubScenarioOrder']\n",
    "        df['FullScenario'] = df['Scenario'] + df['SubScenario']\n",
    "        convert_to_int(df, ['ScenarioOrder', 'SubScenarioOrder', 'TotalSubScenarioOrder'], -1)\n",
    "        renumber_order_column(df, 'ScenarioOrder')\n",
    "        renumber_order_column(df, 'SubScenarioOrder')\n",
    "        renumber_order_column(df, 'TotalSubScenarioOrder')\n",
    "\n"
   ]
  },
  {
   "cell_type": "code",
   "metadata": {
    "collapsed": true
   },
   "outputs": [],
   "source": [
    "#dfg.info()"
   ]
  },
  {
   "cell_type": "code",
   "metadata": {
    "collapsed": true
   },
   "outputs": [],
   "source": [
    "def make_bar_groups(dfb):\n",
    "    dfb.loc[dfb['RadioQualitySetQualityInPercent']>0, 'BarGroup'] = \"Static \" + dfb[dfb['RadioQualitySetQualityInPercent']>0]['RadioQualitySetQualityInPercent'].astype(str) + \"%\"\n",
    "    dfb.loc[dfb['RadioQualitySetQualityInPercent']>0, 'BarGroupShort'] = dfb[dfb['RadioQualitySetQualityInPercent']>0]['RadioQualitySetQualityInPercent'].astype(str) + \"%\"\n",
    "    dfb.loc[dfb['RadioQualitySetQualityInPercent']>0, 'BarGroupID'] = \"Static \" + dfb[dfb['RadioQualitySetQualityInPercent']>0]['RadioQualitySetQualityInPercent'].astype(str)\n",
    "    dfb.loc[dfb['RadioQualitySetQualityInPercent']>0, 'BarGroupOrder'] = 200 - dfb[dfb['RadioQualitySetQualityInPercent']>0]['RadioQualitySetQualityInPercent']\n",
    "\n",
    "    dfb.loc[dfb['RadioQualitySetQualityInPercent']==0, 'BarGroup'] = \"Variable Random \" + dfb[dfb['RadioQualitySetQualityInPercent']==0]['RadioQualityRandomSetMinQualityInPercent'].astype(str) + \"% - \" + dfb[dfb['RadioQualitySetQualityInPercent']==0]['RadioQualityRandomSetMaxQualityInPercent'].astype(str) + \"%\"\n",
    "    dfb.loc[dfb['RadioQualitySetQualityInPercent']==0, 'BarGroupShort'] = dfb[dfb['RadioQualitySetQualityInPercent']==0]['RadioQualityRandomSetMinQualityInPercent'].astype(str) + \"% - \" + dfb[dfb['RadioQualitySetQualityInPercent']==0]['RadioQualityRandomSetMaxQualityInPercent'].astype(str) + \"%\"\n",
    "    dfb.loc[dfb['RadioQualitySetQualityInPercent']==0, 'BarGroupID'] = \"Variable Uniform Random \" + dfb[dfb['RadioQualitySetQualityInPercent']==0]['RadioQualityRandomSetMinQualityInPercent'].astype(str) + \" \" + dfb[dfb['RadioQualitySetQualityInPercent']==0]['RadioQualityRandomSetMaxQualityInPercent'].astype(str)\n",
    "    dfb.loc[dfb['RadioQualitySetQualityInPercent']==0, 'BarGroupOrder'] = 200\n",
    "\n",
    "    bargroup_columns = ['BarGroupOrder', 'BarGroup', 'BarGroupID']\n",
    "    convert_to_int(dfb, ['BarGroupOrder'], -1)\n",
    "    renumber_order_column(dfb, 'BarGroupOrder')\n",
    "    dfb[bargroup_columns].drop_duplicates().sort_values('BarGroupOrder')\n",
    "    return dfb\n"
   ]
  },
  {
   "cell_type": "code",
   "metadata": {
    "collapsed": true
   },
   "outputs": [],
   "source": [
    "def make_barplot(data):\n",
    "    dfg = data['dfg']\n",
    "    y_column_names_bars_stacked = data['y_column_names_bars_stacked']\n",
    "    y_column_names_bars_styles = data['y_column_names_bars_styles']\n",
    "    y_column_names_bars_labels = data['y_column_names_bars_labels']\n",
    "\n",
    "    y_column_names_bars_boxplot_show = data['y_column_names_bars_boxplot_show']\n",
    "    y_column_names_bars_median_stacked = data['y_column_names_bars_median_stacked']\n",
    "    y_column_names_bars_mean_stacked = data['y_column_names_bars_mean_stacked']\n",
    "    y_column_names_bars_upper_stacked = data['y_column_names_bars_upper_stacked']\n",
    "    y_column_names_bars_lower_stacked = data['y_column_names_bars_lower_stacked']\n",
    "    y_column_names_bars_min_stacked = data['y_column_names_bars_min_stacked']\n",
    "    y_column_names_bars_max_stacked = data['y_column_names_bars_max_stacked']\n",
    "    y_column_names_bars_std_stacked = data['y_column_names_bars_std_stacked']\n",
    "    df_bars_title = data['df_bars_title']\n",
    "    df_bars_x_label = data['df_bars_x_label']\n",
    "    df_bars_y_label= data['df_bars_y_label']\n",
    "\n",
    "    legends_args=data['legends_args']\n",
    "    legends_debug = legends_args['debug']\n",
    "    legends_extra_axis_rect = legends_args['extra_axis_rect']\n",
    "    legends_extra_axis_kw_args = legends_args['extra_axis_kw_args']\n",
    "    legends_legend_kw_args = legends_args['legend_kw_args']\n",
    "    \n",
    "    df_bars_filename = data['df_bars_filename']\n",
    "\n",
    "    df_bars = dfg.copy()\n",
    "    \n",
    "    single_bar_width_used = 0.8\n",
    "    single_bar_width = 1.0\n",
    "\n",
    "    df_bars['XOffset'] = df_bars['BarGroupOrder']*(df_bars['TotalSubScenarioOrderCount']+1)+df_bars['TotalSubScenarioOrder']\n",
    "    df_bars = df_bars.sort_values(['XOffset'])\n",
    "    df_bars.reset_index(inplace=True, drop=True)\n",
    "\n",
    "    # Plotting the bars\n",
    "    fig, ax = plt.subplots(figsize=(10,5))\n",
    "#     t = np.arange(0.01, 20.0, 0.01)\n",
    "\n",
    "#     ax.set_yscale('log') \n",
    "    \n",
    "    legend1_dict = {}\n",
    "    legend2_dict = {}\n",
    "    max_xs = []\n",
    "    max_ys = []\n",
    "\n",
    "    for xoffset in df_bars['XOffset'].values:\n",
    "        for stack_index, y_column_name_bar_stacked in enumerate(y_column_names_bars_stacked):\n",
    "            dfi = df_bars[df_bars['XOffset'] == xoffset]\n",
    "            left = dfi['XOffset'].values[0]\n",
    "            height = dfi[y_column_name_bar_stacked].values[0]\n",
    "            bottom_heights=[dfi[y_column_names_bars_stacked[previous_stack_index]].values[0] for previous_stack_index in range(0, stack_index)]\n",
    "            bottom=sum(bottom_heights)\n",
    "            style=y_column_names_bars_styles[stack_index]\n",
    "            color=dfi['Color'].values[0]\n",
    "            hatch=dfi['Hatch'].values[0]\n",
    "            label=dfi['FullScenario'].values[0]\n",
    "            max_xs.append(left+0.5)\n",
    "            max_ys.append(height+bottom)\n",
    "\n",
    "    #         print(dict(((k, eval(k)) for k in ('xoffset', 'stack_index', 'y_column_name_bar_stacked', 'left', 'height', 'bottom', 'style', 'color', 'label', 'bottom_heights'))))\n",
    "\n",
    "            bar_container = ax.bar(\n",
    "                left=left, \n",
    "                height=height, \n",
    "                bottom=bottom,\n",
    "                width=0.8, \n",
    "                alpha=1.0,\n",
    "                color=color,\n",
    "                hatch=hatch,\n",
    "                label=label,\n",
    "                **style)\n",
    "            bar_rectangle_artist = bar_container[0]\n",
    "            props = bar_rectangle_artist.properties()\n",
    "    #         print(props)\n",
    "            legend1_prop_names = ['aa', 'alpha', 'fill', 'facecolor', 'hatch']#'linestyle', 'linewidth', 'edgecolor'\n",
    "            legend1_prop_dict = dict([(prop_name, props[prop_name]) for prop_name in legend1_prop_names])\n",
    "    #         print(legend1_prop_dict)\n",
    "\n",
    "            legend1_dict[label] = plt.Rectangle((0,0), 1, 1, **legend1_prop_dict)\n",
    "    #         print(plt.getp(legend1_dict[label]))\n",
    "\n",
    "            legend2_prop_names = ['aa'] + style.keys()\n",
    "            legend2_prop_dict = dict([(prop_name, props[prop_name]) for prop_name in legend2_prop_names])\n",
    "            legend2_artist = plt.Rectangle((0,0), 1, 1, **legend2_prop_dict)\n",
    "            legend2_artist.set_facecolor((0.8,0.8,0.8, 1.0))\n",
    "    #         legend2_artist.set_edgecolor((0.0, 0.0, 0.0, 1.0))\n",
    "    #         print(plt.getp(legend2_artist))\n",
    "            legend2_dict[y_column_names_bars_labels[stack_index]] = legend2_artist\n",
    "\n",
    "            if y_column_names_bars_boxplot_show:\n",
    "                item = {}\n",
    "\n",
    "                if y_column_names_bars_min_stacked[stack_index] is None and y_column_names_bars_max_stacked[stack_index] is None:\n",
    "                    x = left\n",
    "                    y = dfi[y_column_names_bars_mean_stacked[stack_index]].values[0] + bottom\n",
    "                    yerr = dfi[y_column_names_bars_std_stacked[stack_index]].values[0] + bottom\n",
    "                    ax.errorbar(\n",
    "                        x = x,\n",
    "                        y = y,\n",
    "                        yerr = yerr,\n",
    "                        color = \"#1010FF\"\n",
    "                    )\n",
    "                    max_ys.append(y+yerr)\n",
    "                    \n",
    "                else:\n",
    "                    #item[\"label\"] = 'box' # not required\n",
    "                    item[\"med\"] = dfi[y_column_names_bars_median_stacked[stack_index]].values[0] + bottom\n",
    "\n",
    "                    if y_column_names_bars_mean_stacked[stack_index] is not None:\n",
    "                        item[\"mean\"] = dfi[y_column_names_bars_mean_stacked[stack_index]].values[0] + bottom # not required\n",
    "\n",
    "                    item[\"q1\"] = dfi[y_column_names_bars_lower_stacked[stack_index]].values[0] + bottom # required\n",
    "                    item[\"q3\"] = dfi[y_column_names_bars_upper_stacked[stack_index]].values[0] + bottom # required\n",
    "                    #item[\"cilo\"] = 5.3 # not required\n",
    "                    #item[\"cihi\"] = 5.7 # not required\n",
    "                    item[\"whislo\"] = dfi[y_column_names_bars_min_stacked[stack_index]].values[0] + bottom # required\n",
    "                    item[\"whishi\"] = dfi[y_column_names_bars_max_stacked[stack_index]].values[0] + bottom # required\n",
    "                    item[\"fliers\"] = [] # required if showfliers=True\n",
    "    #                 sta = dict(((k, item[k]) for k in ('med', 'mean', 'q1', 'q3', 'whislo', 'whishi')))\n",
    "    #                 sta['stack_index'] = stack_index\n",
    "    #                 sta['xoffset'] = xoffset\n",
    "    #                 print(sta)\n",
    "\n",
    "                    stats = [item]\n",
    "                    positions = [left]\n",
    "                    max_ys.append(item[\"whishi\"])\n",
    "\n",
    "                    ax.bxp(\n",
    "                        bxpstats=stats,\n",
    "                        positions=positions,\n",
    "                        widths=[0.5],\n",
    "                        showmeans=dfi[y_column_names_bars_mean_stacked[stack_index]] is not None,\n",
    "                        meanline=dfi[y_column_names_bars_mean_stacked[stack_index]] is not None\n",
    "                    )\n",
    "\n",
    "\n",
    "    # Set the y axis label\n",
    "    if df_bars_x_label is not None:\n",
    "        ax.set_xlabel(df_bars_x_label)\n",
    "    if df_bars_y_label is not None:\n",
    "        ax.set_ylabel(df_bars_y_label)\n",
    "\n",
    "\n",
    "    # Set the chart's title\n",
    "    if df_bars_title is not None:\n",
    "        ax.set_title(df_bars_title)\n",
    "\n",
    "    # Set the position of the x ticks\n",
    "    \n",
    "    x_ticks_offsets = [(df_bars['TotalSubScenarioOrderCount'][0]+1)*1.0*bar_group_index+(df_bars['TotalSubScenarioOrderCount'][0]/2.0)-0.5  for bar_group_index in range(df_bars['BarGroupOrderCount'][0])]\n",
    "    ax.set_xticks(x_ticks_offsets)\n",
    "\n",
    "    # Set the labels for the x ticks\n",
    "    x_ticks_labels = df_bars[['BarGroupOrder', 'BarGroup']].drop_duplicates().sort_values('BarGroupOrder')['BarGroup'].values\n",
    "    ax.set_xticklabels(x_ticks_labels)\n",
    "\n",
    "    # Setting the x-axis and y-axis limits\n",
    "    ax.set_xlim([-1, max(max_xs)+0.5])\n",
    "    ax.set_ylim([0, max(max_ys)*1.01])\n",
    "\n",
    "    #make dict where each labels is exists only once (because it is a dict key)\n",
    "    # create a list of the FullScenatio names in TotalSubScenarioOrder order\n",
    "    legend1_fullscenario_labels = df_bars[['TotalSubScenarioOrder', 'FullScenario']].drop_duplicates().sort_values('TotalSubScenarioOrder')['FullScenario'].values\n",
    "    legend2_fullscenario_labels = y_column_names_bars_labels\n",
    "    fig.tight_layout(pad=0, h_pad=0, w_pad=0)\n",
    "\n",
    "    # Adding the legend and showing the plot\n",
    "    legend_artists = []\n",
    "    ax_legends = fig.add_axes(legends_extra_axis_rect, frame_on=legends_debug, xticks=[], xticklabels=[], yticks=[], yticklabels=[], **legends_extra_axis_kw_args)\n",
    "    legend1_artist = ax_legends.legend([legend1_dict[legend1_fullscenario_label] for legend1_fullscenario_label in legend1_fullscenario_labels], legend1_fullscenario_labels, numpoints=1, **legends_legend_kw_args[0])# loc='upper left', bbox_to_anchor=(0, 1))\n",
    "    legend_artists.append(legend1_artist)\n",
    "    ax_legends.add_artist(legend1_artist)\n",
    "    if len(y_column_names_bars_styles) > 1:\n",
    "        legend2_artist = ax_legends.legend([legend2_dict[legend2_fullscenario_label] for legend2_fullscenario_label in reversed(legend2_fullscenario_labels)], reversed(legend2_fullscenario_labels), numpoints=1, **legends_legend_kw_args[1])#, loc='lower left', bbox_to_anchor=(0, 0.2), numpoints=1)\n",
    "        legend_artists.append(legend2_artist)\n",
    "\n",
    "    ax.grid(axis='y')\n",
    "    # plt.show()\n",
    "    fig.savefig(df_bars_filename, dpi=200, bbox_inches='tight')"
   ]
  },
  {
   "cell_type": "code",
   "metadata": {},
   "outputs": [],
   "source": [
    "dfg_pdr = dfg.copy()\n",
    "dfg_pdr = dfg_pdr[dfg_pdr['RadioQualitySetQualityInPercent']!=60]\n",
    "theoretical_rows = []\n",
    "\n",
    "def get_theoretical_PDR(link_quality_from, link_quality_to):\n",
    "    values = {\n",
    "        (50, 50): 0.9353,\n",
    "        (60, 60): 0.9742,\n",
    "        (70, 70): 0.9919,\n",
    "        (80, 80): 0.9984,\n",
    "        (90, 90): 0.9999,\n",
    "        (100, 100): 1.0000,\n",
    "        (50, 100): 0.9961,\n",
    "        (60, 100): 0.9984,\n",
    "        (70, 100): 0.9995,\n",
    "        (80, 100): 0.9999,\n",
    "        (90, 100): 1.0000\n",
    "    }\n",
    "    return values[(link_quality_from, link_quality_to)]\n",
    "\n",
    "    \n",
    "#     print(link_quality,':',PDR)\n",
    "    return PDR\n",
    "\n",
    "for link_quality_is_static, link_quality in [(True, 90), (True, 80), (True, 70), (False, (70, 100))]:\n",
    "    if link_quality_is_static:\n",
    "        leapfrog_row = dfg_pdr[(dfg_pdr['MakeWithLeapfrog'] == 1) &\n",
    "                               (dfg_pdr['WithOverhearing'] == 1) &\n",
    "                               (dfg_pdr['TschConfMacMaxFrameRetries'] == 1) &\n",
    "                               (dfg_pdr['RadioQualitySetQualityInPercent'] == link_quality)\n",
    "                              ].copy()\n",
    "        theoretical_pdr = get_theoretical_PDR(link_quality, link_quality)\n",
    "    else:\n",
    "        link_quality_min, link_quality_max = link_quality\n",
    "        leapfrog_row = dfg_pdr[(dfg_pdr['MakeWithLeapfrog'] == 1) &\n",
    "                               (dfg_pdr['WithOverhearing'] == 1) &\n",
    "                               (dfg_pdr['TschConfMacMaxFrameRetries'] == 1) &\n",
    "                               (dfg_pdr['RadioQualityRandomSetMinQualityInPercent'] == link_quality_min) &\n",
    "                               (dfg_pdr['RadioQualityRandomSetMaxQualityInPercent'] == link_quality_max)\n",
    "                              ].copy()\n",
    "        theoretical_pdr = get_theoretical_PDR(link_quality_max, link_quality_max)\n",
    "        \n",
    "    leapfrog_row['MakeWithLeapfrog'] = -1\n",
    "    leapfrog_row['TheoreticalLeapfrog'] = 1\n",
    "    leapfrog_row['MacDelay_count'] = int(theoretical_pdr*1000000)\n",
    "    leapfrog_row['PacketID_count'] = 1000000\n",
    "    theoretical_rows.append(leapfrog_row)\n",
    "    \n",
    "dfg_pdr_with_theoretical = pd.concat([dfg_pdr]+theoretical_rows)\n",
    "    \n",
    "makeScenarioAndSubScenario(dfg_pdr_with_theoretical)\n",
    "dfg_pdr_with_theoretical['PDR_mean'] = 100.0*dfg_pdr_with_theoretical['MacDelay_count']/dfg_pdr_with_theoretical['PacketID_count']\n",
    "dfg_pdr_with_theoretical = make_bar_groups(dfg_pdr_with_theoretical.copy())\n",
    "\n",
    "pdr_data = {\n",
    "    'dfg': dfg_pdr_with_theoretical,\n",
    "    'y_column_names_bars_stacked': ['PDR_mean'],\n",
    "    'y_column_names_bars_styles': [{}], #not used\n",
    "    'y_column_names_bars_labels': [\"\"], #not used\n",
    "\n",
    "    'y_column_names_bars_boxplot_show': False,\n",
    "    'y_column_names_bars_median_stacked': [],\n",
    "    'y_column_names_bars_mean_stacked': [],\n",
    "    'y_column_names_bars_upper_stacked': [],\n",
    "    'y_column_names_bars_lower_stacked': [],\n",
    "    'y_column_names_bars_min_stacked': [],\n",
    "    'y_column_names_bars_max_stacked': [],\n",
    "    'y_column_names_bars_std_stacked': [],\n",
    "    'df_bars_title': None, #'Packet Delivery Rate',\n",
    "    'df_bars_x_label': 'Link quality (%)',\n",
    "    'df_bars_y_label': 'Packet Delivery Rate (%)',\n",
    "    'df_bars_filename': 'PDR-10000pkts x5.pdf',\n",
    "    'legends_args': {\n",
    "        'debug': False,\n",
    "        'extra_axis_rect': [0.95, 0.0, 0.24, 1.01],\n",
    "        'extra_axis_kw_args': {},\n",
    "        'legend_kw_args': [{'loc': 'upper left', 'bbox_to_anchor':(0, 1)}]\n",
    "    }\n",
    "}\n",
    "\n",
    "make_barplot(pdr_data)\n"
   ]
  },
  {
   "cell_type": "code",
   "metadata": {},
   "outputs": [],
   "source": [
    "interesting_columns = ['BarGroup', 'FullScenario', 'PDR_mean']\n",
    "dfg_pdr_with_theoretical.sort_values(['BarGroupOrder', 'TotalSubScenarioOrder'], inplace=True)\n",
    "dfg_pdr_with_theoretical[interesting_columns].to_csv(pdr_data['df_bars_filename']+\".csv\")\n",
    "dfg_pdr_with_theoretical[interesting_columns]"
   ]
  },
  {
   "cell_type": "code",
   "metadata": {
    "scrolled": true
   },
   "outputs": [],
   "source": [
    "makeScenarioAndSubScenario(dfg)\n",
    "convert_to_int(dfg, ['ScenarioOrder', 'SubScenarioOrder', 'TotalSubScenarioOrder'], -1)\n",
    "dfg\n",
    "renumber_order_column(dfg, 'ScenarioOrder')\n",
    "renumber_order_column(dfg, 'SubScenarioOrder')\n",
    "renumber_order_column(dfg, 'TotalSubScenarioOrder')\n"
   ]
  },
  {
   "cell_type": "code",
   "metadata": {
    "scrolled": true
   },
   "outputs": [],
   "source": [
    "dfg_delay = dfg.copy()\n",
    "dfg_delay = dfg_delay[dfg_delay['RadioQualitySetQualityInPercent']!=60]\n",
    "makeScenarioAndSubScenario(dfg_delay)\n",
    "dfg_delay = make_bar_groups(dfg_delay.copy())\n",
    "\n",
    "\n",
    "for statistic in [\"mean\", \"std\", \"sem\", \"q05\", \"q25\", \"q50\", \"q75\", \"q95\", \"min\", \"max\"]:\n",
    "    dfg_delay['MacDelay_'+statistic] = dfg_delay['MacDelay_'+statistic]/1000.0\n",
    "    \n",
    "delay_data = {\n",
    "    'dfg': dfg_delay,\n",
    "    'y_column_names_bars_stacked': ['MacDelay_mean'],\n",
    "    'y_column_names_bars_styles': [{}], #not used\n",
    "    'y_column_names_bars_labels': [\"\"], #not used\n",
    "\n",
    "    'y_column_names_bars_boxplot_show': True,\n",
    "    'y_column_names_bars_median_stacked': ['MacDelay_mean'],\n",
    "    'y_column_names_bars_mean_stacked': ['MacDelay_mean'],\n",
    "    'y_column_names_bars_upper_stacked': ['MacDelay_q75'],\n",
    "    'y_column_names_bars_lower_stacked': ['MacDelay_q25'],\n",
    "    'y_column_names_bars_min_stacked': [None],\n",
    "    'y_column_names_bars_max_stacked': [None],\n",
    "    'y_column_names_bars_std_stacked': ['MacDelay_std'],\n",
    "    'df_bars_title': None, #'End-to-end Delay',\n",
    "    'df_bars_x_label': 'Link quality (%)',\n",
    "    'df_bars_y_label': 'End-to-end Delay (ms)',\n",
    "    'df_bars_filename': 'End-to-end-delay-10000pkts x5.pdf',\n",
    "    'legends_args': {\n",
    "        'debug': False,\n",
    "        'extra_axis_rect': [0.95, 0.0, 0.24, 1.01],\n",
    "        'extra_axis_kw_args': {},\n",
    "        'legend_kw_args': [{'loc': 'upper left', 'bbox_to_anchor':(0, 1)}]\n",
    "    }\n",
    "}\n",
    "\n",
    "make_barplot(delay_data)\n"
   ]
  },
  {
   "cell_type": "code",
   "metadata": {
    "scrolled": true
   },
   "outputs": [],
   "source": [
    "interesting_columns = ['BarGroup', 'FullScenario', 'MacDelay_mean', 'MacDelay_std']\n",
    "dfg_delay.sort_values(['BarGroupOrder', 'TotalSubScenarioOrder'], inplace=True)\n",
    "dfg_delay[interesting_columns].to_csv(delay_data['df_bars_filename']+\".csv\")\n",
    "dfg_delay[interesting_columns]"
   ]
  },
  {
   "cell_type": "code",
   "metadata": {
    "scrolled": true
   },
   "outputs": [],
   "source": [
    "dfg_jitter = dfg.copy()\n",
    "dfg_jitter = dfg_jitter[dfg_jitter['RadioQualitySetQualityInPercent']!=60]\n",
    "makeScenarioAndSubScenario(dfg_jitter)\n",
    "dfg_jitter = make_bar_groups(dfg_jitter.copy())\n",
    "\n",
    "for statistic in [\"mean\", \"std\", \"sem\", \"q05\", \"q25\", \"q50\", \"q75\", \"q95\", \"min\", \"max\"]:\n",
    "    dfg_jitter['MacDelay_'+statistic] = dfg_jitter['MacDelay_'+statistic]/1000.0\n",
    "\n",
    "jitter_data = {\n",
    "    'dfg': dfg_jitter,\n",
    "    'y_column_names_bars_stacked': ['MacDelay_std'],\n",
    "    'y_column_names_bars_styles': [{}], #not used\n",
    "    'y_column_names_bars_labels': [\"\"], #not used\n",
    "\n",
    "    'y_column_names_bars_boxplot_show': False,\n",
    "    'y_column_names_bars_median_stacked': [],\n",
    "    'y_column_names_bars_mean_stacked': [],\n",
    "    'y_column_names_bars_upper_stacked': [],\n",
    "    'y_column_names_bars_lower_stacked': [],\n",
    "    'y_column_names_bars_min_stacked': [],\n",
    "    'y_column_names_bars_max_stacked': [],\n",
    "    'y_column_names_bars_std_stacked': [],\n",
    "    'df_bars_title': None, #'End-to-end Jitter',\n",
    "    'df_bars_x_label': 'Link quality (%)',\n",
    "    'df_bars_y_label': 'End-to-end Jitter (ms)',\n",
    "    'df_bars_filename': 'End-to-end-jitter-10000pkts x5.pdf',\n",
    "    'legends_args': {\n",
    "        'debug': False,\n",
    "        'extra_axis_rect': [0.95, 0.0, 0.24, 1.01],\n",
    "        'extra_axis_kw_args': {},\n",
    "        'legend_kw_args': [{'loc': 'upper left', 'bbox_to_anchor':(0, 1)}]\n",
    "    }\n",
    "}\n",
    "\n",
    "make_barplot(jitter_data)\n"
   ]
  },
  {
   "cell_type": "code",
   "metadata": {
    "scrolled": false
   },
   "outputs": [],
   "source": [
    "def make_cdf(filename, single=False, logx=False):\n",
    "    df_for_cumulative = df_filtered_notnull.copy()\n",
    "\n",
    "    makeScenarioAndSubScenario(df_for_cumulative)\n",
    "\n",
    "    df_for_cumulative = df_for_cumulative[(df_for_cumulative['MakeWithLeapfrog'] == 1) &\n",
    "                                          (df_for_cumulative['WithOverhearing'] == 1) &\n",
    "                                          (df_for_cumulative['TschConfMacMaxFrameRetries'] == 1)]\n",
    "\n",
    "\n",
    "    df_for_cumulative['MacDelay'] = df_for_cumulative['MacDelay']/1000.0\n",
    "\n",
    "    df_for_cumulative = make_bar_groups(df_for_cumulative.copy())\n",
    "\n",
    "    df_for_cumulative.sort_values(['BarGroupOrder', 'MacDelay'], inplace=True)\n",
    "    grouping_for_cumulative = df_for_cumulative.groupby('BarGroupOrder', sort=False)\n",
    "\n",
    "    print(len(grouping_for_cumulative.groups))\n",
    "    if single:\n",
    "        fig, ax_single = plt.subplots(figsize=(10, 5))\n",
    "        if logx:\n",
    "            ax_single.set_xscale('log') \n",
    "        ax_single.set_xlim([0, 250])\n",
    "        ax_single.grid(axis='y')\n",
    "        ax_single.set_xlabel(\"End-to-end delay (ms)\")\n",
    "        ax_single.set_ylabel(\"Cumulative relative frequency\")\n",
    "    else:\n",
    "        fig, (ax_large_values, ax_small_values) = plt.subplots(nrows=1, ncols=2, sharex=False, sharey=True, figsize=(10, 5))\n",
    "        if logx:\n",
    "            ax_large_values.set_xscale('log') \n",
    "            ax_small_values.set_xscale('log') \n",
    "        ax_large_values.grid(axis='y')\n",
    "        ax_small_values.grid(axis='y')\n",
    "        ax_large_values.set_xlabel(\"End-to-end delay (ms)\")\n",
    "        ax_small_values.set_xlabel(\"End-to-end delay (ms)\")\n",
    "        ax_large_values.set_ylabel(\"Cumulative relative frequency\")\n",
    "        ax_small_values.set_ylabel(\"Cumulative relative frequency\")\n",
    "\n",
    "    hist_results = []\n",
    "\n",
    "    linestyles = {\n",
    "        \"Static 90\": 'solid',\n",
    "        \"Static 80\": 'dashed',\n",
    "        \"Static 70\": 'dashdot',\n",
    "        \"Static 60\": (0,(9,3,4,4)),\n",
    "        \"Variable Uniform Random 70 100\": 'dotted'\n",
    "    }\n",
    "    \n",
    "    def cumulative_histogram(df):\n",
    "        ax = None\n",
    "        \n",
    "        if single:\n",
    "            ax = ax_single\n",
    "        else:\n",
    "            df_max = np.max(df['MacDelay'])\n",
    "            if df_max > 500:\n",
    "                ax = ax_large_values\n",
    "            else:\n",
    "                ax = ax_small_values\n",
    "        #, label=df['FullScenario'].values[0]+\" \"+df['BarGroup'].values[0]\n",
    "        n, bins, patches = ax.hist(df['MacDelay'], len(df), normed=1, histtype='step', cumulative=True, color=df[\"Color\"].values[0], linewidth=2.0, linestyle=linestyles[df[\"BarGroupID\"].values[0]])\n",
    "        # just delete the last point\n",
    "        patches[0].set_xy(patches[0].get_xy()[:-1])\n",
    "        hist_results.append((n, bins, patches))\n",
    "        return None\n",
    "\n",
    "    grouping_for_cumulative.apply(cumulative_histogram)\n",
    "    fig.tight_layout(pad=0.00, h_pad=0, w_pad=0)\n",
    "    ax_legends = fig.add_axes([0.06, 0.6, 0.5, 0.35], frame_on=False, xticks=[], xticklabels=[], yticks=[], yticklabels=[])\n",
    "    legend_data = [(row[0]+\" - Link: \"+row[1], plt.Line2D([0, 1], [0.5, 0.5], color=row[2], linewidth=2.0, linestyle=linestyles[row[3]])) \n",
    "                    for row_index, row in enumerate(df_for_cumulative[['FullScenario', 'BarGroup', 'Color', 'BarGroupID']].drop_duplicates().values)] \n",
    "    ax_legends.legend([artist for label, artist in legend_data], [label for label, artist in legend_data], numpoints=1, loc='upper left', bbox_to_anchor=(0, 1))\n",
    "#     plt.show()\n",
    "    fig.savefig(filename, dpi=200, bbox_inches='tight')\n",
    "\n",
    "# make_cdf('End-to-end-delay-CDF-10000pkts x5_single_logx.pdf',single=True, logx=True)\n",
    "# make_cdf('End-to-end-delay-CDF-10000pkts x5_logx.pdf',single=False, logx=True)\n",
    "make_cdf('End-to-end-delay-CDF-10000pkts x5_single.pdf',single=True, logx=False)\n",
    "# make_cdf('End-to-end-delay-CDF-10000pkts x5.pdf',single=False, logx=False)"
   ]
  },
  {
   "cell_type": "code",
   "metadata": {
    "scrolled": false
   },
   "outputs": [],
   "source": [
    "def make_cdf_panels(filename, single=False, logx=False):\n",
    "    df_for_cumulative = df_filtered_notnull.copy()\n",
    "\n",
    "    makeScenarioAndSubScenario(df_for_cumulative)\n",
    "\n",
    "    df_for_cumulative = df_for_cumulative[(df_for_cumulative['MakeWithLeapfrog'] == 1) &\n",
    "                                          (df_for_cumulative['WithOverhearing'] == 1) &\n",
    "                                          (df_for_cumulative['TschConfMacMaxFrameRetries'] == 1)]\n",
    "\n",
    "\n",
    "    df_for_cumulative['MacDelay'] = df_for_cumulative['MacDelay']/1000.0\n",
    "\n",
    "    df_for_cumulative = make_bar_groups(df_for_cumulative.copy())\n",
    "\n",
    "    df_for_cumulative.sort_values(['BarGroupOrder', 'MacDelay'], inplace=True)\n",
    "    grouping_for_cumulative = df_for_cumulative.groupby('BarGroupOrder', sort=False)\n",
    "\n",
    "    print(len(grouping_for_cumulative.groups))\n",
    "    if single:\n",
    "        fig, ax_single = plt.subplots(figsize=(10, 5))\n",
    "        if logx:\n",
    "            ax_single.set_xscale('log') \n",
    "        ax_single.set_xlim([0, 250])\n",
    "        ax_single.grid(axis='y')\n",
    "        ax_single.set_xlabel(\"End-to-end delay (ms)\")\n",
    "        ax_single.set_ylabel(\"Cumulative relative frequency\")\n",
    "    else:\n",
    "        fig, axes = plt.subplots(nrows=1, ncols=len(grouping_for_cumulative.groups), sharex=False, sharey=True, figsize=(10, 5))\n",
    "        for ax_index, one_ax in enumerate(axes):\n",
    "            if logx:\n",
    "                one_ax.set_xscale('log') \n",
    "            one_ax.grid(axis='y')\n",
    "            if ax_index == len(grouping_for_cumulative.groups)/2:\n",
    "                one_ax.set_xlabel(\"End-to-end delay (ms)\")\n",
    "            if ax_index == 0:\n",
    "                one_ax.set_ylabel(\"Cumulative relative frequency\")\n",
    "\n",
    "    hist_results = {}\n",
    "\n",
    "    linestyles = {\n",
    "        \"Static 90\": 'solid',\n",
    "        \"Static 80\": 'dashed',\n",
    "        \"Static 70\": 'dashdot',\n",
    "        \"Static 60\": (0,(9,3,4,4)),\n",
    "        \"Variable Uniform Random 70 100\": 'dotted'\n",
    "    }\n",
    "    \n",
    "    \n",
    "    def cumulative_histogram(df):\n",
    "        bargroup_index = df['BarGroupOrder'].values[0]\n",
    "        print(\"cumulative_histogram\", df[\"BarGroupID\"].values[0], bargroup_index)\n",
    "        ax = None\n",
    "        \n",
    "        if single:\n",
    "            ax = ax_single\n",
    "        else:\n",
    "            ax = axes[bargroup_index]\n",
    "        \n",
    "        if bargroup_index in hist_results:\n",
    "            return None\n",
    "        else:\n",
    "            #, label=df['FullScenario'].values[0]+\" \"+df['BarGroup'].values[0]\n",
    "            n, bins, patches = ax.hist(df['MacDelay'], len(df), normed=1, histtype='step', cumulative=True, color=df[\"Color\"].values[0], linewidth=2.0, linestyle=linestyles[df[\"BarGroupID\"].values[0]])\n",
    "            # just delete the last point\n",
    "            patches[0].set_xy(patches[0].get_xy()[:-1])\n",
    "            hist_results[bargroup_index] = (n, bins, patches)\n",
    "            return None\n",
    "\n",
    "    grouping_for_cumulative.apply(cumulative_histogram)\n",
    "    fig.tight_layout(pad=0, h_pad=0, w_pad=0)\n",
    "    \n",
    "    ax_legends = fig.add_axes([0.99, 0.66, 0.32, 0.35], frame_on=False, xticks=[], xticklabels=[], yticks=[], yticklabels=[])\n",
    "    \n",
    "    legend_data = [(row[0]+\" - Link: \"+row[1], plt.Line2D([0, 1], [0.5, 0.5], color=row[2], linewidth=2.0, linestyle=linestyles[row[3]])) \n",
    "                    for row in df_for_cumulative[['FullScenario', 'BarGroupShort', 'Color', 'BarGroupID']].drop_duplicates().values] \n",
    "    ax_legends.legend([artist for label, artist in legend_data], [label for label, artist in legend_data], numpoints=1, loc='upper left', bbox_to_anchor=(0, 1))\n",
    "#     plt.show()\n",
    "    fig.savefig(filename, dpi=200, bbox_inches='tight')\n",
    "\n",
    "# make_cdf('End-to-end-delay-CDF-10000pkts_panels x5_single_logx.pdf',single=True, logx=True)\n",
    "# make_cdf('End-to-end-delay-CDF-10000pkts_panels x5_logx.pdf',single=False, logx=True)\n",
    "#make_cdf('End-to-end-delay-CDF-10000pkts_panels x5_single.pdf',single=True, logx=False)\n",
    "make_cdf_panels('End-to-end-delay-CDF-10000pkts_panels x5.pdf',single=False, logx=False)"
   ]
  },
  {
   "cell_type": "code",
   "metadata": {
    "collapsed": true,
    "scrolled": false
   },
   "outputs": [],
   "source": [
    "def make_cdf_panels_nolegend(filename, single=False, logx=False):\n",
    "    df_for_cumulative = df_filtered_notnull.copy()\n",
    "\n",
    "    makeScenarioAndSubScenario(df_for_cumulative)\n",
    "\n",
    "    df_for_cumulative = df_for_cumulative[(df_for_cumulative['MakeWithLeapfrog'] == 1) &\n",
    "                                          (df_for_cumulative['WithOverhearing'] == 1) &\n",
    "                                          (df_for_cumulative['TschConfMacMaxFrameRetries'] == 1)]\n",
    "\n",
    "\n",
    "    df_for_cumulative['MacDelay'] = df_for_cumulative['MacDelay']/1000.0\n",
    "\n",
    "    df_for_cumulative = make_bar_groups(df_for_cumulative.copy())\n",
    "\n",
    "    df_for_cumulative.sort_values(['BarGroupOrder', 'MacDelay'], inplace=True)\n",
    "    grouping_for_cumulative = df_for_cumulative.groupby('BarGroupOrder', sort=False)\n",
    "\n",
    "    print(len(grouping_for_cumulative.groups))\n",
    "    if single:\n",
    "        fig, ax_single = plt.subplots(figsize=(10, 5))\n",
    "        if logx:\n",
    "            ax_single.set_xscale('log') \n",
    "        ax_single.set_xlim([0, 250])\n",
    "        ax_single.grid(axis='y')\n",
    "        ax_single.set_ylabel(\"Cumulative relative frequency\")\n",
    "    else:\n",
    "        fig, axes = plt.subplots(nrows=1, ncols=len(grouping_for_cumulative.groups), sharex=False, sharey=True, figsize=(10, 5))\n",
    "        for ax_index, one_ax in enumerate(axes):\n",
    "            if logx:\n",
    "                one_ax.set_xscale('log') \n",
    "            one_ax.grid(axis='y')\n",
    "            if ax_index == len(grouping_for_cumulative.groups)/2:\n",
    "                one_ax.set_xlabel(\"End-to-end delay (ms)\")\n",
    "            if ax_index == 0:\n",
    "                one_ax.set_ylabel(\"Cumulative relative frequency\")\n",
    "\n",
    "    hist_results = []\n",
    "\n",
    "    linestyles = {\n",
    "        \"Static 90\": 'solid',\n",
    "        \"Static 80\": 'dashed',\n",
    "        \"Static 70\": 'dashdot',\n",
    "        \"Static 60\": (0,(9,3,4,4)),\n",
    "        \"Variable Uniform Random 70 100\": 'dotted'\n",
    "    }\n",
    "    \n",
    "    def cumulative_histogram(df):\n",
    "        bargroup_index = df['BarGroupOrder'].values[0]\n",
    "        print(\"cumulative_histogram\", df[\"BarGroupID\"].values[0], bargroup_index)\n",
    "        ax = None\n",
    "        \n",
    "        if single:\n",
    "            ax = ax_single\n",
    "        else:\n",
    "            ax = axes[bargroup_index]\n",
    "\n",
    "        #, label=df['FullScenario'].values[0]+\" \"+df['BarGroup'].values[0]\n",
    "        n, bins, patches = ax.hist(df['MacDelay'], len(df), normed=1, histtype='step', cumulative=True, color=df[\"Color\"].values[0], linewidth=2.0)\n",
    "        ax.set_xlabel(df[\"BarGroupShort\"].values[0])#\"End-to-end delay (ms)\"\n",
    "        # just delete the last point\n",
    "        patches[0].set_xy(patches[0].get_xy()[:-1])\n",
    "        hist_results.append((n, bins, patches))\n",
    "        return None\n",
    "\n",
    "    grouping_for_cumulative.apply(cumulative_histogram)\n",
    "\n",
    "    ax_subtitle = fig.add_axes([0.25, -0.12, 0.5, 0.08], frame_on=False, xticks=[], xticklabels=[], yticks=[], yticklabels=[])\n",
    "    ax_subtitle.text(0.35, 0.5, 'End-to-end delay (ms)')\n",
    "    \n",
    "    fig.tight_layout(pad=0.00, h_pad=0, w_pad=0)\n",
    "#     plt.show()\n",
    "    fig.savefig(filename, dpi=200, bbox_inches='tight')\n",
    "\n",
    "# make_cdf('End-to-end-delay-CDF-10000pkts_panels x5_single_logx.pdf',single=True, logx=True)\n",
    "# make_cdf('End-to-end-delay-CDF-10000pkts_panels x5_logx.pdf',single=False, logx=True)\n",
    "#make_cdf('End-to-end-delay-CDF-10000pkts_panels x5_single.pdf',single=True, logx=False)\n",
    "make_cdf_panels_nolegend('End-to-end-delay-CDF-10000pkts_panels_nolegend x5.pdf',single=False, logx=False)"
   ]
  },
  {
   "cell_type": "code",
   "metadata": {
    "collapsed": true
   },
   "outputs": [],
   "source": []
  },
  {
   "cell_type": "code",
   "metadata": {
    "collapsed": true
   },
   "outputs": [],
   "source": []
  },
  {
   "cell_type": "code",
   "metadata": {
    "collapsed": true
   },
   "outputs": [],
   "source": []
  },
  {
   "cell_type": "code",
   "metadata": {
    "collapsed": true
   },
   "outputs": [],
   "source": []
  },
  {
   "cell_type": "code",
   "metadata": {
    "collapsed": true
   },
   "outputs": [],
   "source": []
  }
 ],
 "metadata": {
  "git": {
   "suppress_outputs": true
  },
  "kernelspec": {
   "display_name": "Python 2",
   "language": "python",
   "name": "python2"
  },
  "language_info": {
   "codemirror_mode": {
    "name": "ipython",
    "version": 2
   },
   "file_extension": ".py",
   "mimetype": "text/x-python",
   "name": "python",
   "nbconvert_exporter": "python",
   "pygments_lexer": "ipython2",
   "version": "2.7.13"
  }
 },
 "nbformat": 4,
 "nbformat_minor": 2
}