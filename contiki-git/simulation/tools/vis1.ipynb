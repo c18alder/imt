{
 "cells": [
  {
   "cell_type": "code",
   "metadata": {
    "collapsed": true
   },
   "outputs": [],
   "source": [
    "%matplotlib inline\n",
    "import pandas as pd\n",
    "import matplotlib.pyplot as plt\n",
    "import numpy as np"
   ]
  },
  {
   "cell_type": "code",
   "metadata": {
    "collapsed": true
   },
   "outputs": [],
   "source": [
    "pd.set_option('display.max_columns', 999)"
   ]
  },
  {
   "cell_type": "code",
   "metadata": {
    "scrolled": true
   },
   "outputs": [],
   "source": [
    "df = pd.read_csv(\"/home/aris/Coding/contiki-experiments/Untitled 1.csv\")\n",
    "df[14:17]"
   ]
  },
  {
   "cell_type": "code",
   "metadata": {},
   "outputs": [],
   "source": [
    "df.shape"
   ]
  },
  {
   "cell_type": "code",
   "metadata": {},
   "outputs": [],
   "source": [
    "list(df.columns)"
   ]
  },
  {
   "cell_type": "code",
   "metadata": {
    "collapsed": true
   },
   "outputs": [],
   "source": [
    "input_columns = ['SimDir',\n",
    " 'DataSendStartTimeInS',\n",
    " 'DataSendIntervalTimeInS',\n",
    " 'TschSchedulePrintIntervalInS',\n",
    " 'WithThunderAdaptiveEbSlot',\n",
    " 'SimulationEndTimeInS',\n",
    " 'PowertrackerIntervalTimeInS',\n",
    " 'PowertrackerInitialDelayTimeInS',\n",
    " 'RadioQualitySetTimeInS',\n",
    " 'GrandparentKillTimeInS',\n",
    " 'GrandchildOfGrandparentKillMoteId',\n",
    " 'RandomSeedNumber',\n",
    " 'TschConfMacMaxFrameRetries',\n",
    " 'LeapfrogRetries',\n",
    " 'RadioQualitySetQualityInPercent',\n",
    " 'RadioQualitySetRootQualityInPercent',\n",
    " 'MakeWithThunder',\n",
    " 'MakeWithLinkpeek',\n",
    " 'LinkpeekDefaultMaxParents',\n",
    " 'MakeWithLeapfrog',\n",
    " 'WithOverhearing',\n",
    " 'RadioQualityRandomSetMinQualityInPercent',\n",
    " 'RadioQualityRandomSetMaxQualityInPercent',\n",
    " 'RadioQualityRandomStartSetTimeInS',\n",
    " 'RadioQualityRandomSetIntervalTimeInS']"
   ]
  },
  {
   "cell_type": "code",
   "metadata": {},
   "outputs": [],
   "source": [
    "output_columns = list(set(df.columns) - set(input_columns))\n",
    "output_columns"
   ]
  },
  {
   "cell_type": "code",
   "metadata": {},
   "outputs": [],
   "source": [
    "group_by_columns = list(set(input_columns) -(set(input_columns) - set(df.columns)) -set(['SimDir', 'RandomSeedNumber']))\n",
    "group_by_columns"
   ]
  },
  {
   "cell_type": "code",
   "metadata": {},
   "outputs": [],
   "source": [
    "dfs = df.copy()\n",
    "for column_name in group_by_columns:\n",
    "    dfs[column_name] = dfs[column_name].apply(str)\n",
    "dfs.info()"
   ]
  },
  {
   "cell_type": "code",
   "metadata": {},
   "outputs": [],
   "source": [
    "dfg_grouping = dfs.groupby(group_by_columns)\n",
    "print(len(dfg_grouping.groups))\n",
    "aggregation_dict = {\n",
    "'PostKillSent':['sum', 'mean', 'count', 'std', 'min', 'max'],\n",
    " 'PreKillReceived':['sum', 'mean', 'count', 'std', 'min', 'max'],\n",
    " 'PreKillSent':['sum', 'mean', 'count', 'std', 'min', 'max'],\n",
    " 'PreKillNotReceived':['sum', 'mean', 'count', 'std', 'min', 'max'],\n",
    " 'PreKillPDR':['sum', 'mean', 'count', 'std', 'min', 'max'],\n",
    " 'PostKillReceived':['sum', 'mean', 'count', 'std', 'min', 'max'],\n",
    " 'PreKillReceivedUnique':['sum', 'mean', 'count', 'std', 'min', 'max'],\n",
    " 'PostKillPDR':['sum', 'mean', 'count', 'std', 'min', 'max'],\n",
    " 'PostKillReceivedUnique':['sum', 'mean', 'count', 'std', 'min', 'max'],\n",
    " 'PostKillNotReceived':['sum', 'mean', 'count', 'std', 'min', 'max']\n",
    "}\n",
    "\n",
    "dfg = dfg_grouping.aggregate(aggregation_dict)\n",
    "#dfg.columns = ['_'.join(tuple(map(str, t))).rstrip('_') for t in dfg.columns.values]\n",
    "#dfg.columns = dfg.columns.tolist()\n",
    "dfg.reset_index(inplace=True)\n",
    "dfg\n"
   ]
  },
  {
   "cell_type": "code",
   "metadata": {},
   "outputs": [],
   "source": [
    "dfg.info()\n"
   ]
  },
  {
   "cell_type": "code",
   "metadata": {
    "collapsed": true
   },
   "outputs": [],
   "source": [
    "def makeScenario(row):\n",
    "    if row['MakeWithLeapfrog'][0] == '1.0':\n",
    "        if row['TschConfMacMaxFrameRetries'][0] == '1' and row['WithOverhearing'][0] == '1.0':\n",
    "            return \"LFC\"\n",
    "        elif row['TschConfMacMaxFrameRetries'][0] == '1' and row['WithOverhearing'][0]=='nan':\n",
    "            return \"LFC -OH\"\n",
    "        elif row['TschConfMacMaxFrameRetries'][0] == '0' and row['WithOverhearing'][0] == '1.0':\n",
    "            return \"LFC 0RT\"\n",
    "        else:\n",
    "            return str((row['TschConfMacMaxFrameRetries'][0], row['WithOverhearing'][0]))\n",
    "    else:\n",
    "        return \"TSCH \"+str(row['TschConfMacMaxFrameRetries'][0])+\"RT\""
   ]
  },
  {
   "cell_type": "code",
   "metadata": {},
   "outputs": [],
   "source": [
    "dfg['Scenario'] = dfg.apply(makeScenario, axis=1)\n",
    "dfg['Scenario']"
   ]
  },
  {
   "cell_type": "code",
   "metadata": {},
   "outputs": [],
   "source": [
    "lfc_scenarios = ['LFC', 'LFC 0RT','LFC -OH']\n",
    "tsch_scenarios = ['TSCH 8RT', 'TSCH 6RT', 'TSCH 4RT', 'TSCH 2RT', 'TSCH 0RT']\n",
    "scenarios = lfc_scenarios + tsch_scenarios\n",
    "assert(set(scenarios) == set(np.unique(dfg['Scenario'])))\n",
    "scenarios"
   ]
  },
  {
   "cell_type": "code",
   "metadata": {},
   "outputs": [],
   "source": [
    "groups = list(reversed(sorted(np.unique(dfg['RadioQualitySetQualityInPercent']))))\n",
    "groups"
   ]
  },
  {
   "cell_type": "code",
   "metadata": {},
   "outputs": [],
   "source": [
    "# Setting the positions and width for the bars\n",
    "single_bar_width_used = 0.20\n",
    "single_bar_width = single_bar_width_used*1.20 #20% space\n",
    "group_width_used = len(scenarios)*single_bar_width\n",
    "group_width = group_width_used*1.20 #20% space\n",
    "group_width_unused = group_width - group_width_used\n",
    "\n",
    "# Plotting the bars\n",
    "fig, ax = plt.subplots(figsize=(10,5))\n",
    "\n",
    "kept_labels_plots = []\n",
    "def make_scenario_subgroup(x_offset, group_name, scenario_names, colormap):\n",
    "    for scenario_index, scenario_name in enumerate(scenario_names):\n",
    "        x = x_offset + scenario_index*single_bar_width\n",
    "        y = dfg[(dfg['Scenario'] == scenario_name) &\n",
    "                (dfg['RadioQualitySetQualityInPercent'] == group_name)\n",
    "               ][('PreKillPDR', 'mean')]*100\n",
    "        error = dfg[(dfg['Scenario'] == scenario_name) &\n",
    "                    (dfg['RadioQualitySetQualityInPercent'] == group_name)\n",
    "                   ][('PreKillPDR', 'std')]*100\n",
    "        label = str(scenario_name)\n",
    "        keptplot = ax.bar(x, \n",
    "                y, \n",
    "                # of width\n",
    "                single_bar_width_used, \n",
    "                # with alpha 0.5\n",
    "#                 alpha=0.5, \n",
    "                # with color\n",
    "                color=colormap(float(scenario_index)/len(scenario_names)),\n",
    "                label=label) \n",
    "        ax.errorbar(x, y, yerr=error, ecolor=\"#0000FF\", fmt='-o')\n",
    "        kept_labels_plots.append((label, keptplot))\n",
    "    \n",
    "for group_index, group_name in enumerate(groups):\n",
    "    group_offset = group_width*group_index\n",
    "    make_scenario_subgroup(group_offset, group_name, lfc_scenarios, plt.cm.Greens_r)\n",
    "    make_scenario_subgroup(group_offset+(single_bar_width*len(lfc_scenarios)), group_name, tsch_scenarios, plt.cm.Reds_r)\n",
    "\n",
    "\n",
    "# Set the y axis label\n",
    "ax.set_xlabel('Link quality in %')\n",
    "ax.set_ylabel('Packet Delivery Rate in %')\n",
    "\n",
    "# Set the chart's title\n",
    "ax.set_title('Packet Delivery Rate')\n",
    "\n",
    "# Set the position of the x ticks\n",
    "ax.set_xticks([group_index*group_width + 0.5 * group_width_used for group_index, group_name in enumerate(groups)])\n",
    "\n",
    "# Set the labels for the x ticks\n",
    "ax.set_xticklabels([str(group_name)+\"%\" for group_name in groups])\n",
    "\n",
    "# Setting the x-axis and y-axis limits\n",
    "plt.xlim(-0.5*single_bar_width, group_width*len(groups) - group_width_unused)\n",
    "plt.ylim([0, max(dfg['PreKillPDR', 'mean']*100+dfg['PreKillPDR', 'std']*100+10)] )\n",
    "\n",
    "# get handles\n",
    "\n",
    "kept_labels_plots_dict = dict(kept_labels_plots)\n",
    "\n",
    "# remove the errorbars\n",
    "#handles = [h[0] for h in handnano les]\n",
    "# use them in the legend\n",
    "# ax1.legend(handles, labels, loc='upper left',numpoints=1)\n",
    "\n",
    "# Adding the legend and showing the plot\n",
    "ax.legend([kept_labels_plots_dict[scenario] for scenario in scenarios], scenarios, bbox_to_anchor=(1, 1), numpoints=1)\n",
    "ax.grid(axis='y')\n",
    "plt.show()\n",
    "# plt.savefig('PDR-1000pkts x5.png', dpi=200, bbox_inches='tight')"
   ]
  },
  {
   "cell_type": "code",
   "metadata": {
    "collapsed": true
   },
   "outputs": [],
   "source": []
  }
 ],
 "metadata": {
  "git": {
   "suppress_outputs": true
  },
  "kernelspec": {
   "display_name": "Python 2",
   "language": "python",
   "name": "python2"
  },
  "language_info": {
   "codemirror_mode": {
    "name": "ipython",
    "version": 2
   },
   "file_extension": ".py",
   "mimetype": "text/x-python",
   "name": "python",
   "nbconvert_exporter": "python",
   "pygments_lexer": "ipython2",
   "version": "2.7.13"
  }
 },
 "nbformat": 4,
 "nbformat_minor": 2
}